{
 "cells": [
  {
   "cell_type": "markdown",
   "id": "6b1d4cc3",
   "metadata": {},
   "source": [
    "# print-function"
   ]
  },
  {
   "cell_type": "code",
   "execution_count": 1,
   "id": "3799ac43",
   "metadata": {},
   "outputs": [
    {
     "name": "stdout",
     "output_type": "stream",
     "text": [
      "Hello World\n"
     ]
    }
   ],
   "source": [
    "print(\"Hello World\")"
   ]
  },
  {
   "cell_type": "code",
   "execution_count": 2,
   "id": "0d9805d0",
   "metadata": {},
   "outputs": [
    {
     "name": "stdout",
     "output_type": "stream",
     "text": [
      "6\n"
     ]
    }
   ],
   "source": [
    "print(6)"
   ]
  },
  {
   "cell_type": "code",
   "execution_count": 3,
   "id": "d15fac3a",
   "metadata": {},
   "outputs": [
    {
     "name": "stdout",
     "output_type": "stream",
     "text": [
      "India Pakistan Nepal\n"
     ]
    }
   ],
   "source": [
    "print(\"India\",\"Pakistan\",\"Nepal\")"
   ]
  },
  {
   "cell_type": "code",
   "execution_count": 4,
   "id": "749aa3b8",
   "metadata": {},
   "outputs": [
    {
     "name": "stdout",
     "output_type": "stream",
     "text": [
      "India 5 True\n"
     ]
    }
   ],
   "source": [
    "print(\"India\",5,True)"
   ]
  },
  {
   "cell_type": "code",
   "execution_count": 5,
   "id": "88c1b9b8",
   "metadata": {},
   "outputs": [
    {
     "name": "stdout",
     "output_type": "stream",
     "text": [
      "India/Pakistan/Nepal\n"
     ]
    }
   ],
   "source": [
    "print(\"India\",\"Pakistan\",\"Nepal\",sep='/')"
   ]
  },
  {
   "cell_type": "code",
   "execution_count": 6,
   "id": "ddc0fbec",
   "metadata": {},
   "outputs": [
    {
     "name": "stdout",
     "output_type": "stream",
     "text": [
      "India-Pakistan-Nepal\n"
     ]
    }
   ],
   "source": [
    "print(\"India\",\"Pakistan\",\"Nepal\",sep='-')"
   ]
  },
  {
   "cell_type": "code",
   "execution_count": 7,
   "id": "0659488f",
   "metadata": {},
   "outputs": [
    {
     "name": "stdout",
     "output_type": "stream",
     "text": [
      "Hello\n",
      "World\n"
     ]
    }
   ],
   "source": [
    "print(\"Hello\")\n",
    "print(\"World\")"
   ]
  },
  {
   "cell_type": "code",
   "execution_count": 8,
   "id": "e7518ffa",
   "metadata": {},
   "outputs": [
    {
     "name": "stdout",
     "output_type": "stream",
     "text": [
      "Hello world\n"
     ]
    }
   ],
   "source": [
    "print(\"Hello\",end=' ')\n",
    "print(\"world\")"
   ]
  },
  {
   "cell_type": "markdown",
   "id": "b179e2d5",
   "metadata": {},
   "source": [
    "# Data types"
   ]
  },
  {
   "cell_type": "markdown",
   "id": "71e65dfb",
   "metadata": {},
   "source": [
    "# Python supports 3 categories of data types:\n",
    "1. Basic types - (integer,float,complex,boolean and string)\n",
    "2. Container types - (List,Tuples,Sets and Dictionary)\n",
    "3. User-defined types - Class"
   ]
  },
  {
   "cell_type": "code",
   "execution_count": 9,
   "id": "0a725c21",
   "metadata": {},
   "outputs": [
    {
     "name": "stdout",
     "output_type": "stream",
     "text": [
      "4\n",
      "600000000000000000000000000000000000000000000000000000000000000000000000000000000000\n",
      "inf\n"
     ]
    }
   ],
   "source": [
    "# integer\n",
    "print(4)\n",
    "print(600000000000000000000000000000000000000000000000000000000000000000000000000000000000)\n",
    "\n",
    "print(1e309)  # so this is the range as it's value is coming infinity"
   ]
  },
  {
   "cell_type": "code",
   "execution_count": 10,
   "id": "d360805b",
   "metadata": {},
   "outputs": [
    {
     "name": "stdout",
     "output_type": "stream",
     "text": [
      "4.5\n",
      "1.7e+308\n"
     ]
    }
   ],
   "source": [
    "# float\n",
    "print(4.5)\n",
    "\n",
    "print(1.7e308)"
   ]
  },
  {
   "cell_type": "code",
   "execution_count": 11,
   "id": "b37319eb",
   "metadata": {},
   "outputs": [
    {
     "name": "stdout",
     "output_type": "stream",
     "text": [
      "True\n",
      "False\n"
     ]
    }
   ],
   "source": [
    "# boolean\n",
    "print(True)\n",
    "print(False)"
   ]
  },
  {
   "cell_type": "code",
   "execution_count": 12,
   "id": "e742f5eb",
   "metadata": {},
   "outputs": [
    {
     "name": "stdout",
     "output_type": "stream",
     "text": [
      "(4+5j)\n"
     ]
    }
   ],
   "source": [
    "# complex\n",
    "print(4+5j)"
   ]
  },
  {
   "cell_type": "code",
   "execution_count": 13,
   "id": "6d0978f0",
   "metadata": {},
   "outputs": [
    {
     "name": "stdout",
     "output_type": "stream",
     "text": [
      "Kolkata\n",
      "Kolkata\n",
      "Kolkata\n"
     ]
    }
   ],
   "source": [
    "#string\n",
    "print('Kolkata')\n",
    "print(\"Kolkata\")\n",
    "print(\"\"\"Kolkata\"\"\")"
   ]
  },
  {
   "cell_type": "code",
   "execution_count": 14,
   "id": "23efae89",
   "metadata": {},
   "outputs": [
    {
     "name": "stdout",
     "output_type": "stream",
     "text": [
      "[1, 2, 3, 4, 5]\n"
     ]
    }
   ],
   "source": [
    "#List\n",
    "print([1,2,3,4,5])"
   ]
  },
  {
   "cell_type": "code",
   "execution_count": 15,
   "id": "32f51837",
   "metadata": {},
   "outputs": [
    {
     "name": "stdout",
     "output_type": "stream",
     "text": [
      "(1, 2, 3, 4, 5)\n"
     ]
    }
   ],
   "source": [
    "# tuple\n",
    "print((1,2,3,4,5))"
   ]
  },
  {
   "cell_type": "code",
   "execution_count": 16,
   "id": "108bb05b",
   "metadata": {},
   "outputs": [
    {
     "name": "stdout",
     "output_type": "stream",
     "text": [
      "{1, 2, 3, 4, 5}\n"
     ]
    }
   ],
   "source": [
    "# sets\n",
    "print({1,2,3,4,5})"
   ]
  },
  {
   "cell_type": "code",
   "execution_count": 17,
   "id": "51063c0e",
   "metadata": {},
   "outputs": [
    {
     "name": "stdout",
     "output_type": "stream",
     "text": [
      "{'Name': 'Nitish', 'Age': 30, 'gender': 'Male'}\n"
     ]
    }
   ],
   "source": [
    "# dict\n",
    "print({\"Name\":\"Nitish\",\"Age\":30,\"gender\":\"Male\"})"
   ]
  },
  {
   "cell_type": "markdown",
   "id": "699776e4",
   "metadata": {},
   "source": [
    "# Comments"
   ]
  },
  {
   "cell_type": "code",
   "execution_count": 18,
   "id": "cd9e8bff",
   "metadata": {},
   "outputs": [],
   "source": [
    "# comments\n",
    "# this is a comment"
   ]
  },
  {
   "cell_type": "markdown",
   "id": "a431ed25",
   "metadata": {},
   "source": [
    "# Variables"
   ]
  },
  {
   "cell_type": "code",
   "execution_count": 19,
   "id": "85d4f35d",
   "metadata": {},
   "outputs": [],
   "source": [
    "# In C language\n",
    "# int a = 5"
   ]
  },
  {
   "cell_type": "code",
   "execution_count": 20,
   "id": "43ccc917",
   "metadata": {},
   "outputs": [
    {
     "name": "stdout",
     "output_type": "stream",
     "text": [
      "Shayema\n"
     ]
    }
   ],
   "source": [
    "name=\"Shayema\"\n",
    "print(name)"
   ]
  },
  {
   "cell_type": "code",
   "execution_count": 21,
   "id": "fbd3eb41",
   "metadata": {},
   "outputs": [
    {
     "name": "stdout",
     "output_type": "stream",
     "text": [
      "Hello world\n"
     ]
    }
   ],
   "source": [
    "name = 'Hello world'\n",
    "print(name)"
   ]
  },
  {
   "cell_type": "code",
   "execution_count": 22,
   "id": "577ee7ae",
   "metadata": {},
   "outputs": [],
   "source": [
    "# no variable type declaration i.e., int , float , boolea"
   ]
  },
  {
   "cell_type": "code",
   "execution_count": 23,
   "id": "43bb964f",
   "metadata": {},
   "outputs": [],
   "source": [
    "# Dynamic typing in python\n",
    "# Static typing in others"
   ]
  },
  {
   "cell_type": "code",
   "execution_count": 24,
   "id": "ba685752",
   "metadata": {},
   "outputs": [
    {
     "name": "stdout",
     "output_type": "stream",
     "text": [
      "Hello world\n"
     ]
    }
   ],
   "source": [
    "print(name)"
   ]
  },
  {
   "cell_type": "code",
   "execution_count": 25,
   "id": "361fa1b6",
   "metadata": {},
   "outputs": [
    {
     "name": "stdout",
     "output_type": "stream",
     "text": [
      "4\n"
     ]
    }
   ],
   "source": [
    "name=4\n",
    "print(name)"
   ]
  },
  {
   "cell_type": "code",
   "execution_count": 26,
   "id": "cd4f403f",
   "metadata": {},
   "outputs": [
    {
     "name": "stdout",
     "output_type": "stream",
     "text": [
      "True\n"
     ]
    }
   ],
   "source": [
    "name=True\n",
    "print(name)"
   ]
  },
  {
   "cell_type": "code",
   "execution_count": 27,
   "id": "3d968d1c",
   "metadata": {},
   "outputs": [],
   "source": [
    "# Dynamic Binding"
   ]
  },
  {
   "cell_type": "code",
   "execution_count": 28,
   "id": "1bc2cece",
   "metadata": {},
   "outputs": [],
   "source": [
    "# Static Binding"
   ]
  },
  {
   "cell_type": "code",
   "execution_count": 29,
   "id": "fee49b99",
   "metadata": {},
   "outputs": [
    {
     "name": "stdout",
     "output_type": "stream",
     "text": [
      "5\n",
      "6\n",
      "7\n"
     ]
    }
   ],
   "source": [
    "# special syntax\n",
    "a=5;b=6;c=7\n",
    "print(a)\n",
    "print(b)\n",
    "print(c)"
   ]
  },
  {
   "cell_type": "code",
   "execution_count": 30,
   "id": "bc582635",
   "metadata": {},
   "outputs": [
    {
     "name": "stdout",
     "output_type": "stream",
     "text": [
      "4\n",
      "5\n",
      "6\n"
     ]
    }
   ],
   "source": [
    "a,b,c=4,5,6\n",
    "print(a)\n",
    "print(b)\n",
    "print(c)"
   ]
  },
  {
   "cell_type": "code",
   "execution_count": 31,
   "id": "4566afb5",
   "metadata": {},
   "outputs": [
    {
     "name": "stdout",
     "output_type": "stream",
     "text": [
      "6\n",
      "6\n",
      "6\n"
     ]
    }
   ],
   "source": [
    "a=b=c=6\n",
    "print(a)\n",
    "print(b)\n",
    "print(c)"
   ]
  },
  {
   "cell_type": "markdown",
   "id": "fb47f0c8",
   "metadata": {},
   "source": [
    "# Keywords\n",
    "Python is a case sensitive programming language. \n",
    "In programming, a keyword is a word that is reserved by a program because the word has a special meaning. Keywords can be commmands or paramters. Every programming language has a set of keywords that cannot be used as variable names."
   ]
  },
  {
   "cell_type": "code",
   "execution_count": 32,
   "id": "d6f009ba",
   "metadata": {},
   "outputs": [
    {
     "name": "stdout",
     "output_type": "stream",
     "text": [
      "['False', 'None', 'True', 'and', 'as', 'assert', 'async', 'await', 'break', 'class', 'continue', 'def', 'del', 'elif', 'else', 'except', 'finally', 'for', 'from', 'global', 'if', 'import', 'in', 'is', 'lambda', 'nonlocal', 'not', 'or', 'pass', 'raise', 'return', 'try', 'while', 'with', 'yield']\n"
     ]
    }
   ],
   "source": [
    "# python has 33 keywords\n",
    "import keyword\n",
    "print(keyword.kwlist)"
   ]
  },
  {
   "cell_type": "markdown",
   "id": "9f96bab4",
   "metadata": {},
   "source": [
    "# Identifiers\n",
    " A python identifier is a name used to identify a variable,function,class,module or other object.\n",
    " Rules for setting Identifiers\n",
    " 1. can only start with an alphabet or _\n",
    " 2. Followed by 0 or more letter,_ and digits\n",
    " 3. keywords cannot be used as an identifiers"
   ]
  },
  {
   "cell_type": "code",
   "execution_count": 33,
   "id": "80fec9a1",
   "metadata": {},
   "outputs": [
    {
     "name": "stdout",
     "output_type": "stream",
     "text": [
      "Shayema\n"
     ]
    }
   ],
   "source": [
    "_=\"Shayema\"\n",
    "print(_)"
   ]
  },
  {
   "cell_type": "code",
   "execution_count": 34,
   "id": "6f79cf3b",
   "metadata": {},
   "outputs": [
    {
     "name": "stdout",
     "output_type": "stream",
     "text": [
      "Shayema\n"
     ]
    }
   ],
   "source": [
    "name=\"Shayema\"\n",
    "print(name)"
   ]
  },
  {
   "cell_type": "code",
   "execution_count": 35,
   "id": "f13545a7",
   "metadata": {},
   "outputs": [
    {
     "ename": "SyntaxError",
     "evalue": "can't assign to literal (3112784726.py, line 1)",
     "output_type": "error",
     "traceback": [
      "\u001b[1;36m  File \u001b[1;32m\"C:\\Users\\USER\\AppData\\Local\\Temp\\ipykernel_3856\\3112784726.py\"\u001b[1;36m, line \u001b[1;32m1\u001b[0m\n\u001b[1;33m    2=\"Shayema\"\u001b[0m\n\u001b[1;37m               ^\u001b[0m\n\u001b[1;31mSyntaxError\u001b[0m\u001b[1;31m:\u001b[0m can't assign to literal\n"
     ]
    }
   ],
   "source": [
    "2=\"Shayema\"\n",
    "print(2)"
   ]
  },
  {
   "cell_type": "code",
   "execution_count": 36,
   "id": "87585dc7",
   "metadata": {},
   "outputs": [
    {
     "name": "stdout",
     "output_type": "stream",
     "text": [
      "Shayema\n"
     ]
    }
   ],
   "source": [
    "name1=\"Shayema\"\n",
    "print(name1)"
   ]
  },
  {
   "cell_type": "code",
   "execution_count": 37,
   "id": "31083d85",
   "metadata": {},
   "outputs": [
    {
     "ename": "SyntaxError",
     "evalue": "invalid syntax (3848382974.py, line 1)",
     "output_type": "error",
     "traceback": [
      "\u001b[1;36m  File \u001b[1;32m\"C:\\Users\\USER\\AppData\\Local\\Temp\\ipykernel_3856\\3848382974.py\"\u001b[1;36m, line \u001b[1;32m1\u001b[0m\n\u001b[1;33m    1name=\"Shayema\"\u001b[0m\n\u001b[1;37m        ^\u001b[0m\n\u001b[1;31mSyntaxError\u001b[0m\u001b[1;31m:\u001b[0m invalid syntax\n"
     ]
    }
   ],
   "source": [
    "1name=\"Shayema\"\n",
    "print(1name)"
   ]
  },
  {
   "cell_type": "code",
   "execution_count": 38,
   "id": "1b83697b",
   "metadata": {},
   "outputs": [
    {
     "name": "stdout",
     "output_type": "stream",
     "text": [
      "Shayema\n"
     ]
    }
   ],
   "source": [
    "first_name=\"Shayema\"\n",
    "print(first_name)"
   ]
  },
  {
   "cell_type": "code",
   "execution_count": 39,
   "id": "2a9ef921",
   "metadata": {},
   "outputs": [
    {
     "ename": "SyntaxError",
     "evalue": "can't assign to keyword (4077315560.py, line 1)",
     "output_type": "error",
     "traceback": [
      "\u001b[1;36m  File \u001b[1;32m\"C:\\Users\\USER\\AppData\\Local\\Temp\\ipykernel_3856\\4077315560.py\"\u001b[1;36m, line \u001b[1;32m1\u001b[0m\n\u001b[1;33m    False=\"Shayema\"\u001b[0m\n\u001b[1;37m                   ^\u001b[0m\n\u001b[1;31mSyntaxError\u001b[0m\u001b[1;31m:\u001b[0m can't assign to keyword\n"
     ]
    }
   ],
   "source": [
    "False=\"Shayema\"\n",
    "print(False)"
   ]
  },
  {
   "cell_type": "markdown",
   "id": "212cd959",
   "metadata": {},
   "source": [
    "# Taking-user-input and type-conversion"
   ]
  },
  {
   "cell_type": "code",
   "execution_count": 41,
   "id": "4124577b",
   "metadata": {},
   "outputs": [
    {
     "name": "stdout",
     "output_type": "stream",
     "text": [
      " your name Shayema\n"
     ]
    },
    {
     "data": {
      "text/plain": [
       "'Shayema'"
      ]
     },
     "execution_count": 41,
     "metadata": {},
     "output_type": "execute_result"
    }
   ],
   "source": [
    "input(prompt= \" your name \")"
   ]
  },
  {
   "cell_type": "code",
   "execution_count": 42,
   "id": "80a9463f",
   "metadata": {},
   "outputs": [
    {
     "name": "stdout",
     "output_type": "stream",
     "text": [
      " Enter the first number 56\n",
      " Enter the second number 76\n"
     ]
    }
   ],
   "source": [
    "first_num=input(\" Enter the first number \")\n",
    "second_num=input(\" Enter the second number \")"
   ]
  },
  {
   "cell_type": "code",
   "execution_count": 43,
   "id": "619e1015",
   "metadata": {},
   "outputs": [
    {
     "name": "stdout",
     "output_type": "stream",
     "text": [
      "56\n",
      "76\n"
     ]
    }
   ],
   "source": [
    "print(first_num)\n",
    "print(second_num)"
   ]
  },
  {
   "cell_type": "code",
   "execution_count": 44,
   "id": "10a8437c",
   "metadata": {},
   "outputs": [
    {
     "name": "stdout",
     "output_type": "stream",
     "text": [
      "5676\n"
     ]
    }
   ],
   "source": [
    "result=first_num + second_num\n",
    "print(result)"
   ]
  },
  {
   "cell_type": "code",
   "execution_count": 45,
   "id": "d11b258f",
   "metadata": {},
   "outputs": [
    {
     "data": {
      "text/plain": [
       "str"
      ]
     },
     "execution_count": 45,
     "metadata": {},
     "output_type": "execute_result"
    }
   ],
   "source": [
    "# type\n",
    "type(first_num)"
   ]
  },
  {
   "cell_type": "code",
   "execution_count": 46,
   "id": "cbc1d6d6",
   "metadata": {},
   "outputs": [],
   "source": [
    "# two types of conversion\n",
    "# implicit\n",
    "# explicit"
   ]
  },
  {
   "cell_type": "code",
   "execution_count": 47,
   "id": "61634423",
   "metadata": {},
   "outputs": [
    {
     "data": {
      "text/plain": [
       "9.5"
      ]
     },
     "execution_count": 47,
     "metadata": {},
     "output_type": "execute_result"
    }
   ],
   "source": [
    "4+5.5"
   ]
  },
  {
   "cell_type": "code",
   "execution_count": 48,
   "id": "f4b08a50",
   "metadata": {},
   "outputs": [
    {
     "data": {
      "text/plain": [
       "(11+7j)"
      ]
     },
     "execution_count": 48,
     "metadata": {},
     "output_type": "execute_result"
    }
   ],
   "source": [
    "5+6+7j"
   ]
  },
  {
   "cell_type": "code",
   "execution_count": 49,
   "id": "248f2d27",
   "metadata": {},
   "outputs": [
    {
     "data": {
      "text/plain": [
       "(9.5+5j)"
      ]
     },
     "execution_count": 49,
     "metadata": {},
     "output_type": "execute_result"
    }
   ],
   "source": [
    "4.5+5+5j"
   ]
  },
  {
   "cell_type": "code",
   "execution_count": 50,
   "id": "e0403799",
   "metadata": {},
   "outputs": [
    {
     "data": {
      "text/plain": [
       "'5676'"
      ]
     },
     "execution_count": 50,
     "metadata": {},
     "output_type": "execute_result"
    }
   ],
   "source": [
    "first_num+second_num"
   ]
  },
  {
   "cell_type": "code",
   "execution_count": 51,
   "id": "e2c0c692",
   "metadata": {},
   "outputs": [
    {
     "data": {
      "text/plain": [
       "1"
      ]
     },
     "execution_count": 51,
     "metadata": {},
     "output_type": "execute_result"
    }
   ],
   "source": [
    "# int\n",
    "int(\"1\")"
   ]
  },
  {
   "cell_type": "code",
   "execution_count": 52,
   "id": "30552304",
   "metadata": {},
   "outputs": [
    {
     "data": {
      "text/plain": [
       "1.0"
      ]
     },
     "execution_count": 52,
     "metadata": {},
     "output_type": "execute_result"
    }
   ],
   "source": [
    "float(1)"
   ]
  },
  {
   "cell_type": "code",
   "execution_count": 53,
   "id": "35ba3920",
   "metadata": {},
   "outputs": [
    {
     "data": {
      "text/plain": [
       "'1'"
      ]
     },
     "execution_count": 53,
     "metadata": {},
     "output_type": "execute_result"
    }
   ],
   "source": [
    "str(1)"
   ]
  },
  {
   "cell_type": "code",
   "execution_count": 54,
   "id": "64adf803",
   "metadata": {},
   "outputs": [
    {
     "data": {
      "text/plain": [
       "True"
      ]
     },
     "execution_count": 54,
     "metadata": {},
     "output_type": "execute_result"
    }
   ],
   "source": [
    "bool(1)"
   ]
  },
  {
   "cell_type": "code",
   "execution_count": 55,
   "id": "b71efaf6",
   "metadata": {},
   "outputs": [
    {
     "data": {
      "text/plain": [
       "(1+0j)"
      ]
     },
     "execution_count": 55,
     "metadata": {},
     "output_type": "execute_result"
    }
   ],
   "source": [
    "complex(1)"
   ]
  },
  {
   "cell_type": "code",
   "execution_count": 56,
   "id": "4f8ae915",
   "metadata": {},
   "outputs": [
    {
     "data": {
      "text/plain": [
       "['H', 'e', 'l', 'l', 'o']"
      ]
     },
     "execution_count": 56,
     "metadata": {},
     "output_type": "execute_result"
    }
   ],
   "source": [
    "list(\"Hello\")"
   ]
  },
  {
   "cell_type": "code",
   "execution_count": 57,
   "id": "2a7d2158",
   "metadata": {},
   "outputs": [
    {
     "ename": "ValueError",
     "evalue": "invalid literal for int() with base 10: 'Kolkata'",
     "output_type": "error",
     "traceback": [
      "\u001b[1;31m---------------------------------------------------------------------------\u001b[0m",
      "\u001b[1;31mValueError\u001b[0m                                Traceback (most recent call last)",
      "\u001b[1;32m~\\AppData\\Local\\Temp\\ipykernel_3856\\1509346321.py\u001b[0m in \u001b[0;36m<module>\u001b[1;34m\u001b[0m\n\u001b[1;32m----> 1\u001b[1;33m \u001b[0mint\u001b[0m\u001b[1;33m(\u001b[0m\u001b[1;34m\"Kolkata\"\u001b[0m\u001b[1;33m)\u001b[0m\u001b[1;33m\u001b[0m\u001b[1;33m\u001b[0m\u001b[0m\n\u001b[0m",
      "\u001b[1;31mValueError\u001b[0m: invalid literal for int() with base 10: 'Kolkata'"
     ]
    }
   ],
   "source": [
    "int(\"Kolkata\")   # not possible56\n"
   ]
  },
  {
   "cell_type": "code",
   "execution_count": 59,
   "id": "6fb7207d",
   "metadata": {},
   "outputs": [
    {
     "name": "stdout",
     "output_type": "stream",
     "text": [
      " Enter the first number 56\n",
      " Enter the second number 76\n",
      "56\n",
      "76\n",
      "132\n"
     ]
    }
   ],
   "source": [
    "first_num=int(input(\" Enter the first number \"))\n",
    "second_num=int(input(\" Enter the second number \"))\n",
    "\n",
    "print(first_num)\n",
    "print(second_num)\n",
    "\n",
    "result=first_num + second_num\n",
    "print(result)"
   ]
  },
  {
   "cell_type": "markdown",
   "id": "38471c5b",
   "metadata": {},
   "source": [
    "# Literals\n",
    "literal is a raw data given in a variable in Python, there are various types of literalsthey are as follows:\n",
    "    1. Numeric literals\n",
    "    2. String literals\n",
    "    3.Boolean literals\n",
    "    4. Special literals"
   ]
  },
  {
   "cell_type": "markdown",
   "id": "ff836784",
   "metadata": {},
   "source": [
    "# 1. Numeric Literals"
   ]
  },
  {
   "cell_type": "code",
   "execution_count": 60,
   "id": "ded06af9",
   "metadata": {},
   "outputs": [
    {
     "name": "stdout",
     "output_type": "stream",
     "text": [
      "10 100 200 300\n",
      "10.5 150.0 0.0015\n",
      "3.14j 3.14 0.0\n"
     ]
    }
   ],
   "source": [
    "a = 0b1010 # Binary Literals\n",
    "b = 100 # Decimal Literal\n",
    "c = 0o310 # Octal Literal\n",
    "d = 0x12c # Hexadecimal Literal\n",
    "\n",
    "#Float Literal\n",
    "float_1=10.5\n",
    "float_2=1.5e2\n",
    "float_3=1.5e-3\n",
    "\n",
    "#Complex Literal\n",
    "x=3.14j\n",
    "\n",
    "print(a,b,c,d)\n",
    "print(float_1,float_2,float_3)\n",
    "print(x,x.imag,x.real)"
   ]
  },
  {
   "cell_type": "markdown",
   "id": "9628a94c",
   "metadata": {},
   "source": [
    "# 2. String Literals"
   ]
  },
  {
   "cell_type": "code",
   "execution_count": 61,
   "id": "87f24ce8",
   "metadata": {},
   "outputs": [
    {
     "name": "stdout",
     "output_type": "stream",
     "text": [
      "This is Python\n",
      "This is python\n",
      "C\n",
      " This is a multiline string \n",
      "with more than one line code. \n",
      "😀😆🤣\n",
      "raw \\n string\n"
     ]
    }
   ],
   "source": [
    "string='This is Python'\n",
    "strings=\"This is python\"\n",
    "char=\"C\"\n",
    "multiline_str=\"\"\" This is a multiline string \n",
    "with more than one line code. \"\"\"\n",
    "unicode=u\"\\U0001f600\\U0001F606\\U0001F923\"\n",
    "raw_str=r\"raw \\n string\"\n",
    "\n",
    "print(string)\n",
    "print(strings)\n",
    "print(char)\n",
    "print(multiline_str)\n",
    "print(unicode)\n",
    "print(raw_str)"
   ]
  },
  {
   "cell_type": "markdown",
   "id": "2e784942",
   "metadata": {},
   "source": [
    "# 3. Boolean Literal"
   ]
  },
  {
   "cell_type": "code",
   "execution_count": 62,
   "id": "28bbdab1",
   "metadata": {},
   "outputs": [
    {
     "name": "stdout",
     "output_type": "stream",
     "text": [
      "a: 5\n",
      "b: 10\n"
     ]
    }
   ],
   "source": [
    "a=True+4\n",
    "b=False+10\n",
    "\n",
    "print(\"a:\", a)\n",
    "print(\"b:\", b)"
   ]
  },
  {
   "cell_type": "markdown",
   "id": "370d746b",
   "metadata": {},
   "source": [
    "# 4. Special Literal"
   ]
  },
  {
   "cell_type": "code",
   "execution_count": 63,
   "id": "d43504dc",
   "metadata": {},
   "outputs": [
    {
     "name": "stdout",
     "output_type": "stream",
     "text": [
      "None\n"
     ]
    }
   ],
   "source": [
    "a=None\n",
    "print(a)"
   ]
  },
  {
   "cell_type": "code",
   "execution_count": 64,
   "id": "1f104c31",
   "metadata": {},
   "outputs": [],
   "source": [
    "c=34+35"
   ]
  },
  {
   "cell_type": "code",
   "execution_count": 65,
   "id": "7f8c6a2a",
   "metadata": {},
   "outputs": [
    {
     "ename": "NameError",
     "evalue": "name 'k' is not defined",
     "output_type": "error",
     "traceback": [
      "\u001b[1;31m---------------------------------------------------------------------------\u001b[0m",
      "\u001b[1;31mNameError\u001b[0m                                 Traceback (most recent call last)",
      "\u001b[1;32m~\\AppData\\Local\\Temp\\ipykernel_3856\\3760656076.py\u001b[0m in \u001b[0;36m<module>\u001b[1;34m\u001b[0m\n\u001b[1;32m----> 1\u001b[1;33m \u001b[0mk\u001b[0m\u001b[1;33m\u001b[0m\u001b[1;33m\u001b[0m\u001b[0m\n\u001b[0m",
      "\u001b[1;31mNameError\u001b[0m: name 'k' is not defined"
     ]
    }
   ],
   "source": [
    "k"
   ]
  },
  {
   "cell_type": "code",
   "execution_count": 66,
   "id": "2ce947c6",
   "metadata": {},
   "outputs": [],
   "source": [
    "# variable declaration\n",
    "k=None"
   ]
  },
  {
   "cell_type": "markdown",
   "id": "18531e3d",
   "metadata": {},
   "source": [
    "# Operators\n",
    "operators are used to perform operations on variables and values.\n",
    "Python has the following operators:\n",
    "-Arithmetic\n",
    "-Comparision\n",
    "-Logical\n",
    "-Bitwise\n",
    "-Assignment\n",
    "-Identity\n",
    "-Memebership"
   ]
  },
  {
   "cell_type": "code",
   "execution_count": 67,
   "id": "6446adbf",
   "metadata": {},
   "outputs": [
    {
     "name": "stdout",
     "output_type": "stream",
     "text": [
      "7\n",
      "3\n",
      "10\n",
      "2.5\n",
      "1\n",
      "25\n",
      "2\n"
     ]
    }
   ],
   "source": [
    "# Arithmetic operators\n",
    "x=5\n",
    "y=2\n",
    "print(x+y)\n",
    "print(x-y)\n",
    "print(x*y)\n",
    "print(x/y)\n",
    "print(x%y)\n",
    "print(x**y)\n",
    "print(x//2)"
   ]
  },
  {
   "cell_type": "code",
   "execution_count": 68,
   "id": "cb353041",
   "metadata": {},
   "outputs": [
    {
     "name": "stdout",
     "output_type": "stream",
     "text": [
      "True\n",
      "False\n",
      "True\n",
      "False\n",
      "False\n",
      "True\n"
     ]
    }
   ],
   "source": [
    "#Comparision operators\n",
    "print(x>y)\n",
    "print(x<y)\n",
    "print(x>=y)\n",
    "print(x<=y)\n",
    "print(x==y)\n",
    "print(x!=y)"
   ]
  },
  {
   "cell_type": "code",
   "execution_count": 69,
   "id": "8a7f4707",
   "metadata": {},
   "outputs": [
    {
     "name": "stdout",
     "output_type": "stream",
     "text": [
      "True\n",
      "False\n",
      "False\n"
     ]
    }
   ],
   "source": [
    "#Logical operators\n",
    "x=True\n",
    "y=False\n",
    "print(x or y)\n",
    "print(x and y)\n",
    "print(not x)\n"
   ]
  },
  {
   "cell_type": "code",
   "execution_count": 70,
   "id": "622e13a8",
   "metadata": {},
   "outputs": [
    {
     "name": "stdout",
     "output_type": "stream",
     "text": [
      "2\n",
      "3\n",
      "0\n",
      "16\n",
      "-3\n"
     ]
    }
   ],
   "source": [
    "#Bitwise operators\n",
    "x=2\n",
    "y=3\n",
    "print(x & y)\n",
    "print(x|y)\n",
    "print(x>>y)\n",
    "print(x<<y)\n",
    "print(~x)\n"
   ]
  },
  {
   "cell_type": "code",
   "execution_count": 71,
   "id": "74346b02",
   "metadata": {},
   "outputs": [
    {
     "name": "stdout",
     "output_type": "stream",
     "text": [
      "3\n",
      "\n",
      "6\n",
      "\n",
      "3\n",
      "\n",
      "9\n",
      "\n",
      "1\n",
      "\n"
     ]
    }
   ],
   "source": [
    "#Assignment operators\n",
    "a=3\n",
    "print(a)\n",
    "print()\n",
    "\n",
    "a+=3\n",
    "print(a)\n",
    "print()\n",
    "\n",
    "a-=3\n",
    "print(a)\n",
    "print()\n",
    "\n",
    "a*=3\n",
    "print(a)\n",
    "print()\n",
    "\n",
    "a&=3\n",
    "print(a)\n",
    "print()"
   ]
  },
  {
   "cell_type": "code",
   "execution_count": 72,
   "id": "8a46907c",
   "metadata": {},
   "outputs": [
    {
     "name": "stdout",
     "output_type": "stream",
     "text": [
      "True\n",
      "\n",
      "True\n",
      "\n",
      "False\n",
      "\n",
      "False\n"
     ]
    }
   ],
   "source": [
    "#Identity operators\n",
    "a=3\n",
    "b=3\n",
    "print(a is b)\n",
    "print()\n",
    "\n",
    "\n",
    "a=\"Hello\"\n",
    "b=\"Hello\"\n",
    "print(a is b)\n",
    "print()\n",
    "\n",
    "\n",
    "a=[1,2,3]\n",
    "b=[1,2,3]\n",
    "print(a is b)\n",
    "print()\n",
    "\n",
    "\n",
    "a=\"Hello-World\"\n",
    "b=\"Hello-World\"\n",
    "print(a is b)\n",
    "\n",
    "# \"is\" opertator checks if two variables refer to the same object in memory, not just if their values are equal. "
   ]
  },
  {
   "cell_type": "code",
   "execution_count": 1,
   "id": "feef5855",
   "metadata": {},
   "outputs": [
    {
     "name": "stdout",
     "output_type": "stream",
     "text": [
      "True\n",
      "False\n",
      "\n",
      "True\n"
     ]
    }
   ],
   "source": [
    "#Membership\n",
    "x=\"Delhi\"\n",
    "print(\"D\" in x)\n",
    "print(\"D\" not in x)\n",
    "print()\n",
    "\n",
    "\n",
    "x=[1,2,3]\n",
    "print(1 in x)"
   ]
  },
  {
   "cell_type": "markdown",
   "id": "340f6cea",
   "metadata": {},
   "source": [
    "# If-else statement  and  Nested-If-else"
   ]
  },
  {
   "cell_type": "code",
   "execution_count": 2,
   "id": "949ee9d8",
   "metadata": {},
   "outputs": [
    {
     "name": "stdout",
     "output_type": "stream",
     "text": [
      "Apna email bata: campusx@gmail.com\n",
      "Apna password bhi bata: 1234\n",
      "Welcome\n"
     ]
    }
   ],
   "source": [
    "#correct email:- campusx@gmail.com\n",
    "#password:- 1234\n",
    "\n",
    "email=input(\"Apna email bata: \")\n",
    "password=input(\"Apna password bhi bata: \")\n",
    "\n",
    "if email==\"campusx@gmail.com\" and password==\"1234\":\n",
    "    print(\"Welcome\")\n",
    "else:\n",
    "    print(\"Incorrect credentials\")"
   ]
  },
  {
   "cell_type": "code",
   "execution_count": 4,
   "id": "e9dbfeeb",
   "metadata": {},
   "outputs": [
    {
     "name": "stdout",
     "output_type": "stream",
     "text": [
      "Apna email bata: campusx@gmail.com\n",
      "Apna password bhi bata: 12535\n",
      "Incorrect password\n",
      "Password fir se bol: 1234\n",
      "Finally correct\n"
     ]
    }
   ],
   "source": [
    "# When user says correct email nut incorrect password then give the user onbe more chance to give password\n",
    "email=input(\"Apna email bata: \")\n",
    "password=input(\"Apna password bhi bata: \")\n",
    "\n",
    "if email==\"campusx@gmail.com\" and password==\"1234\":\n",
    "    print(\"Welcome\")\n",
    "elif email==\"campusx@gmail.com\" and password!=\"1234\":\n",
    "    print(\"Incorrect password\")\n",
    "    password=input(\"Password fir se bol: \")\n",
    "    if password==\"1234\":\n",
    "        print(\"Finally correct\")\n",
    "    else:                                                      # Nested if else statement\n",
    "        print(\"Still incorrect\")                                       \n",
    "else:\n",
    "    print(\"Incorrect credentials\")"
   ]
  },
  {
   "cell_type": "code",
   "execution_count": 5,
   "id": "dbe7fae8",
   "metadata": {},
   "outputs": [
    {
     "name": "stdout",
     "output_type": "stream",
     "text": [
      "Apna email bata: dthjge654\n",
      "Email galat hai\n"
     ]
    }
   ],
   "source": [
    "# When @ is not present in email, then email and password is wrong\n",
    "\n",
    "email=input(\"Apna email bata: \")\n",
    "if \"@\" in email:\n",
    "    password=input(\"Apna password bhi bata: \")\n",
    "    \n",
    "    if email==\"campusx@gmail.com\" and password==\"1234\":\n",
    "        print(\"Welcome\")\n",
    "    elif email==\"campusx@gmail.com\" and password!=\"1234\":\n",
    "        print(\"Incorrect password\")\n",
    "        password=input(\"Password fir se bol: \")\n",
    "        if password==\"1234\":\n",
    "            print(\"Finally correct\")\n",
    "        else:                                                     \n",
    "            print(\"Still incorrect\")                                       \n",
    "    else:\n",
    "        print(\"Incorrect credentials\")\n",
    "\n",
    "else:\n",
    "    print(\"Email galat hai\")"
   ]
  },
  {
   "cell_type": "markdown",
   "id": "c4301a4c",
   "metadata": {},
   "source": [
    "# Indentation\n",
    "Indentation refers to the spaces at the beginning of aa code line. Python uses indentation to indicate a block of code"
   ]
  },
  {
   "cell_type": "code",
   "execution_count": 6,
   "id": "a9178c27",
   "metadata": {},
   "outputs": [
    {
     "name": "stdout",
     "output_type": "stream",
     "text": [
      "line3\n"
     ]
    }
   ],
   "source": [
    "name=\"244\"\n",
    "if name==\"xyz\":\n",
    "    print('line1')\n",
    "    print('line2')            # correct indentation\n",
    "else:\n",
    "    print('line3')                     "
   ]
  },
  {
   "cell_type": "code",
   "execution_count": 7,
   "id": "ffe76b0f",
   "metadata": {},
   "outputs": [
    {
     "ename": "IndentationError",
     "evalue": "expected an indented block (1384229735.py, line 3)",
     "output_type": "error",
     "traceback": [
      "\u001b[1;36m  File \u001b[1;32m\"C:\\Users\\USER\\AppData\\Local\\Temp\\ipykernel_3440\\1384229735.py\"\u001b[1;36m, line \u001b[1;32m3\u001b[0m\n\u001b[1;33m    print('line1')\u001b[0m\n\u001b[1;37m        ^\u001b[0m\n\u001b[1;31mIndentationError\u001b[0m\u001b[1;31m:\u001b[0m expected an indented block\n"
     ]
    }
   ],
   "source": [
    "name=\"244\"\n",
    "if name==\"xyz\":\n",
    "print('line1')\n",
    "    print('line2')            # incorrect indentation\n",
    "else:\n",
    "    print('line3')   "
   ]
  },
  {
   "cell_type": "markdown",
   "id": "5ab49cc7",
   "metadata": {},
   "source": [
    "# while loop\n",
    "A while loop is a control flow statement which repeatedly excutes a block of code until the condition is satified."
   ]
  },
  {
   "cell_type": "code",
   "execution_count": 8,
   "id": "642ff92d",
   "metadata": {},
   "outputs": [
    {
     "name": "stdout",
     "output_type": "stream",
     "text": [
      "Enter the number: 11\n",
      "11\n",
      "22\n",
      "33\n",
      "44\n",
      "55\n",
      "66\n",
      "77\n",
      "88\n",
      "99\n",
      "110\n"
     ]
    }
   ],
   "source": [
    "number=int(input(\"Enter the number: \"))\n",
    "i=1\n",
    "while i<11:\n",
    "    print(number*i)\n",
    "    i+=1"
   ]
  },
  {
   "cell_type": "code",
   "execution_count": 9,
   "id": "1701c899",
   "metadata": {},
   "outputs": [
    {
     "name": "stdout",
     "output_type": "stream",
     "text": [
      "Enter the number: 11\n",
      "11 * 1 = 11\n",
      "11 * 2 = 22\n",
      "11 * 3 = 33\n",
      "11 * 4 = 44\n",
      "11 * 5 = 55\n",
      "11 * 6 = 66\n",
      "11 * 7 = 77\n",
      "11 * 8 = 88\n",
      "11 * 9 = 99\n",
      "11 * 10 = 110\n"
     ]
    }
   ],
   "source": [
    "number=int(input(\"Enter the number: \"))\n",
    "i=1\n",
    "while i<11:\n",
    "    print(number,\"*\",i,\"=\",number*i)\n",
    "    i+=1"
   ]
  },
  {
   "cell_type": "markdown",
   "id": "7b26eb1c",
   "metadata": {},
   "source": [
    "# Guessing game"
   ]
  },
  {
   "cell_type": "code",
   "execution_count": 10,
   "id": "40af592f",
   "metadata": {},
   "outputs": [
    {
     "data": {
      "text/plain": [
       "83"
      ]
     },
     "execution_count": 10,
     "metadata": {},
     "output_type": "execute_result"
    }
   ],
   "source": [
    "import random\n",
    "random.randint(1,100)           # generates a random number in the range 1-100"
   ]
  },
  {
   "cell_type": "code",
   "execution_count": 11,
   "id": "304e2345",
   "metadata": {},
   "outputs": [
    {
     "name": "stdout",
     "output_type": "stream",
     "text": [
      "Chal guess kar: 30\n",
      "Guess higher\n",
      "Chal guess kaar: 50\n",
      "Guess higher\n",
      "Chal guess kaar: 70\n",
      "Guess lower\n",
      "Chal guess kaar: 60\n",
      "Guess lower\n",
      "Chal guess kaar: 55\n",
      "Guess higher\n",
      "Chal guess kaar: 57\n",
      "Guess lower\n",
      "Chal guess kaar: 59\n",
      "Guess lower\n",
      "Chal guess kaar: 58\n",
      "Guess lower\n",
      "Chal guess kaar: 56\n",
      "Sahi Jawab\n",
      "You took 9 attempts\n"
     ]
    }
   ],
   "source": [
    "jackpot=random.randint(1,100)\n",
    "guess=int(input(\"Chal guess kar: \"))\n",
    "counter=1\n",
    "while guess !=jackpot:\n",
    "    if guess<jackpot:\n",
    "        print(\"Guess higher\")\n",
    "    else:\n",
    "        print(\"Guess lower\")\n",
    "    guess=int(input(\"Chal guess kaar: \"))\n",
    "    counter+=1\n",
    "print(\"Sahi Jawab\")\n",
    "print(\"You took\",counter,\"attempts\")"
   ]
  },
  {
   "cell_type": "markdown",
   "id": "cfd548c0",
   "metadata": {},
   "source": [
    "# for loop\n",
    "A for loop is used for iterating over a sequence(that is either a list, a tuple, a dictionary, a set ,or a string)"
   ]
  },
  {
   "cell_type": "code",
   "execution_count": 12,
   "id": "0e2227ff",
   "metadata": {},
   "outputs": [
    {
     "data": {
      "text/plain": [
       "range(1, 11)"
      ]
     },
     "execution_count": 12,
     "metadata": {},
     "output_type": "execute_result"
    }
   ],
   "source": [
    "# range function\n",
    "range(1,11)"
   ]
  },
  {
   "cell_type": "code",
   "execution_count": 13,
   "id": "b991535c",
   "metadata": {},
   "outputs": [
    {
     "data": {
      "text/plain": [
       "[1, 2, 3, 4, 5, 6, 7, 8, 9, 10]"
      ]
     },
     "execution_count": 13,
     "metadata": {},
     "output_type": "execute_result"
    }
   ],
   "source": [
    "list(range(1,11))"
   ]
  },
  {
   "cell_type": "code",
   "execution_count": 14,
   "id": "f409f785",
   "metadata": {},
   "outputs": [
    {
     "data": {
      "text/plain": [
       "[0, 1, 2, 3, 4, 5, 6, 7, 8, 9, 10, 11, 12, 13, 14]"
      ]
     },
     "execution_count": 14,
     "metadata": {},
     "output_type": "execute_result"
    }
   ],
   "source": [
    "list(range(15))    # list(range(0,15))"
   ]
  },
  {
   "cell_type": "code",
   "execution_count": 15,
   "id": "b670ff72",
   "metadata": {},
   "outputs": [
    {
     "data": {
      "text/plain": [
       "[1, 3, 5, 7, 9]"
      ]
     },
     "execution_count": 15,
     "metadata": {},
     "output_type": "execute_result"
    }
   ],
   "source": [
    "list(range(1,11,2))"
   ]
  },
  {
   "cell_type": "code",
   "execution_count": 16,
   "id": "24df5500",
   "metadata": {},
   "outputs": [
    {
     "data": {
      "text/plain": [
       "[1, 4, 7, 10]"
      ]
     },
     "execution_count": 16,
     "metadata": {},
     "output_type": "execute_result"
    }
   ],
   "source": [
    "list(range(1,11,3))"
   ]
  },
  {
   "cell_type": "code",
   "execution_count": 17,
   "id": "46c7026d",
   "metadata": {},
   "outputs": [
    {
     "name": "stdout",
     "output_type": "stream",
     "text": [
      "1\n",
      "2\n",
      "3\n",
      "4\n",
      "5\n",
      "6\n",
      "7\n",
      "8\n",
      "9\n",
      "10\n"
     ]
    }
   ],
   "source": [
    "for i in range(1,11):\n",
    "    print(i)"
   ]
  },
  {
   "cell_type": "code",
   "execution_count": 18,
   "id": "bdc6fab4",
   "metadata": {},
   "outputs": [
    {
     "name": "stdout",
     "output_type": "stream",
     "text": [
      "1\n",
      "3\n",
      "5\n",
      "7\n",
      "9\n"
     ]
    }
   ],
   "source": [
    "for i in range(1,11,2):\n",
    "    print(i)"
   ]
  },
  {
   "cell_type": "code",
   "execution_count": 19,
   "id": "1dd43c23",
   "metadata": {},
   "outputs": [
    {
     "name": "stdout",
     "output_type": "stream",
     "text": [
      "10\n",
      "9\n",
      "8\n",
      "7\n",
      "6\n",
      "5\n",
      "4\n",
      "3\n",
      "2\n",
      "1\n"
     ]
    }
   ],
   "source": [
    "for i in range(10,0,-1):\n",
    "    print(i)"
   ]
  },
  {
   "cell_type": "code",
   "execution_count": 20,
   "id": "598bb390",
   "metadata": {},
   "outputs": [
    {
     "name": "stdout",
     "output_type": "stream",
     "text": [
      "K\n",
      "o\n",
      "l\n",
      "k\n",
      "a\n",
      "t\n",
      "a\n"
     ]
    }
   ],
   "source": [
    "for i in \"Kolkata\":\n",
    "    print(i)"
   ]
  },
  {
   "cell_type": "code",
   "execution_count": 21,
   "id": "804a6ec0",
   "metadata": {},
   "outputs": [
    {
     "name": "stdout",
     "output_type": "stream",
     "text": [
      "1\n",
      "2\n",
      "3\n",
      "4\n",
      "5\n"
     ]
    }
   ],
   "source": [
    "# lists\n",
    "for i in [1,2,3,4,5]:\n",
    "    print(i)"
   ]
  },
  {
   "cell_type": "code",
   "execution_count": 22,
   "id": "220f5755",
   "metadata": {},
   "outputs": [
    {
     "name": "stdout",
     "output_type": "stream",
     "text": [
      "1\n",
      "2\n",
      "3\n",
      "4\n",
      "5\n"
     ]
    }
   ],
   "source": [
    "#tuples\n",
    "for i in (1,2,3,4,5):\n",
    "    print(i)"
   ]
  },
  {
   "cell_type": "code",
   "execution_count": 23,
   "id": "4ede046f",
   "metadata": {},
   "outputs": [
    {
     "name": "stdout",
     "output_type": "stream",
     "text": [
      "1\n",
      "2\n",
      "3\n",
      "4\n",
      "5\n"
     ]
    }
   ],
   "source": [
    "#sets\n",
    "for i in {1,2,3,4,5}:\n",
    "    print(i)"
   ]
  },
  {
   "cell_type": "markdown",
   "id": "5271b9a9",
   "metadata": {},
   "source": [
    "# When to use for-loop and when to use while-loop"
   ]
  },
  {
   "cell_type": "code",
   "execution_count": 24,
   "id": "4e54ded2",
   "metadata": {},
   "outputs": [],
   "source": [
    "# for-loop is used when we know the no.of times , the loop will run.\n",
    "# While-loop is used when we don't know in beforehand that the no.of times, the loop will run."
   ]
  },
  {
   "cell_type": "markdown",
   "id": "eb953557",
   "metadata": {},
   "source": [
    "# Nested loops\n",
    "Nested loops means lops inside a loop."
   ]
  },
  {
   "cell_type": "code",
   "execution_count": 25,
   "id": "721971c9",
   "metadata": {},
   "outputs": [
    {
     "name": "stdout",
     "output_type": "stream",
     "text": [
      "Enter the number of rows: 5\n",
      "*  \n",
      "* *  \n",
      "* * *  \n",
      "* * * *  \n",
      "* * * * *  \n"
     ]
    }
   ],
   "source": [
    "rows=int(input(\"Enter the number of rows: \"))\n",
    "for i in range(1,rows+1):\n",
    "    for j in range(0,i):\n",
    "        print(\"*\",end=\" \")\n",
    "    print(\" \")"
   ]
  },
  {
   "cell_type": "markdown",
   "id": "7aeb128d",
   "metadata": {},
   "source": [
    "# Break, Continue and Pass statements"
   ]
  },
  {
   "cell_type": "code",
   "execution_count": 26,
   "id": "b5c1ecab",
   "metadata": {},
   "outputs": [
    {
     "name": "stdout",
     "output_type": "stream",
     "text": [
      "1\n",
      "2\n",
      "3\n",
      "4\n"
     ]
    }
   ],
   "source": [
    "# \"break\" allows you to exit a loop when an external condition is met.\n",
    "\n",
    "for i in range(1,11):\n",
    "    if i==5:\n",
    "        break\n",
    "    print(i)"
   ]
  },
  {
   "cell_type": "code",
   "execution_count": 27,
   "id": "1141cd19",
   "metadata": {},
   "outputs": [
    {
     "name": "stdout",
     "output_type": "stream",
     "text": [
      "1\n",
      "2\n",
      "3\n",
      "4\n",
      "6\n",
      "7\n",
      "8\n",
      "9\n",
      "10\n"
     ]
    }
   ],
   "source": [
    "# \"continue\" statement is used to skip the remaining code inside a loop for the current iteration only.\n",
    "\n",
    "for i in range(1,11):\n",
    "    if i==5:\n",
    "        continue\n",
    "    print(i)"
   ]
  },
  {
   "cell_type": "code",
   "execution_count": 28,
   "id": "f66ce823",
   "metadata": {},
   "outputs": [],
   "source": [
    "# \"pass\" statement is used as a placeholder for future code. When pass statement is executed,nothing happens but you avoid\n",
    "# getting an error when empty code is not allowed.\n",
    "\n",
    "for i in range(1,11):\n",
    "    pass"
   ]
  },
  {
   "cell_type": "code",
   "execution_count": 29,
   "id": "77519982",
   "metadata": {},
   "outputs": [
    {
     "ename": "SyntaxError",
     "evalue": "unexpected EOF while parsing (3014854016.py, line 1)",
     "output_type": "error",
     "traceback": [
      "\u001b[1;36m  File \u001b[1;32m\"C:\\Users\\USER\\AppData\\Local\\Temp\\ipykernel_3440\\3014854016.py\"\u001b[1;36m, line \u001b[1;32m1\u001b[0m\n\u001b[1;33m    for i in range(1,11):           # without \"pass: we get error\u001b[0m\n\u001b[1;37m                                                                 ^\u001b[0m\n\u001b[1;31mSyntaxError\u001b[0m\u001b[1;31m:\u001b[0m unexpected EOF while parsing\n"
     ]
    }
   ],
   "source": [
    "for i in range(1,11):           # without \"pass: we get error"
   ]
  },
  {
   "cell_type": "markdown",
   "id": "1143bd81",
   "metadata": {},
   "source": [
    "# Built-in functions\n",
    "Built-in functions are those functions whose functionality is pre-defined in python."
   ]
  },
  {
   "cell_type": "markdown",
   "id": "4863c8b4",
   "metadata": {},
   "source": [
    "# 1.print"
   ]
  },
  {
   "cell_type": "code",
   "execution_count": 30,
   "id": "7f92820c",
   "metadata": {},
   "outputs": [
    {
     "name": "stdout",
     "output_type": "stream",
     "text": [
      "Hello World\n"
     ]
    }
   ],
   "source": [
    "print(\"Hello World\")"
   ]
  },
  {
   "cell_type": "markdown",
   "id": "4b89e13b",
   "metadata": {},
   "source": [
    "# 2. input"
   ]
  },
  {
   "cell_type": "code",
   "execution_count": 31,
   "id": "ff657f9c",
   "metadata": {},
   "outputs": [
    {
     "name": "stdout",
     "output_type": "stream",
     "text": [
      "Enter your name : Shayema\n"
     ]
    },
    {
     "data": {
      "text/plain": [
       "'Shayema'"
      ]
     },
     "execution_count": 31,
     "metadata": {},
     "output_type": "execute_result"
    }
   ],
   "source": [
    "input(\"Enter your name : \")             # the o/p of input function is always in string format"
   ]
  },
  {
   "cell_type": "markdown",
   "id": "9f83ecba",
   "metadata": {},
   "source": [
    "# 3. type"
   ]
  },
  {
   "cell_type": "code",
   "execution_count": 32,
   "id": "5cab5659",
   "metadata": {},
   "outputs": [
    {
     "data": {
      "text/plain": [
       "int"
      ]
     },
     "execution_count": 32,
     "metadata": {},
     "output_type": "execute_result"
    }
   ],
   "source": [
    "a=3\n",
    "type(a)"
   ]
  },
  {
   "cell_type": "code",
   "execution_count": 33,
   "id": "28cd1565",
   "metadata": {},
   "outputs": [
    {
     "data": {
      "text/plain": [
       "float"
      ]
     },
     "execution_count": 33,
     "metadata": {},
     "output_type": "execute_result"
    }
   ],
   "source": [
    "a=3.5\n",
    "type(a)"
   ]
  },
  {
   "cell_type": "code",
   "execution_count": 34,
   "id": "6b878e92",
   "metadata": {},
   "outputs": [
    {
     "data": {
      "text/plain": [
       "bool"
      ]
     },
     "execution_count": 34,
     "metadata": {},
     "output_type": "execute_result"
    }
   ],
   "source": [
    "a=True\n",
    "type(a)"
   ]
  },
  {
   "cell_type": "markdown",
   "id": "632ad8ec",
   "metadata": {},
   "source": [
    "# 4. int , float , str , list , tuple "
   ]
  },
  {
   "cell_type": "code",
   "execution_count": 35,
   "id": "14d51e48",
   "metadata": {},
   "outputs": [
    {
     "data": {
      "text/plain": [
       "5"
      ]
     },
     "execution_count": 35,
     "metadata": {},
     "output_type": "execute_result"
    }
   ],
   "source": [
    "int(5.6)"
   ]
  },
  {
   "cell_type": "code",
   "execution_count": 36,
   "id": "16c8bb84",
   "metadata": {},
   "outputs": [
    {
     "data": {
      "text/plain": [
       "5"
      ]
     },
     "execution_count": 36,
     "metadata": {},
     "output_type": "execute_result"
    }
   ],
   "source": [
    "int('5')"
   ]
  },
  {
   "cell_type": "markdown",
   "id": "e4b1670c",
   "metadata": {},
   "source": [
    "# 5. abs\n",
    "absolute value=|a| like |-4|=4"
   ]
  },
  {
   "cell_type": "code",
   "execution_count": 37,
   "id": "0bf603b2",
   "metadata": {},
   "outputs": [
    {
     "data": {
      "text/plain": [
       "4"
      ]
     },
     "execution_count": 37,
     "metadata": {},
     "output_type": "execute_result"
    }
   ],
   "source": [
    "abs(-4)"
   ]
  },
  {
   "cell_type": "markdown",
   "id": "04ae0cfb",
   "metadata": {},
   "source": [
    "# 6. pow"
   ]
  },
  {
   "cell_type": "code",
   "execution_count": 38,
   "id": "da484b5f",
   "metadata": {},
   "outputs": [
    {
     "data": {
      "text/plain": [
       "8"
      ]
     },
     "execution_count": 38,
     "metadata": {},
     "output_type": "execute_result"
    }
   ],
   "source": [
    "pow(2,3)    # 2^3"
   ]
  },
  {
   "cell_type": "code",
   "execution_count": 39,
   "id": "20e8102a",
   "metadata": {},
   "outputs": [
    {
     "data": {
      "text/plain": [
       "0.125"
      ]
     },
     "execution_count": 39,
     "metadata": {},
     "output_type": "execute_result"
    }
   ],
   "source": [
    "pow(2,-3)   #2^-3"
   ]
  },
  {
   "cell_type": "markdown",
   "id": "18499c43",
   "metadata": {},
   "source": [
    "# 7. min / max"
   ]
  },
  {
   "cell_type": "code",
   "execution_count": 40,
   "id": "07d98bc6",
   "metadata": {},
   "outputs": [
    {
     "data": {
      "text/plain": [
       "0"
      ]
     },
     "execution_count": 40,
     "metadata": {},
     "output_type": "execute_result"
    }
   ],
   "source": [
    "min([2,1,3,0])"
   ]
  },
  {
   "cell_type": "code",
   "execution_count": 41,
   "id": "a5d7de10",
   "metadata": {},
   "outputs": [
    {
     "data": {
      "text/plain": [
       "3"
      ]
     },
     "execution_count": 41,
     "metadata": {},
     "output_type": "execute_result"
    }
   ],
   "source": [
    "max([2,1,3,0])"
   ]
  },
  {
   "cell_type": "code",
   "execution_count": 42,
   "id": "d9e8e31c",
   "metadata": {},
   "outputs": [
    {
     "data": {
      "text/plain": [
       "'K'"
      ]
     },
     "execution_count": 42,
     "metadata": {},
     "output_type": "execute_result"
    }
   ],
   "source": [
    "min(\"Kolkata\")           # depends on asci value"
   ]
  },
  {
   "cell_type": "code",
   "execution_count": 43,
   "id": "33b3c586",
   "metadata": {},
   "outputs": [
    {
     "data": {
      "text/plain": [
       "'t'"
      ]
     },
     "execution_count": 43,
     "metadata": {},
     "output_type": "execute_result"
    }
   ],
   "source": [
    "max(\"Kolkata\")           # depends on asci value"
   ]
  },
  {
   "cell_type": "markdown",
   "id": "f9c53fb3",
   "metadata": {},
   "source": [
    "# 8. round\n",
    "rounding off upto n decimal places"
   ]
  },
  {
   "cell_type": "code",
   "execution_count": 44,
   "id": "bae7f0f3",
   "metadata": {},
   "outputs": [
    {
     "name": "stdout",
     "output_type": "stream",
     "text": [
      "3.142857142857143\n"
     ]
    },
    {
     "data": {
      "text/plain": [
       "3"
      ]
     },
     "execution_count": 44,
     "metadata": {},
     "output_type": "execute_result"
    }
   ],
   "source": [
    "c=22/7\n",
    "print(c)\n",
    "\n",
    "round(c)"
   ]
  },
  {
   "cell_type": "code",
   "execution_count": 45,
   "id": "92d12e49",
   "metadata": {},
   "outputs": [
    {
     "data": {
      "text/plain": [
       "3.14"
      ]
     },
     "execution_count": 45,
     "metadata": {},
     "output_type": "execute_result"
    }
   ],
   "source": [
    "round(c,2)     # rounding off upto 2 decimal places"
   ]
  },
  {
   "cell_type": "markdown",
   "id": "9c9fb617",
   "metadata": {},
   "source": [
    "# 9. divmod\n",
    "\n",
    "divmod=(x//y,x%y)\n",
    "\n",
    "//-->integer division\n",
    "%-->modulus"
   ]
  },
  {
   "cell_type": "code",
   "execution_count": 46,
   "id": "800341ff",
   "metadata": {},
   "outputs": [
    {
     "data": {
      "text/plain": [
       "(2, 1)"
      ]
     },
     "execution_count": 46,
     "metadata": {},
     "output_type": "execute_result"
    }
   ],
   "source": [
    "divmod(5,2)"
   ]
  },
  {
   "cell_type": "markdown",
   "id": "11cd1321",
   "metadata": {},
   "source": [
    "# 10. bin / oct / hex "
   ]
  },
  {
   "cell_type": "code",
   "execution_count": 47,
   "id": "f7705d44",
   "metadata": {},
   "outputs": [
    {
     "data": {
      "text/plain": [
       "'0b100'"
      ]
     },
     "execution_count": 47,
     "metadata": {},
     "output_type": "execute_result"
    }
   ],
   "source": [
    "bin(4)"
   ]
  },
  {
   "cell_type": "code",
   "execution_count": 48,
   "id": "38e5b56e",
   "metadata": {},
   "outputs": [
    {
     "data": {
      "text/plain": [
       "'0o4'"
      ]
     },
     "execution_count": 48,
     "metadata": {},
     "output_type": "execute_result"
    }
   ],
   "source": [
    "oct(4)"
   ]
  },
  {
   "cell_type": "code",
   "execution_count": 49,
   "id": "2893d347",
   "metadata": {},
   "outputs": [
    {
     "data": {
      "text/plain": [
       "'0x4'"
      ]
     },
     "execution_count": 49,
     "metadata": {},
     "output_type": "execute_result"
    }
   ],
   "source": [
    "hex(4)"
   ]
  },
  {
   "cell_type": "markdown",
   "id": "d2c735e4",
   "metadata": {},
   "source": [
    "# 11. id\n",
    "address at memory"
   ]
  },
  {
   "cell_type": "code",
   "execution_count": 50,
   "id": "c61ee885",
   "metadata": {},
   "outputs": [
    {
     "data": {
      "text/plain": [
       "140708275715200"
      ]
     },
     "execution_count": 50,
     "metadata": {},
     "output_type": "execute_result"
    }
   ],
   "source": [
    "a=3\n",
    "id(a)"
   ]
  },
  {
   "cell_type": "markdown",
   "id": "fcaeeaa0",
   "metadata": {},
   "source": [
    "# 12. ord\n",
    "gives asci values"
   ]
  },
  {
   "cell_type": "code",
   "execution_count": 51,
   "id": "dd4335bc",
   "metadata": {},
   "outputs": [
    {
     "data": {
      "text/plain": [
       "99"
      ]
     },
     "execution_count": 51,
     "metadata": {},
     "output_type": "execute_result"
    }
   ],
   "source": [
    "ord('c')"
   ]
  },
  {
   "cell_type": "code",
   "execution_count": 52,
   "id": "652b8d2e",
   "metadata": {},
   "outputs": [
    {
     "data": {
      "text/plain": [
       "67"
      ]
     },
     "execution_count": 52,
     "metadata": {},
     "output_type": "execute_result"
    }
   ],
   "source": [
    "ord('C')"
   ]
  },
  {
   "cell_type": "code",
   "execution_count": 53,
   "id": "50d4d2a9",
   "metadata": {},
   "outputs": [
    {
     "data": {
      "text/plain": [
       "65"
      ]
     },
     "execution_count": 53,
     "metadata": {},
     "output_type": "execute_result"
    }
   ],
   "source": [
    "ord('A')"
   ]
  },
  {
   "cell_type": "markdown",
   "id": "e815bae9",
   "metadata": {},
   "source": [
    "# 13. len"
   ]
  },
  {
   "cell_type": "code",
   "execution_count": 54,
   "id": "3c853d36",
   "metadata": {},
   "outputs": [
    {
     "data": {
      "text/plain": [
       "7"
      ]
     },
     "execution_count": 54,
     "metadata": {},
     "output_type": "execute_result"
    }
   ],
   "source": [
    "len(\"Kolkata\")"
   ]
  },
  {
   "cell_type": "code",
   "execution_count": 55,
   "id": "e1a66e7a",
   "metadata": {},
   "outputs": [
    {
     "data": {
      "text/plain": [
       "4"
      ]
     },
     "execution_count": 55,
     "metadata": {},
     "output_type": "execute_result"
    }
   ],
   "source": [
    "len([1,2,3,4])"
   ]
  },
  {
   "cell_type": "markdown",
   "id": "a68073f4",
   "metadata": {},
   "source": [
    "# 14. sum"
   ]
  },
  {
   "cell_type": "code",
   "execution_count": 56,
   "id": "20c33100",
   "metadata": {},
   "outputs": [
    {
     "data": {
      "text/plain": [
       "21"
      ]
     },
     "execution_count": 56,
     "metadata": {},
     "output_type": "execute_result"
    }
   ],
   "source": [
    "sum([1,2,3,4,5,6])"
   ]
  },
  {
   "cell_type": "code",
   "execution_count": 57,
   "id": "dedab7da",
   "metadata": {},
   "outputs": [
    {
     "data": {
      "text/plain": [
       "17"
      ]
     },
     "execution_count": 57,
     "metadata": {},
     "output_type": "execute_result"
    }
   ],
   "source": [
    "sum({1,2,3,5,6})"
   ]
  },
  {
   "cell_type": "markdown",
   "id": "52d2b9c7",
   "metadata": {},
   "source": [
    "# 15. help"
   ]
  },
  {
   "cell_type": "code",
   "execution_count": 58,
   "id": "f9a9f2e7",
   "metadata": {},
   "outputs": [
    {
     "name": "stdout",
     "output_type": "stream",
     "text": [
      "Help on built-in function print in module builtins:\n",
      "\n",
      "print(...)\n",
      "    print(value, ..., sep=' ', end='\\n', file=sys.stdout, flush=False)\n",
      "    \n",
      "    Prints the values to a stream, or to sys.stdout by default.\n",
      "    Optional keyword arguments:\n",
      "    file:  a file-like object (stream); defaults to the current sys.stdout.\n",
      "    sep:   string inserted between values, default a space.\n",
      "    end:   string appended after the last value, default a newline.\n",
      "    flush: whether to forcibly flush the stream.\n",
      "\n"
     ]
    }
   ],
   "source": [
    "help('print')"
   ]
  },
  {
   "cell_type": "markdown",
   "id": "b27f20fb",
   "metadata": {},
   "source": [
    "# Built-in Modules\n",
    "\n",
    "What are modules??\n",
    "Consider a module to be the same as a code library. A file containing a set of functions you want to include in your application.\n",
    "Examples of python modules: math, random, os, time"
   ]
  },
  {
   "cell_type": "code",
   "execution_count": 59,
   "id": "a6d9e75c",
   "metadata": {},
   "outputs": [
    {
     "name": "stdout",
     "output_type": "stream",
     "text": [
      "\n",
      "Please wait a moment while I gather a list of all available modules...\n",
      "\n"
     ]
    },
    {
     "name": "stderr",
     "output_type": "stream",
     "text": [
      "c:\\users\\user\\appdata\\local\\programs\\python\\python37\\lib\\site-packages\\IPython\\kernel\\__init__.py:13: ShimWarning: The `IPython.kernel` package has been deprecated since IPython 4.0.You should import from ipykernel or jupyter_client instead.\n",
      "  \"You should import from ipykernel or jupyter_client instead.\", ShimWarning)\n",
      "c:\\users\\user\\appdata\\local\\programs\\python\\python37\\lib\\site-packages\\torch\\distributed\\_sharded_tensor\\__init__.py:10: DeprecationWarning: torch.distributed._sharded_tensor will be deprecated, use torch.distributed._shard.sharded_tensor instead\n",
      "  DeprecationWarning\n",
      "c:\\users\\user\\appdata\\local\\programs\\python\\python37\\lib\\site-packages\\torch\\distributed\\_sharding_spec\\__init__.py:10: DeprecationWarning: torch.distributed._sharding_spec will be deprecated, use torch.distributed._shard.sharding_spec instead\n",
      "  DeprecationWarning\n",
      "NOTE: Redirects are currently not supported in Windows or MacOs.\n",
      "c:\\users\\user\\appdata\\local\\programs\\python\\python37\\lib\\pkgutil.py:107: VisibleDeprecationWarning: zmq.eventloop.minitornado is deprecated in pyzmq 14.0 and will be removed.\n",
      "    Install tornado itself to use zmq with the tornado IOLoop.\n",
      "    \n",
      "  yield from walk_packages(path, info.name+'.', onerror)\n"
     ]
    },
    {
     "name": "stdout",
     "output_type": "stream",
     "text": [
      "IPython             cgitb               mmapfile            storemagic\n",
      "PIL                 chunk               mmsystem            string\n",
      "Regression_Pyspark  cmath               modulefinder        stringprep\n",
      "__future__          cmd                 msilib              struct\n",
      "_abc                code                msvcrt              subprocess\n",
      "_argon2_cffi_bindings codecs              multiprocessing     sunau\n",
      "_ast                codeop              nbclassic           symbol\n",
      "_asyncio            collections         nbclient            sympyprinting\n",
      "_bisect             colorama            nbconvert           symtable\n",
      "_blake2             colorsys            nbformat            sys\n",
      "_bootlocale         comm                nest_asyncio        sysconfig\n",
      "_bz2                commctrl            netbios             tabnanny\n",
      "_cffi_backend       compileall          netrc               tarfile\n",
      "_codecs             concurrent          nntplib             telnetlib\n",
      "_codecs_cn          configparser        notebook            tempfile\n",
      "_codecs_hk          contextlib          notebook_shim       terminado\n",
      "_codecs_iso2022     contextvars         nt                  test\n",
      "_codecs_jp          copy                ntpath              tests\n",
      "_codecs_kr          copyreg             ntsecuritycon       textwrap\n",
      "_codecs_tw          crypt               nturl2path          this\n",
      "_collections        csv                 numbers             threading\n",
      "_collections_abc    ctypes              numpy               threadpoolctl\n",
      "_compat_pickle      curses              odbc                time\n",
      "_compression        cycler              opcode              timeit\n",
      "_contextvars        cythonmagic         operator            timer\n",
      "_csv                dataclasses         optparse            tinycss2\n",
      "_ctypes             datetime            os                  tkinter\n",
      "_ctypes_test        dateutil            packaging           token\n",
      "_datetime           dbi                 pandas              tokenize\n",
      "_decimal            dbm                 pandocfilters       torch\n",
      "_dummy_thread       dde                 parser              torchgen\n",
      "_elementtree        debugpy             parso               tornado\n",
      "_functools          decimal             pathlib             trace\n",
      "_hashlib            decorator           pdb                 traceback\n",
      "_heapq              defusedxml          perfmon             tracemalloc\n",
      "_imp                difflib             pickle              traitlets\n",
      "_io                 dis                 pickleshare         tty\n",
      "_json               distutils           pickletools         turtle\n",
      "_locale             doctest             pip                 turtledemo\n",
      "_lsprof             dummy_threading     pipes               types\n",
      "_lzma               easy_install        pkg_resources       typing\n",
      "_markupbase         email               pkgutil             typing_extensions\n",
      "_md5                encodings           pkgutil_resolve_name unicodedata\n",
      "_msi                ensurepip           platform            unittest\n",
      "_multibytecodec     entrypoints         plistlib            urllib\n",
      "_multiprocessing    enum                poplib              uu\n",
      "_opcode             errno               posixpath           uuid\n",
      "_operator           exceptiongroup      pprint              venv\n",
      "_osx_support        fastjsonschema      profile             warnings\n",
      "_overlapped         faulthandler        prometheus_client   wave\n",
      "_pickle             filecmp             prompt_toolkit      wcwidth\n",
      "_py_abc             fileinput           pstats              weakref\n",
      "_pydecimal          findspark           psutil              webbrowser\n",
      "_pyio               fnmatch             pty                 webencodings\n",
      "_pyrsistent_version fontTools           pvectorc            websocket\n",
      "_queue              formatter           py4j                widgetsnbextension\n",
      "_random             fractions           py_compile          win2kras\n",
      "_sha1               ftplib              pyclbr              win32api\n",
      "_sha256             functools           pycparser           win32clipboard\n",
      "_sha3               functorch           pydoc               win32com\n",
      "_sha512             gc                  pydoc_data          win32con\n",
      "_signal             genericpath         pyexpat             win32console\n",
      "_sitebuiltins       getopt              pygments            win32cred\n",
      "_socket             getpass             pylab               win32crypt\n",
      "_sqlite3            gettext             pyparsing           win32cryptcon\n",
      "_sre                glob                pyrsistent          win32event\n",
      "_ssl                gzip                pyspark             win32evtlog\n",
      "_stat               hashlib             pythoncom           win32evtlogutil\n",
      "_string             heapq               pytz                win32file\n",
      "_strptime           hmac                pywin               win32gui\n",
      "_struct             html                pywin32_bootstrap   win32gui_struct\n",
      "_symtable           http                pywin32_testutil    win32help\n",
      "_testbuffer         idlelib             pywintypes          win32inet\n",
      "_testcapi           idna                qtconsole           win32inetcon\n",
      "_testconsole        imaplib             qtpy                win32job\n",
      "_testimportmultiple imghdr              queue               win32lz\n",
      "_testmultiphase     imp                 quopri              win32net\n",
      "_thread             importlib           random              win32netcon\n",
      "_threading_local    importlib_metadata  rasutil             win32pdh\n",
      "_tkinter            importlib_resources re                  win32pdhquery\n",
      "_tracemalloc        inspect             regcheck            win32pdhutil\n",
      "_warnings           io                  regutil             win32pipe\n",
      "_weakref            ipaddress           reprlib             win32print\n",
      "_weakrefset         ipykernel           rlcompleter         win32process\n",
      "_win32sysloader     ipykernel_launcher  rmagic              win32profile\n",
      "_winapi             ipython_genutils    runpy               win32ras\n",
      "_winxptheme         ipywidgets          sched               win32rcparser\n",
      "abc                 isapi               scipy               win32security\n",
      "adodbapi            itertools           seaborn             win32service\n",
      "afxres              jedi                secrets             win32serviceutil\n",
      "aifc                jinja2              select              win32timezone\n",
      "antigravity         joblib              selectors           win32trace\n",
      "anyio               json                send2trash          win32traceutil\n",
      "argon2              jsonschema          servicemanager      win32transaction\n",
      "argparse            jupyter             setuptools          win32ts\n",
      "array               jupyter_client      shelve              win32ui\n",
      "ast                 jupyter_console     shlex               win32uiole\n",
      "asynchat            jupyter_core        shutil              win32verstamp\n",
      "asyncio             jupyter_server      signal              win32wnet\n",
      "asyncore            jupyterlab_pygments site                winerror\n",
      "atexit              jupyterlab_widgets  six                 winioctlcon\n",
      "attr                keyword             sklearn             winnt\n",
      "attrs               kiwisolver          smtpd               winperf\n",
      "audioop             lib2to3             smtplib             winpty\n",
      "autoreload          linecache           sndhdr              winreg\n",
      "backcall            locale              sniffio             winsound\n",
      "base64              logging             socket              winxpgui\n",
      "bdb                 lzma                socketserver        winxptheme\n",
      "binascii            macpath             soupsieve           wsgiref\n",
      "binhex              mailbox             sqlite3             xdrlib\n",
      "bisect              mailcap             sre_compile         xml\n",
      "bleach              markupsafe          sre_constants       xmlrpc\n",
      "bs4                 marshal             sre_parse           xxsubtype\n",
      "builtins            math                ssl                 zipapp\n",
      "bz2                 matplotlib          sspi                zipfile\n",
      "cProfile            matplotlib_inline   sspicon             zipimport\n",
      "calendar            mimetypes           start_pythonwin     zipp\n",
      "cffi                mistune             stat                zlib\n",
      "cgi                 mmap                statistics          zmq\n",
      "\n",
      "Enter any module name to get more help.  Or, type \"modules spam\" to search\n",
      "for modules whose name or summary contain the string \"spam\".\n",
      "\n"
     ]
    }
   ],
   "source": [
    "help('modules')"
   ]
  },
  {
   "cell_type": "code",
   "execution_count": 60,
   "id": "4735967b",
   "metadata": {},
   "outputs": [],
   "source": [
    "import math     # in python"
   ]
  },
  {
   "cell_type": "code",
   "execution_count": 61,
   "id": "36a35009",
   "metadata": {},
   "outputs": [],
   "source": [
    "# include <stdio.h>   in C programming "
   ]
  },
  {
   "cell_type": "code",
   "execution_count": 62,
   "id": "8d5946b1",
   "metadata": {},
   "outputs": [
    {
     "data": {
      "text/plain": [
       "3.141592653589793"
      ]
     },
     "execution_count": 62,
     "metadata": {},
     "output_type": "execute_result"
    }
   ],
   "source": [
    "math.pi"
   ]
  },
  {
   "cell_type": "code",
   "execution_count": 63,
   "id": "0989b4b9",
   "metadata": {},
   "outputs": [
    {
     "data": {
      "text/plain": [
       "2.718281828459045"
      ]
     },
     "execution_count": 63,
     "metadata": {},
     "output_type": "execute_result"
    }
   ],
   "source": [
    "math.e"
   ]
  },
  {
   "cell_type": "code",
   "execution_count": 64,
   "id": "64e26272",
   "metadata": {},
   "outputs": [
    {
     "data": {
      "text/plain": [
       "120"
      ]
     },
     "execution_count": 64,
     "metadata": {},
     "output_type": "execute_result"
    }
   ],
   "source": [
    "math.factorial(5)"
   ]
  },
  {
   "cell_type": "code",
   "execution_count": 65,
   "id": "1bb3898b",
   "metadata": {},
   "outputs": [
    {
     "data": {
      "text/plain": [
       "7"
      ]
     },
     "execution_count": 65,
     "metadata": {},
     "output_type": "execute_result"
    }
   ],
   "source": [
    "math.ceil(6.3)"
   ]
  },
  {
   "cell_type": "code",
   "execution_count": 66,
   "id": "f82830f7",
   "metadata": {},
   "outputs": [
    {
     "data": {
      "text/plain": [
       "6"
      ]
     },
     "execution_count": 66,
     "metadata": {},
     "output_type": "execute_result"
    }
   ],
   "source": [
    "math.floor(6.9)"
   ]
  },
  {
   "cell_type": "code",
   "execution_count": 67,
   "id": "8b4457a6",
   "metadata": {},
   "outputs": [],
   "source": [
    "import random"
   ]
  },
  {
   "cell_type": "code",
   "execution_count": 68,
   "id": "f3f5587f",
   "metadata": {},
   "outputs": [
    {
     "data": {
      "text/plain": [
       "9"
      ]
     },
     "execution_count": 68,
     "metadata": {},
     "output_type": "execute_result"
    }
   ],
   "source": [
    "random.randint(1,34)"
   ]
  },
  {
   "cell_type": "code",
   "execution_count": 69,
   "id": "c0e5051f",
   "metadata": {},
   "outputs": [
    {
     "data": {
      "text/plain": [
       "[1, 2, 4, 5, 3]"
      ]
     },
     "execution_count": 69,
     "metadata": {},
     "output_type": "execute_result"
    }
   ],
   "source": [
    "a=[1,2,3,4,5]\n",
    "random.shuffle(a)       # shuffles the list every time\n",
    "a"
   ]
  },
  {
   "cell_type": "code",
   "execution_count": 70,
   "id": "9bf4aaf3",
   "metadata": {},
   "outputs": [],
   "source": [
    "import time"
   ]
  },
  {
   "cell_type": "code",
   "execution_count": 71,
   "id": "a8c76173",
   "metadata": {},
   "outputs": [
    {
     "data": {
      "text/plain": [
       "1710137135.7543738"
      ]
     },
     "execution_count": 71,
     "metadata": {},
     "output_type": "execute_result"
    }
   ],
   "source": [
    "time.time()            # gives timestamp from 1st Jan 1970 till today in secs"
   ]
  },
  {
   "cell_type": "code",
   "execution_count": 72,
   "id": "0048c40d",
   "metadata": {},
   "outputs": [
    {
     "data": {
      "text/plain": [
       "'Sun Mar 10 23:05:36 2024'"
      ]
     },
     "execution_count": 72,
     "metadata": {},
     "output_type": "execute_result"
    }
   ],
   "source": [
    "time.ctime()"
   ]
  },
  {
   "cell_type": "code",
   "execution_count": 73,
   "id": "c0bde113",
   "metadata": {},
   "outputs": [
    {
     "name": "stdout",
     "output_type": "stream",
     "text": [
      "Hello\n",
      "World\n"
     ]
    }
   ],
   "source": [
    "print(\"Hello\")\n",
    "time.sleep(1)           # takes delay of 1sec and then prints second word\n",
    "print(\"World\")"
   ]
  },
  {
   "cell_type": "code",
   "execution_count": 74,
   "id": "13b890c3",
   "metadata": {},
   "outputs": [],
   "source": [
    "import os"
   ]
  },
  {
   "cell_type": "code",
   "execution_count": 75,
   "id": "b4c9ee56",
   "metadata": {},
   "outputs": [
    {
     "data": {
      "text/plain": [
       "'C:\\\\Users\\\\USER'"
      ]
     },
     "execution_count": 75,
     "metadata": {},
     "output_type": "execute_result"
    }
   ],
   "source": [
    "os.getcwd()"
   ]
  },
  {
   "cell_type": "code",
   "execution_count": 76,
   "id": "cdf3e7b2",
   "metadata": {},
   "outputs": [
    {
     "data": {
      "text/plain": [
       "['.idlerc',\n",
       " '.ipynb_checkpoints',\n",
       " '.ipython',\n",
       " '.jupyter',\n",
       " '.kaggle',\n",
       " '.keras',\n",
       " '.matplotlib',\n",
       " '.scala_history',\n",
       " '.VirtualBox',\n",
       " '.vscode',\n",
       " '3D Objects',\n",
       " 'AppData',\n",
       " 'Application Data',\n",
       " 'CarPricePrediction.csv',\n",
       " 'CarPrice_Assignment.csv',\n",
       " 'car_data.csv',\n",
       " 'Classification_Using_Pyspark.ipynb',\n",
       " 'Contacts',\n",
       " 'Cookies',\n",
       " 'countries-life-expectancy',\n",
       " 'data.csv',\n",
       " 'data1.csv',\n",
       " 'Dataframe.ipynb',\n",
       " 'dataset.csv',\n",
       " 'Desktop',\n",
       " 'diamonds.csv',\n",
       " 'Different ways of creating DataFrames.ipynb',\n",
       " 'Documents',\n",
       " 'Downloads',\n",
       " 'Favorites',\n",
       " 'Insurance.csv',\n",
       " 'Insurance_multiple_variables.csv',\n",
       " 'Intel',\n",
       " 'Introduction of pandas.ipynb',\n",
       " 'kaggle.json',\n",
       " 'kaggle_dataset.ipynb',\n",
       " 'Life expectancy.csv',\n",
       " 'line.png',\n",
       " 'Links',\n",
       " 'Local Settings',\n",
       " 'Machine Learning.ipynb',\n",
       " 'Matplotlib.ipynb',\n",
       " 'Music',\n",
       " 'My Documents',\n",
       " 'NetHood',\n",
       " 'NTUSER.DAT',\n",
       " 'ntuser.dat.LOG1',\n",
       " 'ntuser.dat.LOG2',\n",
       " 'NTUSER.DAT{53b39e88-18c4-11ea-a811-000d3aa4692b}.TM.blf',\n",
       " 'NTUSER.DAT{53b39e88-18c4-11ea-a811-000d3aa4692b}.TMContainer00000000000000000001.regtrans-ms',\n",
       " 'NTUSER.DAT{53b39e88-18c4-11ea-a811-000d3aa4692b}.TMContainer00000000000000000002.regtrans-ms',\n",
       " 'ntuser.ini',\n",
       " 'NumPy.ipynb',\n",
       " 'OneDrive',\n",
       " 'pandas Introoduction.ipynb',\n",
       " 'Pandas.ipynb',\n",
       " 'Pictures',\n",
       " 'pipeline_saved_model',\n",
       " 'Positions_salary.csv',\n",
       " 'PrintHood',\n",
       " 'pyspark DataFrames_2.ipynb',\n",
       " 'pyspark Handling missing values_3.ipynb',\n",
       " 'pyspark Introductoin_1.ipynb',\n",
       " 'pyspark-Filter Operation_4.ipynb',\n",
       " 'pyspark_GroupBy_And_Aggregate_functions_5.ipynb',\n",
       " 'pyspark_Mlib_6.ipynb',\n",
       " 'pyspark_test_data.csv',\n",
       " 'pyspark_test_data_2.csv',\n",
       " 'pyspark_test_data_3.csv',\n",
       " 'pyspark_test_data_4.csv',\n",
       " 'pyspark_test_data_5.csv',\n",
       " 'Python.ipynb',\n",
       " 'read_csv.ipynb',\n",
       " 'Recent',\n",
       " 'Regression_Pyspark.ipynb',\n",
       " 'Regression_Pyspark.py',\n",
       " 'Regression_Pyspark_1.ipynb',\n",
       " 'Regression_using_Pyspark.ipynb',\n",
       " 'Saved Games',\n",
       " 'Searches',\n",
       " 'SendTo',\n",
       " 'Start Menu',\n",
       " 'Templates',\n",
       " 'TensorFlow basics.ipynb',\n",
       " 'Test_new.csv',\n",
       " 'untitled.txt',\n",
       " 'Untitled4.ipynb',\n",
       " 'Videos',\n",
       " 'VirtualBox VMs',\n",
       " 'weather-data-in-new-york-city-2016',\n",
       " 'weather_data.xlsx',\n",
       " 'weather_data_nyc_centralpark_2016(1).csv']"
      ]
     },
     "execution_count": 76,
     "metadata": {},
     "output_type": "execute_result"
    }
   ],
   "source": [
    "os.listdir()"
   ]
  },
  {
   "cell_type": "markdown",
   "id": "f6470293",
   "metadata": {},
   "source": [
    "# Strings\n",
    " Strings are sequence of characters.\n",
    " In Python specifically, strings are a sequence of Unicode Characters.\n"
   ]
  },
  {
   "cell_type": "markdown",
   "id": "2e7f8437",
   "metadata": {},
   "source": [
    "# 1. Creating Strings"
   ]
  },
  {
   "cell_type": "code",
   "execution_count": 77,
   "id": "0883ade7",
   "metadata": {},
   "outputs": [
    {
     "name": "stdout",
     "output_type": "stream",
     "text": [
      "Hello\n"
     ]
    }
   ],
   "source": [
    "c='Hello'\n",
    "print(c)"
   ]
  },
  {
   "cell_type": "code",
   "execution_count": 78,
   "id": "15c38e18",
   "metadata": {},
   "outputs": [
    {
     "name": "stdout",
     "output_type": "stream",
     "text": [
      "Hello\n"
     ]
    }
   ],
   "source": [
    "c=\"Hello\"\n",
    "print(c)"
   ]
  },
  {
   "cell_type": "code",
   "execution_count": 79,
   "id": "7c0a2b28",
   "metadata": {},
   "outputs": [
    {
     "ename": "SyntaxError",
     "evalue": "invalid syntax (2979369800.py, line 1)",
     "output_type": "error",
     "traceback": [
      "\u001b[1;36m  File \u001b[1;32m\"C:\\Users\\USER\\AppData\\Local\\Temp\\ipykernel_3440\\2979369800.py\"\u001b[1;36m, line \u001b[1;32m1\u001b[0m\n\u001b[1;33m    'It's raining outside'\u001b[0m\n\u001b[1;37m        ^\u001b[0m\n\u001b[1;31mSyntaxError\u001b[0m\u001b[1;31m:\u001b[0m invalid syntax\n"
     ]
    }
   ],
   "source": [
    "'It's raining outside'       "
   ]
  },
  {
   "cell_type": "code",
   "execution_count": 80,
   "id": "4558e2f0",
   "metadata": {},
   "outputs": [
    {
     "data": {
      "text/plain": [
       "\"It's raining outside\""
      ]
     },
     "execution_count": 80,
     "metadata": {},
     "output_type": "execute_result"
    }
   ],
   "source": [
    "\"It's raining outside\"    # to avoid the above error we use \" \""
   ]
  },
  {
   "cell_type": "code",
   "execution_count": 81,
   "id": "56bdf14e",
   "metadata": {},
   "outputs": [
    {
     "name": "stdout",
     "output_type": "stream",
     "text": [
      " Hello \n"
     ]
    }
   ],
   "source": [
    "c=''' Hello '''\n",
    "print(c)\n",
    "# multi line strings"
   ]
  },
  {
   "cell_type": "code",
   "execution_count": 82,
   "id": "0b7c6630",
   "metadata": {},
   "outputs": [
    {
     "data": {
      "text/plain": [
       "'Hello'"
      ]
     },
     "execution_count": 82,
     "metadata": {},
     "output_type": "execute_result"
    }
   ],
   "source": [
    "c=str(\"Hello\")\n",
    "c"
   ]
  },
  {
   "cell_type": "markdown",
   "id": "4a57fedb",
   "metadata": {},
   "source": [
    "# 2. Accessing Substrings from a String"
   ]
  },
  {
   "cell_type": "code",
   "execution_count": 83,
   "id": "15a0ba4f",
   "metadata": {},
   "outputs": [
    {
     "name": "stdout",
     "output_type": "stream",
     "text": [
      "hello\n"
     ]
    }
   ],
   "source": [
    "# Concept of Indexing\n",
    "c=\"hello\"\n",
    "print(c)"
   ]
  },
  {
   "cell_type": "code",
   "execution_count": 84,
   "id": "7398a571",
   "metadata": {},
   "outputs": [
    {
     "name": "stdout",
     "output_type": "stream",
     "text": [
      "h\n"
     ]
    }
   ],
   "source": [
    "print(c[0])"
   ]
  },
  {
   "cell_type": "code",
   "execution_count": 85,
   "id": "239cfbee",
   "metadata": {},
   "outputs": [
    {
     "name": "stdout",
     "output_type": "stream",
     "text": [
      "e\n"
     ]
    }
   ],
   "source": [
    "print(c[1])"
   ]
  },
  {
   "cell_type": "code",
   "execution_count": 86,
   "id": "e5279bd2",
   "metadata": {},
   "outputs": [
    {
     "name": "stdout",
     "output_type": "stream",
     "text": [
      "l\n"
     ]
    }
   ],
   "source": [
    "print(c[2])"
   ]
  },
  {
   "cell_type": "code",
   "execution_count": 87,
   "id": "c79c3743",
   "metadata": {},
   "outputs": [
    {
     "name": "stdout",
     "output_type": "stream",
     "text": [
      "l\n"
     ]
    }
   ],
   "source": [
    "print(c[3])"
   ]
  },
  {
   "cell_type": "code",
   "execution_count": 88,
   "id": "f3b1aa21",
   "metadata": {},
   "outputs": [
    {
     "name": "stdout",
     "output_type": "stream",
     "text": [
      "o\n"
     ]
    }
   ],
   "source": [
    "print(c[4])"
   ]
  },
  {
   "cell_type": "code",
   "execution_count": 89,
   "id": "0e153023",
   "metadata": {},
   "outputs": [
    {
     "name": "stdout",
     "output_type": "stream",
     "text": [
      "o\n",
      "l\n",
      "l\n"
     ]
    }
   ],
   "source": [
    "# Types of indexing ---> positive and negative indexing\n",
    "print(c[-1])\n",
    "\n",
    "print(c[-2])\n",
    "\n",
    "print(c[-3])"
   ]
  },
  {
   "cell_type": "code",
   "execution_count": 90,
   "id": "efcffdd9",
   "metadata": {},
   "outputs": [
    {
     "name": "stdout",
     "output_type": "stream",
     "text": [
      "Hello World\n"
     ]
    }
   ],
   "source": [
    "# slicing\n",
    "c=\"Hello World\"\n",
    "print(c)"
   ]
  },
  {
   "cell_type": "code",
   "execution_count": 91,
   "id": "830e006b",
   "metadata": {},
   "outputs": [
    {
     "name": "stdout",
     "output_type": "stream",
     "text": [
      "Hell\n"
     ]
    }
   ],
   "source": [
    "print(c[0:4])"
   ]
  },
  {
   "cell_type": "code",
   "execution_count": 92,
   "id": "95eaf7ce",
   "metadata": {},
   "outputs": [
    {
     "name": "stdout",
     "output_type": "stream",
     "text": [
      "Hello\n"
     ]
    }
   ],
   "source": [
    "print(c[0:5])"
   ]
  },
  {
   "cell_type": "code",
   "execution_count": 93,
   "id": "5931618d",
   "metadata": {},
   "outputs": [
    {
     "name": "stdout",
     "output_type": "stream",
     "text": [
      "llo World\n"
     ]
    }
   ],
   "source": [
    "print(c[2:])"
   ]
  },
  {
   "cell_type": "code",
   "execution_count": 94,
   "id": "c9e789bf",
   "metadata": {},
   "outputs": [
    {
     "name": "stdout",
     "output_type": "stream",
     "text": [
      "Hell\n"
     ]
    }
   ],
   "source": [
    "print(c[:4])"
   ]
  },
  {
   "cell_type": "code",
   "execution_count": 95,
   "id": "ee2246b3",
   "metadata": {},
   "outputs": [
    {
     "name": "stdout",
     "output_type": "stream",
     "text": [
      "Hello World\n"
     ]
    }
   ],
   "source": [
    "print(c[:])"
   ]
  },
  {
   "cell_type": "code",
   "execution_count": 96,
   "id": "a6f6c748",
   "metadata": {},
   "outputs": [
    {
     "name": "stdout",
     "output_type": "stream",
     "text": [
      "lo\n"
     ]
    }
   ],
   "source": [
    "print(c[2:6:2])"
   ]
  },
  {
   "cell_type": "code",
   "execution_count": 97,
   "id": "f270b1f3",
   "metadata": {},
   "outputs": [
    {
     "name": "stdout",
     "output_type": "stream",
     "text": [
      "HlW\n"
     ]
    }
   ],
   "source": [
    "print(c[0:8:3])"
   ]
  },
  {
   "cell_type": "code",
   "execution_count": 98,
   "id": "34b9310e",
   "metadata": {},
   "outputs": [
    {
     "name": "stdout",
     "output_type": "stream",
     "text": [
      "\n"
     ]
    }
   ],
   "source": [
    "print(c[0:6:-1])    # o/p is nothing because when we work with positive indexes, we can't take negative steps"
   ]
  },
  {
   "cell_type": "code",
   "execution_count": 99,
   "id": "a9d00c6c",
   "metadata": {},
   "outputs": [
    {
     "name": "stdout",
     "output_type": "stream",
     "text": [
      "dlroW olleH\n"
     ]
    }
   ],
   "source": [
    "print(c[::-1])  # string is reversed"
   ]
  },
  {
   "cell_type": "code",
   "execution_count": 100,
   "id": "f3b0ed5a",
   "metadata": {},
   "outputs": [
    {
     "name": "stdout",
     "output_type": "stream",
     "text": [
      "dlro\n"
     ]
    }
   ],
   "source": [
    "print(c[-1:-5:-1])"
   ]
  },
  {
   "cell_type": "markdown",
   "id": "d0f3ff89",
   "metadata": {},
   "source": [
    "# 3. Editing and Deleting in strings"
   ]
  },
  {
   "cell_type": "code",
   "execution_count": 101,
   "id": "691bd246",
   "metadata": {},
   "outputs": [
    {
     "name": "stdout",
     "output_type": "stream",
     "text": [
      "Hello\n"
     ]
    }
   ],
   "source": [
    "c=\"Hello\"\n",
    "print(c)"
   ]
  },
  {
   "cell_type": "code",
   "execution_count": 102,
   "id": "a0b9ed48",
   "metadata": {},
   "outputs": [
    {
     "ename": "TypeError",
     "evalue": "'str' object does not support item assignment",
     "output_type": "error",
     "traceback": [
      "\u001b[1;31m---------------------------------------------------------------------------\u001b[0m",
      "\u001b[1;31mTypeError\u001b[0m                                 Traceback (most recent call last)",
      "\u001b[1;32m~\\AppData\\Local\\Temp\\ipykernel_3440\\3372755659.py\u001b[0m in \u001b[0;36m<module>\u001b[1;34m\u001b[0m\n\u001b[0;32m      1\u001b[0m \u001b[1;31m# Here we want to replace 'H' with 'X'\u001b[0m\u001b[1;33m\u001b[0m\u001b[1;33m\u001b[0m\u001b[1;33m\u001b[0m\u001b[0m\n\u001b[1;32m----> 2\u001b[1;33m \u001b[0mc\u001b[0m\u001b[1;33m[\u001b[0m\u001b[1;36m0\u001b[0m\u001b[1;33m]\u001b[0m\u001b[1;33m=\u001b[0m\u001b[1;34m'X'\u001b[0m    \u001b[1;31m# o/p will give error as 'str' object does not support item assignment\u001b[0m\u001b[1;33m\u001b[0m\u001b[1;33m\u001b[0m\u001b[0m\n\u001b[0m",
      "\u001b[1;31mTypeError\u001b[0m: 'str' object does not support item assignment"
     ]
    }
   ],
   "source": [
    "# Here we want to replace 'H' with 'X'\n",
    "c[0]='X'    # o/p will give error as 'str' object does not support item assignment"
   ]
  },
  {
   "cell_type": "code",
   "execution_count": 103,
   "id": "5b57ff22",
   "metadata": {},
   "outputs": [
    {
     "name": "stdout",
     "output_type": "stream",
     "text": [
      "World\n"
     ]
    }
   ],
   "source": [
    "# Strings are immutable data types\n",
    "c=\"World\"\n",
    "print(c)     \n",
    "# We can reassign value of c but we can't change existing string like Hello-->Xello  is wrong\n",
    "#                                                                but  Hello-->World is right"
   ]
  },
  {
   "cell_type": "code",
   "execution_count": 104,
   "id": "ce74ab2e",
   "metadata": {},
   "outputs": [
    {
     "ename": "TypeError",
     "evalue": "'str' object does not support item assignment",
     "output_type": "error",
     "traceback": [
      "\u001b[1;31m---------------------------------------------------------------------------\u001b[0m",
      "\u001b[1;31mTypeError\u001b[0m                                 Traceback (most recent call last)",
      "\u001b[1;32m~\\AppData\\Local\\Temp\\ipykernel_3440\\3175047842.py\u001b[0m in \u001b[0;36m<module>\u001b[1;34m\u001b[0m\n\u001b[1;32m----> 1\u001b[1;33m \u001b[0mc\u001b[0m\u001b[1;33m[\u001b[0m\u001b[1;36m5\u001b[0m\u001b[1;33m]\u001b[0m\u001b[1;33m=\u001b[0m\u001b[1;34m\"X\"\u001b[0m\u001b[1;33m\u001b[0m\u001b[1;33m\u001b[0m\u001b[0m\n\u001b[0m\u001b[0;32m      2\u001b[0m \u001b[1;31m# we can't add characters also\u001b[0m\u001b[1;33m\u001b[0m\u001b[1;33m\u001b[0m\u001b[1;33m\u001b[0m\u001b[0m\n",
      "\u001b[1;31mTypeError\u001b[0m: 'str' object does not support item assignment"
     ]
    }
   ],
   "source": [
    "c[5]=\"X\"   \n",
    "# we can't add characters also "
   ]
  },
  {
   "cell_type": "code",
   "execution_count": 105,
   "id": "3e82fc6b",
   "metadata": {},
   "outputs": [],
   "source": [
    "# Deletion\n",
    "del c"
   ]
  },
  {
   "cell_type": "code",
   "execution_count": 106,
   "id": "10f9449e",
   "metadata": {},
   "outputs": [
    {
     "ename": "NameError",
     "evalue": "name 'c' is not defined",
     "output_type": "error",
     "traceback": [
      "\u001b[1;31m---------------------------------------------------------------------------\u001b[0m",
      "\u001b[1;31mNameError\u001b[0m                                 Traceback (most recent call last)",
      "\u001b[1;32m~\\AppData\\Local\\Temp\\ipykernel_3440\\1454524757.py\u001b[0m in \u001b[0;36m<module>\u001b[1;34m\u001b[0m\n\u001b[1;32m----> 1\u001b[1;33m \u001b[0mprint\u001b[0m\u001b[1;33m(\u001b[0m\u001b[0mc\u001b[0m\u001b[1;33m)\u001b[0m  \u001b[1;31m# string is deleted\u001b[0m\u001b[1;33m\u001b[0m\u001b[1;33m\u001b[0m\u001b[0m\n\u001b[0m",
      "\u001b[1;31mNameError\u001b[0m: name 'c' is not defined"
     ]
    }
   ],
   "source": [
    "print(c)  # string is deleted"
   ]
  },
  {
   "cell_type": "code",
   "execution_count": 107,
   "id": "3d54743b",
   "metadata": {},
   "outputs": [],
   "source": [
    "c=\"hello\""
   ]
  },
  {
   "cell_type": "code",
   "execution_count": 108,
   "id": "ffff9944",
   "metadata": {},
   "outputs": [
    {
     "name": "stdout",
     "output_type": "stream",
     "text": [
      "hello\n"
     ]
    }
   ],
   "source": [
    "print(c)"
   ]
  },
  {
   "cell_type": "code",
   "execution_count": 109,
   "id": "58ec8379",
   "metadata": {},
   "outputs": [
    {
     "ename": "TypeError",
     "evalue": "'str' object doesn't support item deletion",
     "output_type": "error",
     "traceback": [
      "\u001b[1;31m---------------------------------------------------------------------------\u001b[0m",
      "\u001b[1;31mTypeError\u001b[0m                                 Traceback (most recent call last)",
      "\u001b[1;32m~\\AppData\\Local\\Temp\\ipykernel_3440\\2108358344.py\u001b[0m in \u001b[0;36m<module>\u001b[1;34m\u001b[0m\n\u001b[1;32m----> 1\u001b[1;33m \u001b[1;32mdel\u001b[0m \u001b[0mc\u001b[0m\u001b[1;33m[\u001b[0m\u001b[1;36m0\u001b[0m\u001b[1;33m]\u001b[0m   \u001b[1;31m# we can't delete a particular charcater from string as mutation is not allowed in strings\u001b[0m\u001b[1;33m\u001b[0m\u001b[1;33m\u001b[0m\u001b[0m\n\u001b[0m",
      "\u001b[1;31mTypeError\u001b[0m: 'str' object doesn't support item deletion"
     ]
    }
   ],
   "source": [
    "del c[0]   # we can't delete a particular charcater from string as mutation is not allowed in strings"
   ]
  },
  {
   "cell_type": "code",
   "execution_count": 110,
   "id": "50ae3b5e",
   "metadata": {},
   "outputs": [
    {
     "ename": "SyntaxError",
     "evalue": "invalid syntax (2525499094.py, line 1)",
     "output_type": "error",
     "traceback": [
      "\u001b[1;36m  File \u001b[1;32m\"C:\\Users\\USER\\AppData\\Local\\Temp\\ipykernel_3440\\2525499094.py\"\u001b[1;36m, line \u001b[1;32m1\u001b[0m\n\u001b[1;33m    del[:3:2]\u001b[0m\n\u001b[1;37m        ^\u001b[0m\n\u001b[1;31mSyntaxError\u001b[0m\u001b[1;31m:\u001b[0m invalid syntax\n"
     ]
    }
   ],
   "source": [
    "del[:3:2]"
   ]
  },
  {
   "cell_type": "markdown",
   "id": "944062e9",
   "metadata": {},
   "source": [
    "# 4. String operations\n",
    "operations on strings are: Arithmetic , Relational , Logical , Loops , Membership "
   ]
  },
  {
   "cell_type": "code",
   "execution_count": 111,
   "id": "fd964dda",
   "metadata": {},
   "outputs": [
    {
     "data": {
      "text/plain": [
       "'Helloworld'"
      ]
     },
     "execution_count": 111,
     "metadata": {},
     "output_type": "execute_result"
    }
   ],
   "source": [
    "# Arithmetic operators ---> + , * \n",
    "\n",
    "\"Hello\" + \"world\"    "
   ]
  },
  {
   "cell_type": "code",
   "execution_count": 112,
   "id": "5dc2a0f8",
   "metadata": {},
   "outputs": [
    {
     "data": {
      "text/plain": [
       "'Hello-world'"
      ]
     },
     "execution_count": 112,
     "metadata": {},
     "output_type": "execute_result"
    }
   ],
   "source": [
    "\"Hello\" + \"-\" + \"world\""
   ]
  },
  {
   "cell_type": "code",
   "execution_count": 113,
   "id": "dd793473",
   "metadata": {},
   "outputs": [
    {
     "name": "stdout",
     "output_type": "stream",
     "text": [
      "==================================================\n"
     ]
    }
   ],
   "source": [
    "print(\"=\"*50)"
   ]
  },
  {
   "cell_type": "code",
   "execution_count": 114,
   "id": "a5c5b8bf",
   "metadata": {},
   "outputs": [
    {
     "data": {
      "text/plain": [
       "False"
      ]
     },
     "execution_count": 114,
     "metadata": {},
     "output_type": "execute_result"
    }
   ],
   "source": [
    "# Relational operators\n",
    "\"Hello\"==\"World\""
   ]
  },
  {
   "cell_type": "code",
   "execution_count": 115,
   "id": "5504a9c7",
   "metadata": {},
   "outputs": [
    {
     "data": {
      "text/plain": [
       "True"
      ]
     },
     "execution_count": 115,
     "metadata": {},
     "output_type": "execute_result"
    }
   ],
   "source": [
    "\"Hello\"!=\"World\""
   ]
  },
  {
   "cell_type": "code",
   "execution_count": 116,
   "id": "94f85494",
   "metadata": {},
   "outputs": [
    {
     "data": {
      "text/plain": [
       "False"
      ]
     },
     "execution_count": 116,
     "metadata": {},
     "output_type": "execute_result"
    }
   ],
   "source": [
    "\"Mumbai\">\"Pune\"    # comparision is done lexiographically means Mumbai comes first in dictionary"
   ]
  },
  {
   "cell_type": "code",
   "execution_count": 117,
   "id": "c1d72059",
   "metadata": {},
   "outputs": [
    {
     "data": {
      "text/plain": [
       "True"
      ]
     },
     "execution_count": 117,
     "metadata": {},
     "output_type": "execute_result"
    }
   ],
   "source": [
    "\"Goa\"<\"Kolkata\""
   ]
  },
  {
   "cell_type": "code",
   "execution_count": 118,
   "id": "1e4c7953",
   "metadata": {},
   "outputs": [
    {
     "data": {
      "text/plain": [
       "False"
      ]
     },
     "execution_count": 118,
     "metadata": {},
     "output_type": "execute_result"
    }
   ],
   "source": [
    "\"kol\"<\"Kol\"   # capital letters come first "
   ]
  },
  {
   "cell_type": "code",
   "execution_count": 119,
   "id": "35a703bb",
   "metadata": {},
   "outputs": [
    {
     "data": {
      "text/plain": [
       "'world'"
      ]
     },
     "execution_count": 119,
     "metadata": {},
     "output_type": "execute_result"
    }
   ],
   "source": [
    "# logical operators\n",
    "\"hello\" and \"world\"     # True and True --> True(2nd word) as this value depends on 2nd word  as T and F -> F"
   ]
  },
  {
   "cell_type": "code",
   "execution_count": 120,
   "id": "9c5f116b",
   "metadata": {},
   "outputs": [],
   "source": [
    "# \"\" -> False   (empty string is False)\n",
    "# \"gfhfj\" -> True  (non-empty string is True)"
   ]
  },
  {
   "cell_type": "code",
   "execution_count": 121,
   "id": "a3e0eb10",
   "metadata": {},
   "outputs": [
    {
     "data": {
      "text/plain": [
       "''"
      ]
     },
     "execution_count": 121,
     "metadata": {},
     "output_type": "execute_result"
    }
   ],
   "source": [
    "\"\" and \"Hello\"   # False and True is False"
   ]
  },
  {
   "cell_type": "code",
   "execution_count": 122,
   "id": "c4142f46",
   "metadata": {},
   "outputs": [
    {
     "data": {
      "text/plain": [
       "'world'"
      ]
     },
     "execution_count": 122,
     "metadata": {},
     "output_type": "execute_result"
    }
   ],
   "source": [
    "\"\" or \"world\"    # False or True is True"
   ]
  },
  {
   "cell_type": "code",
   "execution_count": 123,
   "id": "9da7d550",
   "metadata": {},
   "outputs": [
    {
     "data": {
      "text/plain": [
       "'hello'"
      ]
     },
     "execution_count": 123,
     "metadata": {},
     "output_type": "execute_result"
    }
   ],
   "source": [
    "\"hello\" or \"world\"     # True or True --> True(1st word) as this value depends on first word  as F or T -->T"
   ]
  },
  {
   "cell_type": "code",
   "execution_count": 124,
   "id": "49f99a2e",
   "metadata": {},
   "outputs": [
    {
     "data": {
      "text/plain": [
       "False"
      ]
     },
     "execution_count": 124,
     "metadata": {},
     "output_type": "execute_result"
    }
   ],
   "source": [
    "not \"hello\"    # not True is False "
   ]
  },
  {
   "cell_type": "code",
   "execution_count": 125,
   "id": "3a2d0c96",
   "metadata": {},
   "outputs": [
    {
     "data": {
      "text/plain": [
       "True"
      ]
     },
     "execution_count": 125,
     "metadata": {},
     "output_type": "execute_result"
    }
   ],
   "source": [
    "not \"\""
   ]
  },
  {
   "cell_type": "code",
   "execution_count": 126,
   "id": "9447a700",
   "metadata": {},
   "outputs": [
    {
     "name": "stdout",
     "output_type": "stream",
     "text": [
      "h\n",
      "e\n",
      "l\n",
      "l\n",
      "o\n",
      " \n",
      "w\n",
      "o\n",
      "r\n",
      "l\n",
      "d\n"
     ]
    }
   ],
   "source": [
    "# Loops operators\n",
    "c=\"hello world\"\n",
    "for i in c:\n",
    "    print(i)"
   ]
  },
  {
   "cell_type": "code",
   "execution_count": 127,
   "id": "c007d5ae",
   "metadata": {},
   "outputs": [
    {
     "name": "stdout",
     "output_type": "stream",
     "text": [
      "l\n",
      "l\n",
      "o\n",
      " \n",
      "w\n"
     ]
    }
   ],
   "source": [
    "c=\"hello world\"\n",
    "for i in c[2:7]:\n",
    "    print(i)"
   ]
  },
  {
   "cell_type": "code",
   "execution_count": 128,
   "id": "39441944",
   "metadata": {},
   "outputs": [
    {
     "name": "stdout",
     "output_type": "stream",
     "text": [
      "l\n",
      "o\n",
      "w\n"
     ]
    }
   ],
   "source": [
    "c=\"hello world\"\n",
    "for i in c[2:7:2]:\n",
    "    print(i)"
   ]
  },
  {
   "cell_type": "code",
   "execution_count": 129,
   "id": "8c767fa4",
   "metadata": {},
   "outputs": [
    {
     "data": {
      "text/plain": [
       "'hello world'"
      ]
     },
     "execution_count": 129,
     "metadata": {},
     "output_type": "execute_result"
    }
   ],
   "source": [
    "# Membership operators\n",
    "c"
   ]
  },
  {
   "cell_type": "code",
   "execution_count": 130,
   "id": "f466e774",
   "metadata": {},
   "outputs": [
    {
     "data": {
      "text/plain": [
       "False"
      ]
     },
     "execution_count": 130,
     "metadata": {},
     "output_type": "execute_result"
    }
   ],
   "source": [
    "'world' not in c"
   ]
  },
  {
   "cell_type": "code",
   "execution_count": 131,
   "id": "c6daa9de",
   "metadata": {},
   "outputs": [
    {
     "data": {
      "text/plain": [
       "True"
      ]
     },
     "execution_count": 131,
     "metadata": {},
     "output_type": "execute_result"
    }
   ],
   "source": [
    "'h' in c"
   ]
  },
  {
   "cell_type": "code",
   "execution_count": 132,
   "id": "7387e64d",
   "metadata": {},
   "outputs": [
    {
     "data": {
      "text/plain": [
       "False"
      ]
     },
     "execution_count": 132,
     "metadata": {},
     "output_type": "execute_result"
    }
   ],
   "source": [
    "\"H\" in c"
   ]
  },
  {
   "cell_type": "markdown",
   "id": "a82d4fa8",
   "metadata": {},
   "source": [
    "# 5. String functions"
   ]
  },
  {
   "cell_type": "code",
   "execution_count": 133,
   "id": "9fbcf847",
   "metadata": {},
   "outputs": [],
   "source": [
    "# common functions : len , max , min , sorted."
   ]
  },
  {
   "cell_type": "code",
   "execution_count": 134,
   "id": "5fa3bdb1",
   "metadata": {},
   "outputs": [
    {
     "data": {
      "text/plain": [
       "7"
      ]
     },
     "execution_count": 134,
     "metadata": {},
     "output_type": "execute_result"
    }
   ],
   "source": [
    "c=\"kolkata\"\n",
    "len(c)"
   ]
  },
  {
   "cell_type": "code",
   "execution_count": 135,
   "id": "7ba5f799",
   "metadata": {},
   "outputs": [
    {
     "data": {
      "text/plain": [
       "'t'"
      ]
     },
     "execution_count": 135,
     "metadata": {},
     "output_type": "execute_result"
    }
   ],
   "source": [
    "max(c)"
   ]
  },
  {
   "cell_type": "code",
   "execution_count": 136,
   "id": "37c65be4",
   "metadata": {},
   "outputs": [
    {
     "data": {
      "text/plain": [
       "'a'"
      ]
     },
     "execution_count": 136,
     "metadata": {},
     "output_type": "execute_result"
    }
   ],
   "source": [
    "min(c)"
   ]
  },
  {
   "cell_type": "code",
   "execution_count": 137,
   "id": "644fb502",
   "metadata": {},
   "outputs": [
    {
     "data": {
      "text/plain": [
       "['a', 'a', 'k', 'k', 'l', 'o', 't']"
      ]
     },
     "execution_count": 137,
     "metadata": {},
     "output_type": "execute_result"
    }
   ],
   "source": [
    "sorted(c)      # sorts all characters of string in ascending order"
   ]
  },
  {
   "cell_type": "code",
   "execution_count": 138,
   "id": "49dbb51d",
   "metadata": {},
   "outputs": [
    {
     "data": {
      "text/plain": [
       "['t', 'o', 'l', 'k', 'k', 'a', 'a']"
      ]
     },
     "execution_count": 138,
     "metadata": {},
     "output_type": "execute_result"
    }
   ],
   "source": [
    "sorted(c,reverse=True)"
   ]
  },
  {
   "cell_type": "code",
   "execution_count": 139,
   "id": "ab608d34",
   "metadata": {},
   "outputs": [],
   "source": [
    "# 1. Capitalize / Title / Upper / Lower / Swapcase\n"
   ]
  },
  {
   "cell_type": "code",
   "execution_count": 140,
   "id": "5c5e0a2b",
   "metadata": {},
   "outputs": [
    {
     "data": {
      "text/plain": [
       "'kolkata'"
      ]
     },
     "execution_count": 140,
     "metadata": {},
     "output_type": "execute_result"
    }
   ],
   "source": [
    "c"
   ]
  },
  {
   "cell_type": "code",
   "execution_count": 141,
   "id": "0425dac4",
   "metadata": {},
   "outputs": [
    {
     "data": {
      "text/plain": [
       "'Kolkata'"
      ]
     },
     "execution_count": 141,
     "metadata": {},
     "output_type": "execute_result"
    }
   ],
   "source": [
    "c.capitalize() "
   ]
  },
  {
   "cell_type": "code",
   "execution_count": 142,
   "id": "c549cf63",
   "metadata": {},
   "outputs": [
    {
     "data": {
      "text/plain": [
       "\"It's raining today\""
      ]
     },
     "execution_count": 142,
     "metadata": {},
     "output_type": "execute_result"
    }
   ],
   "source": [
    "\"it's raining today\".capitalize()"
   ]
  },
  {
   "cell_type": "code",
   "execution_count": 143,
   "id": "621c0213",
   "metadata": {},
   "outputs": [
    {
     "data": {
      "text/plain": [
       "\"It'S Raining Today\""
      ]
     },
     "execution_count": 143,
     "metadata": {},
     "output_type": "execute_result"
    }
   ],
   "source": [
    "\"it's raining today\".title()"
   ]
  },
  {
   "cell_type": "code",
   "execution_count": 144,
   "id": "caffab4b",
   "metadata": {},
   "outputs": [
    {
     "data": {
      "text/plain": [
       "'KOLKATA'"
      ]
     },
     "execution_count": 144,
     "metadata": {},
     "output_type": "execute_result"
    }
   ],
   "source": [
    "c.upper()"
   ]
  },
  {
   "cell_type": "code",
   "execution_count": 145,
   "id": "e6bb27dc",
   "metadata": {},
   "outputs": [
    {
     "data": {
      "text/plain": [
       "'kolkata'"
      ]
     },
     "execution_count": 145,
     "metadata": {},
     "output_type": "execute_result"
    }
   ],
   "source": [
    "c.lower()"
   ]
  },
  {
   "cell_type": "code",
   "execution_count": 146,
   "id": "37ba51ed",
   "metadata": {},
   "outputs": [
    {
     "data": {
      "text/plain": [
       "'kOLKATA'"
      ]
     },
     "execution_count": 146,
     "metadata": {},
     "output_type": "execute_result"
    }
   ],
   "source": [
    "\"Kolkata\".swapcase()  # lower-case is converted to upper-case and vice versa"
   ]
  },
  {
   "cell_type": "code",
   "execution_count": 147,
   "id": "405df3c2",
   "metadata": {},
   "outputs": [
    {
     "data": {
      "text/plain": [
       "4"
      ]
     },
     "execution_count": 147,
     "metadata": {},
     "output_type": "execute_result"
    }
   ],
   "source": [
    "# 2. Count\n",
    "\n",
    "\"it is raining today\".count(\"i\")"
   ]
  },
  {
   "cell_type": "code",
   "execution_count": 148,
   "id": "4fbfbc0e",
   "metadata": {},
   "outputs": [
    {
     "data": {
      "text/plain": [
       "1"
      ]
     },
     "execution_count": 148,
     "metadata": {},
     "output_type": "execute_result"
    }
   ],
   "source": [
    "\"it is raining today\".count(\"ing\")"
   ]
  },
  {
   "cell_type": "code",
   "execution_count": 149,
   "id": "22784f47",
   "metadata": {},
   "outputs": [
    {
     "data": {
      "text/plain": [
       "0"
      ]
     },
     "execution_count": 149,
     "metadata": {},
     "output_type": "execute_result"
    }
   ],
   "source": [
    "\"it is raining today\".count(\"x\")"
   ]
  },
  {
   "cell_type": "code",
   "execution_count": 150,
   "id": "9293857b",
   "metadata": {},
   "outputs": [
    {
     "data": {
      "text/plain": [
       "0"
      ]
     },
     "execution_count": 150,
     "metadata": {},
     "output_type": "execute_result"
    }
   ],
   "source": [
    "# 3. Find/Index\n",
    "\n",
    "\"it is raining\".find(\"i\")"
   ]
  },
  {
   "cell_type": "code",
   "execution_count": 151,
   "id": "94699ae4",
   "metadata": {},
   "outputs": [
    {
     "data": {
      "text/plain": [
       "12"
      ]
     },
     "execution_count": 151,
     "metadata": {},
     "output_type": "execute_result"
    }
   ],
   "source": [
    "\"it is raining\".find(\"g\")"
   ]
  },
  {
   "cell_type": "code",
   "execution_count": 152,
   "id": "4d59f175",
   "metadata": {},
   "outputs": [
    {
     "data": {
      "text/plain": [
       "6"
      ]
     },
     "execution_count": 152,
     "metadata": {},
     "output_type": "execute_result"
    }
   ],
   "source": [
    "\"it is raining\".find(\"raining\")"
   ]
  },
  {
   "cell_type": "code",
   "execution_count": 153,
   "id": "8efba806",
   "metadata": {},
   "outputs": [
    {
     "data": {
      "text/plain": [
       "-1"
      ]
     },
     "execution_count": 153,
     "metadata": {},
     "output_type": "execute_result"
    }
   ],
   "source": [
    "\"it is raining\".find(\"x\")    # if character is not present in string then o/p is -1"
   ]
  },
  {
   "cell_type": "code",
   "execution_count": 154,
   "id": "638754f4",
   "metadata": {},
   "outputs": [
    {
     "data": {
      "text/plain": [
       "6"
      ]
     },
     "execution_count": 154,
     "metadata": {},
     "output_type": "execute_result"
    }
   ],
   "source": [
    "\"it is raining\".index(\"rain\")"
   ]
  },
  {
   "cell_type": "code",
   "execution_count": 155,
   "id": "d32b4bb6",
   "metadata": {},
   "outputs": [
    {
     "ename": "ValueError",
     "evalue": "substring not found",
     "output_type": "error",
     "traceback": [
      "\u001b[1;31m---------------------------------------------------------------------------\u001b[0m",
      "\u001b[1;31mValueError\u001b[0m                                Traceback (most recent call last)",
      "\u001b[1;32m~\\AppData\\Local\\Temp\\ipykernel_3440\\1897027493.py\u001b[0m in \u001b[0;36m<module>\u001b[1;34m\u001b[0m\n\u001b[1;32m----> 1\u001b[1;33m \u001b[1;34m\"it is raining\"\u001b[0m\u001b[1;33m.\u001b[0m\u001b[0mindex\u001b[0m\u001b[1;33m(\u001b[0m\u001b[1;34m\"x\"\u001b[0m\u001b[1;33m)\u001b[0m\u001b[1;31m# major difference bet find & index is if any char is absent then o/p is -1 in find and error in index\u001b[0m\u001b[1;33m\u001b[0m\u001b[1;33m\u001b[0m\u001b[0m\n\u001b[0m",
      "\u001b[1;31mValueError\u001b[0m: substring not found"
     ]
    }
   ],
   "source": [
    "\"it is raining\".index(\"x\")# major difference bet find & index is if any char is absent then o/p is -1 in find and error in index"
   ]
  },
  {
   "cell_type": "code",
   "execution_count": 156,
   "id": "0b39f185",
   "metadata": {},
   "outputs": [
    {
     "data": {
      "text/plain": [
       "True"
      ]
     },
     "execution_count": 156,
     "metadata": {},
     "output_type": "execute_result"
    }
   ],
   "source": [
    "# 4. endswith / startswith\n",
    "\n",
    "\"it is raining\".endswith(\"ing\")"
   ]
  },
  {
   "cell_type": "code",
   "execution_count": 157,
   "id": "d17197ca",
   "metadata": {},
   "outputs": [
    {
     "data": {
      "text/plain": [
       "False"
      ]
     },
     "execution_count": 157,
     "metadata": {},
     "output_type": "execute_result"
    }
   ],
   "source": [
    "\"it is raining\".endswith(\"hgfskjj\")"
   ]
  },
  {
   "cell_type": "code",
   "execution_count": 158,
   "id": "4fa1c884",
   "metadata": {},
   "outputs": [
    {
     "data": {
      "text/plain": [
       "True"
      ]
     },
     "execution_count": 158,
     "metadata": {},
     "output_type": "execute_result"
    }
   ],
   "source": [
    "\"it is raining \".startswith(\"it\")"
   ]
  },
  {
   "cell_type": "code",
   "execution_count": 159,
   "id": "2343bca0",
   "metadata": {},
   "outputs": [
    {
     "data": {
      "text/plain": [
       "False"
      ]
     },
     "execution_count": 159,
     "metadata": {},
     "output_type": "execute_result"
    }
   ],
   "source": [
    "\"it is raining \".startswith(\"mhft\")"
   ]
  },
  {
   "cell_type": "code",
   "execution_count": 160,
   "id": "71cecf9b",
   "metadata": {},
   "outputs": [
    {
     "data": {
      "text/plain": [
       "'Hello my name is Shayema and I am 22'"
      ]
     },
     "execution_count": 160,
     "metadata": {},
     "output_type": "execute_result"
    }
   ],
   "source": [
    "# 5. format \n",
    "\n",
    "\"Hello my name is {} and I am {}\".format(\"Shayema\",22)"
   ]
  },
  {
   "cell_type": "code",
   "execution_count": 161,
   "id": "985d4d70",
   "metadata": {},
   "outputs": [
    {
     "data": {
      "text/plain": [
       "'Hello my name is 22 and I am Shayema'"
      ]
     },
     "execution_count": 161,
     "metadata": {},
     "output_type": "execute_result"
    }
   ],
   "source": [
    "\"Hello my name is {1} and I am {0}\".format(\"Shayema\",22)   # Shayema-->0 position\n",
    "                                                           # 22--> 1 position"
   ]
  },
  {
   "cell_type": "code",
   "execution_count": 162,
   "id": "0dd1710c",
   "metadata": {},
   "outputs": [
    {
     "data": {
      "text/plain": [
       "'Hello my name is Shayema and I am 22'"
      ]
     },
     "execution_count": 162,
     "metadata": {},
     "output_type": "execute_result"
    }
   ],
   "source": [
    "\"Hello my name is {name} and I am {age}\".format(name=\"Shayema\",age=22)"
   ]
  },
  {
   "cell_type": "code",
   "execution_count": 163,
   "id": "4eee8f5f",
   "metadata": {},
   "outputs": [
    {
     "data": {
      "text/plain": [
       "'Hello my name is 22 and I am Shayema'"
      ]
     },
     "execution_count": 163,
     "metadata": {},
     "output_type": "execute_result"
    }
   ],
   "source": [
    "\"Hello my name is {age} and I am {name}\".format(name=\"Shayema\",age=22)"
   ]
  },
  {
   "cell_type": "code",
   "execution_count": 164,
   "id": "9373d263",
   "metadata": {},
   "outputs": [
    {
     "data": {
      "text/plain": [
       "'Hello my name is Shayema and I am 67'"
      ]
     },
     "execution_count": 164,
     "metadata": {},
     "output_type": "execute_result"
    }
   ],
   "source": [
    "\"Hello my name is {name} and I am {weight}\".format(name=\"Shayema\",age=22,weight=67)"
   ]
  },
  {
   "cell_type": "code",
   "execution_count": 165,
   "id": "b4db7cfd",
   "metadata": {},
   "outputs": [
    {
     "data": {
      "text/plain": [
       "'Hello my name is Shayema and I am Shayema'"
      ]
     },
     "execution_count": 165,
     "metadata": {},
     "output_type": "execute_result"
    }
   ],
   "source": [
    "\"Hello my name is {name} and I am {name}\".format(name=\"Shayema\",age=22,weight=67)"
   ]
  },
  {
   "cell_type": "code",
   "execution_count": 166,
   "id": "8861acd7",
   "metadata": {},
   "outputs": [
    {
     "data": {
      "text/plain": [
       "True"
      ]
     },
     "execution_count": 166,
     "metadata": {},
     "output_type": "execute_result"
    }
   ],
   "source": [
    "# 6. isalnum / isapha / isdecimal / isdigit / isidentifier\n",
    "\n",
    "\"FLAT20\".isalnum()   # isalnum checks whether all characters in string are alphabetical or numerical "
   ]
  },
  {
   "cell_type": "code",
   "execution_count": 167,
   "id": "ed406b01",
   "metadata": {},
   "outputs": [
    {
     "data": {
      "text/plain": [
       "False"
      ]
     },
     "execution_count": 167,
     "metadata": {},
     "output_type": "execute_result"
    }
   ],
   "source": [
    "\"FLAT20@\".isalnum()"
   ]
  },
  {
   "cell_type": "code",
   "execution_count": 168,
   "id": "cb846a1f",
   "metadata": {},
   "outputs": [
    {
     "data": {
      "text/plain": [
       "True"
      ]
     },
     "execution_count": 168,
     "metadata": {},
     "output_type": "execute_result"
    }
   ],
   "source": [
    "\"FLAT\".isalpha()   # isalpha checks whether all charcaters in string are alphabetical "
   ]
  },
  {
   "cell_type": "code",
   "execution_count": 169,
   "id": "656bf569",
   "metadata": {},
   "outputs": [
    {
     "data": {
      "text/plain": [
       "False"
      ]
     },
     "execution_count": 169,
     "metadata": {},
     "output_type": "execute_result"
    }
   ],
   "source": [
    "\"FLAT123\".isalpha()   "
   ]
  },
  {
   "cell_type": "code",
   "execution_count": 170,
   "id": "8be1b018",
   "metadata": {},
   "outputs": [
    {
     "data": {
      "text/plain": [
       "True"
      ]
     },
     "execution_count": 170,
     "metadata": {},
     "output_type": "execute_result"
    }
   ],
   "source": [
    "\"20\".isdigit()   # isdigit checks whether all charcters in string are digit"
   ]
  },
  {
   "cell_type": "code",
   "execution_count": 171,
   "id": "2c14f00d",
   "metadata": {},
   "outputs": [
    {
     "data": {
      "text/plain": [
       "False"
      ]
     },
     "execution_count": 171,
     "metadata": {},
     "output_type": "execute_result"
    }
   ],
   "source": [
    "\"20A\".isdigit()"
   ]
  },
  {
   "cell_type": "code",
   "execution_count": 172,
   "id": "8ac5350a",
   "metadata": {},
   "outputs": [
    {
     "data": {
      "text/plain": [
       "False"
      ]
     },
     "execution_count": 172,
     "metadata": {},
     "output_type": "execute_result"
    }
   ],
   "source": [
    "\"hello world\".isidentifier()    # isidentifier checks if a string is a valid identifier"
   ]
  },
  {
   "cell_type": "code",
   "execution_count": 173,
   "id": "8f9d6061",
   "metadata": {},
   "outputs": [
    {
     "data": {
      "text/plain": [
       "True"
      ]
     },
     "execution_count": 173,
     "metadata": {},
     "output_type": "execute_result"
    }
   ],
   "source": [
    "\"hello_world\".isidentifier()"
   ]
  },
  {
   "cell_type": "code",
   "execution_count": 174,
   "id": "19170d42",
   "metadata": {},
   "outputs": [
    {
     "data": {
      "text/plain": [
       "['who', 'is', 'the', 'pm', 'of', 'India']"
      ]
     },
     "execution_count": 174,
     "metadata": {},
     "output_type": "execute_result"
    }
   ],
   "source": [
    "# 7. Split\n",
    "\n",
    "\"who is the pm of India\".split()"
   ]
  },
  {
   "cell_type": "code",
   "execution_count": 175,
   "id": "8e6176f1",
   "metadata": {},
   "outputs": [
    {
     "data": {
      "text/plain": [
       "['who is the ', ' of India']"
      ]
     },
     "execution_count": 175,
     "metadata": {},
     "output_type": "execute_result"
    }
   ],
   "source": [
    "\"who is the pm of India\".split(\"pm\")"
   ]
  },
  {
   "cell_type": "code",
   "execution_count": 176,
   "id": "b2c87c4d",
   "metadata": {},
   "outputs": [
    {
     "data": {
      "text/plain": [
       "['who ', 's the pm of Ind', 'a']"
      ]
     },
     "execution_count": 176,
     "metadata": {},
     "output_type": "execute_result"
    }
   ],
   "source": [
    "\"who is the pm of India\".split(\"i\")"
   ]
  },
  {
   "cell_type": "code",
   "execution_count": 177,
   "id": "53e02ddb",
   "metadata": {},
   "outputs": [
    {
     "data": {
      "text/plain": [
       "['who is the pm of India']"
      ]
     },
     "execution_count": 177,
     "metadata": {},
     "output_type": "execute_result"
    }
   ],
   "source": [
    "\"who is the pm of India\".split(\"x\")"
   ]
  },
  {
   "cell_type": "code",
   "execution_count": 178,
   "id": "491c4008",
   "metadata": {},
   "outputs": [
    {
     "data": {
      "text/plain": [
       "'who is the pm of India'"
      ]
     },
     "execution_count": 178,
     "metadata": {},
     "output_type": "execute_result"
    }
   ],
   "source": [
    "# 8. Join\n",
    "\n",
    "\" \".join(['who','is','the','pm','of','India'])"
   ]
  },
  {
   "cell_type": "code",
   "execution_count": 179,
   "id": "cbf39809",
   "metadata": {},
   "outputs": [
    {
     "data": {
      "text/plain": [
       "'who-is-the-pm-of-India'"
      ]
     },
     "execution_count": 179,
     "metadata": {},
     "output_type": "execute_result"
    }
   ],
   "source": [
    "\"-\".join(['who','is','the','pm','of','India'])"
   ]
  },
  {
   "cell_type": "code",
   "execution_count": 180,
   "id": "e266bd12",
   "metadata": {},
   "outputs": [
    {
     "data": {
      "text/plain": [
       "'who/is/the/pm/of/India'"
      ]
     },
     "execution_count": 180,
     "metadata": {},
     "output_type": "execute_result"
    }
   ],
   "source": [
    "\"/\".join(['who','is','the','pm','of','India'])"
   ]
  },
  {
   "cell_type": "code",
   "execution_count": 181,
   "id": "1d33ece1",
   "metadata": {},
   "outputs": [
    {
     "data": {
      "text/plain": [
       "'Hi my name is Choti'"
      ]
     },
     "execution_count": 181,
     "metadata": {},
     "output_type": "execute_result"
    }
   ],
   "source": [
    "# 9. Replace\n",
    "\n",
    "\"Hi my name is Shayema\".replace(\"Shayema\",\"Choti\")"
   ]
  },
  {
   "cell_type": "code",
   "execution_count": 182,
   "id": "2cf65bae",
   "metadata": {},
   "outputs": [
    {
     "name": "stdout",
     "output_type": "stream",
     "text": [
      "            Shayema           \n"
     ]
    }
   ],
   "source": [
    "# 10. Strip\n",
    "\n",
    "name=\"            Shayema           \"\n",
    "print(name)"
   ]
  },
  {
   "cell_type": "code",
   "execution_count": 183,
   "id": "5bc0f2e0",
   "metadata": {},
   "outputs": [
    {
     "data": {
      "text/plain": [
       "'Hi            Shayema           '"
      ]
     },
     "execution_count": 183,
     "metadata": {},
     "output_type": "execute_result"
    }
   ],
   "source": [
    "\"Hi\" + name"
   ]
  },
  {
   "cell_type": "code",
   "execution_count": 184,
   "id": "76bcd2cf",
   "metadata": {},
   "outputs": [
    {
     "data": {
      "text/plain": [
       "'Shayema'"
      ]
     },
     "execution_count": 184,
     "metadata": {},
     "output_type": "execute_result"
    }
   ],
   "source": [
    "name=\"            Shayema             \"\n",
    "name.strip()"
   ]
  },
  {
   "cell_type": "markdown",
   "id": "ef7319d2",
   "metadata": {},
   "source": [
    "# Lists\n",
    "A list is a data structure that is a mutable, changeable, ordered sequence of elements. Each element or value that is inside of a list is called an 'item'. Just as strings are defined as charcters between quotes, lists are defined by having values between square brackets[]."
   ]
  },
  {
   "cell_type": "code",
   "execution_count": 185,
   "id": "90ad392c",
   "metadata": {},
   "outputs": [],
   "source": [
    "##### List vs Array\n",
    "\n",
    "# 1. Array is homogeneous ( means all items in array are of same data type )\n",
    "#    List is heterogeneous ( i.e.,[1,'apple',3.14,True,[1,2,3],{'key':'value'}] ) \n",
    "\n",
    "# 2. In Arrays, all items are stored in continuous memory location but not in Lists. \n",
    "\n",
    "#3. Arrays are much faster in computation than Lists.\n",
    "\n",
    "#4. Lists are more programmer friendly.\n"
   ]
  },
  {
   "cell_type": "code",
   "execution_count": 186,
   "id": "408464d5",
   "metadata": {},
   "outputs": [],
   "source": [
    "##### Types of Lists ( create )"
   ]
  },
  {
   "cell_type": "code",
   "execution_count": 187,
   "id": "3afa6e0d",
   "metadata": {},
   "outputs": [
    {
     "data": {
      "text/plain": [
       "[]"
      ]
     },
     "execution_count": 187,
     "metadata": {},
     "output_type": "execute_result"
    }
   ],
   "source": [
    "L=[]   # empty list\n",
    "L"
   ]
  },
  {
   "cell_type": "code",
   "execution_count": 1,
   "id": "33d18b72",
   "metadata": {},
   "outputs": [
    {
     "data": {
      "text/plain": [
       "[1, 2, 3, 4, 5, 6]"
      ]
     },
     "execution_count": 1,
     "metadata": {},
     "output_type": "execute_result"
    }
   ],
   "source": [
    "L1=[1,2,3,4,5,6]   # homogeneous list\n",
    "L1"
   ]
  },
  {
   "cell_type": "code",
   "execution_count": 24,
   "id": "6e493c91",
   "metadata": {},
   "outputs": [
    {
     "data": {
      "text/plain": [
       "['Hello', 4, 5, 6, True, (5+6j)]"
      ]
     },
     "execution_count": 24,
     "metadata": {},
     "output_type": "execute_result"
    }
   ],
   "source": [
    "L2=['Hello',4,5,6,True,5+6j]   # heterogenous list\n",
    "L2"
   ]
  },
  {
   "cell_type": "code",
   "execution_count": 7,
   "id": "94f2bcf6",
   "metadata": {},
   "outputs": [
    {
     "data": {
      "text/plain": [
       "[1, 2, 3, [4, 5]]"
      ]
     },
     "execution_count": 7,
     "metadata": {},
     "output_type": "execute_result"
    }
   ],
   "source": [
    "L3=[1,2,3,[4,5]]   # multi-dim lists   # 2D\n",
    "L3"
   ]
  },
  {
   "cell_type": "code",
   "execution_count": 191,
   "id": "fe595d10",
   "metadata": {},
   "outputs": [
    {
     "data": {
      "text/plain": [
       "[[[1, 2], [3, 4]], [[5, 6], [7, 8]]]"
      ]
     },
     "execution_count": 191,
     "metadata": {},
     "output_type": "execute_result"
    }
   ],
   "source": [
    "L4=[[[1,2],[3,4]],[[5,6],[7,8]]]   # multi-dim lists   # 3D\n",
    "L4"
   ]
  },
  {
   "cell_type": "code",
   "execution_count": 192,
   "id": "e31d4a7b",
   "metadata": {},
   "outputs": [
    {
     "data": {
      "text/plain": [
       "['E', 'h', 't', 'a', 's', 'h', 'a', 'm']"
      ]
     },
     "execution_count": 192,
     "metadata": {},
     "output_type": "execute_result"
    }
   ],
   "source": [
    "L5=list('Ehtasham')    # type conversion       # string converted to list\n",
    "L5"
   ]
  },
  {
   "cell_type": "code",
   "execution_count": 193,
   "id": "0b97ed1e",
   "metadata": {},
   "outputs": [
    {
     "data": {
      "text/plain": [
       "[]"
      ]
     },
     "execution_count": 193,
     "metadata": {},
     "output_type": "execute_result"
    }
   ],
   "source": [
    "L6=list()   # empty list(another method)\n",
    "L6"
   ]
  },
  {
   "cell_type": "code",
   "execution_count": 194,
   "id": "7dea04ff",
   "metadata": {},
   "outputs": [],
   "source": [
    "##### Access items from lists"
   ]
  },
  {
   "cell_type": "code",
   "execution_count": 195,
   "id": "b6e8c75e",
   "metadata": {},
   "outputs": [
    {
     "data": {
      "text/plain": [
       "[1, 2, 3, 4, 5, 6]"
      ]
     },
     "execution_count": 195,
     "metadata": {},
     "output_type": "execute_result"
    }
   ],
   "source": [
    "L1"
   ]
  },
  {
   "cell_type": "code",
   "execution_count": 2,
   "id": "3e9a5535",
   "metadata": {},
   "outputs": [
    {
     "data": {
      "text/plain": [
       "1"
      ]
     },
     "execution_count": 2,
     "metadata": {},
     "output_type": "execute_result"
    }
   ],
   "source": [
    "L1[0]"
   ]
  },
  {
   "cell_type": "code",
   "execution_count": 3,
   "id": "72e0d529",
   "metadata": {},
   "outputs": [
    {
     "data": {
      "text/plain": [
       "6"
      ]
     },
     "execution_count": 3,
     "metadata": {},
     "output_type": "execute_result"
    }
   ],
   "source": [
    "L1[-1]"
   ]
  },
  {
   "cell_type": "code",
   "execution_count": 4,
   "id": "339b8991",
   "metadata": {},
   "outputs": [
    {
     "data": {
      "text/plain": [
       "[2, 3]"
      ]
     },
     "execution_count": 4,
     "metadata": {},
     "output_type": "execute_result"
    }
   ],
   "source": [
    "L1[1:3]"
   ]
  },
  {
   "cell_type": "code",
   "execution_count": 5,
   "id": "7c74d2a6",
   "metadata": {},
   "outputs": [
    {
     "data": {
      "text/plain": [
       "[6, 5, 4, 3, 2, 1]"
      ]
     },
     "execution_count": 5,
     "metadata": {},
     "output_type": "execute_result"
    }
   ],
   "source": [
    "L1[::-1]"
   ]
  },
  {
   "cell_type": "code",
   "execution_count": 8,
   "id": "d90b58d9",
   "metadata": {},
   "outputs": [
    {
     "data": {
      "text/plain": [
       "[1, 2, 3, [4, 5]]"
      ]
     },
     "execution_count": 8,
     "metadata": {},
     "output_type": "execute_result"
    }
   ],
   "source": [
    "L3   # access items from multi-dim lists"
   ]
  },
  {
   "cell_type": "code",
   "execution_count": 201,
   "id": "f6656304",
   "metadata": {},
   "outputs": [
    {
     "data": {
      "text/plain": [
       "1"
      ]
     },
     "execution_count": 201,
     "metadata": {},
     "output_type": "execute_result"
    }
   ],
   "source": [
    "# how to access 4 from L3\n",
    "\n",
    "L3[0]"
   ]
  },
  {
   "cell_type": "code",
   "execution_count": 202,
   "id": "3a66ad3e",
   "metadata": {},
   "outputs": [
    {
     "data": {
      "text/plain": [
       "[4, 5]"
      ]
     },
     "execution_count": 202,
     "metadata": {},
     "output_type": "execute_result"
    }
   ],
   "source": [
    "L3[-1]"
   ]
  },
  {
   "cell_type": "code",
   "execution_count": 203,
   "id": "6248479d",
   "metadata": {},
   "outputs": [
    {
     "data": {
      "text/plain": [
       "[4, 5]"
      ]
     },
     "execution_count": 203,
     "metadata": {},
     "output_type": "execute_result"
    }
   ],
   "source": [
    "X=L3[-1]\n",
    "X"
   ]
  },
  {
   "cell_type": "code",
   "execution_count": 204,
   "id": "ce120b17",
   "metadata": {},
   "outputs": [
    {
     "data": {
      "text/plain": [
       "4"
      ]
     },
     "execution_count": 204,
     "metadata": {},
     "output_type": "execute_result"
    }
   ],
   "source": [
    "X[0]"
   ]
  },
  {
   "cell_type": "code",
   "execution_count": 205,
   "id": "b5834ef8",
   "metadata": {},
   "outputs": [
    {
     "data": {
      "text/plain": [
       "4"
      ]
     },
     "execution_count": 205,
     "metadata": {},
     "output_type": "execute_result"
    }
   ],
   "source": [
    "L3[-1][0]"
   ]
  },
  {
   "cell_type": "code",
   "execution_count": 206,
   "id": "8e290803",
   "metadata": {},
   "outputs": [
    {
     "data": {
      "text/plain": [
       "4"
      ]
     },
     "execution_count": 206,
     "metadata": {},
     "output_type": "execute_result"
    }
   ],
   "source": [
    "L3[3][0]  "
   ]
  },
  {
   "cell_type": "code",
   "execution_count": 207,
   "id": "7f65da7f",
   "metadata": {},
   "outputs": [
    {
     "data": {
      "text/plain": [
       "[[[1, 2], [3, 4]], [[5, 6], [7, 8]]]"
      ]
     },
     "execution_count": 207,
     "metadata": {},
     "output_type": "execute_result"
    }
   ],
   "source": [
    "# how to access 7 from L4\n",
    "\n",
    "L4"
   ]
  },
  {
   "cell_type": "code",
   "execution_count": 208,
   "id": "cdc5fe07",
   "metadata": {},
   "outputs": [
    {
     "data": {
      "text/plain": [
       "[[1, 2], [3, 4]]"
      ]
     },
     "execution_count": 208,
     "metadata": {},
     "output_type": "execute_result"
    }
   ],
   "source": [
    "L4[0]"
   ]
  },
  {
   "cell_type": "code",
   "execution_count": 209,
   "id": "20dc67de",
   "metadata": {},
   "outputs": [
    {
     "data": {
      "text/plain": [
       "[[5, 6], [7, 8]]"
      ]
     },
     "execution_count": 209,
     "metadata": {},
     "output_type": "execute_result"
    }
   ],
   "source": [
    "L4[1]"
   ]
  },
  {
   "cell_type": "code",
   "execution_count": 210,
   "id": "fe8415e6",
   "metadata": {},
   "outputs": [
    {
     "data": {
      "text/plain": [
       "[5, 6]"
      ]
     },
     "execution_count": 210,
     "metadata": {},
     "output_type": "execute_result"
    }
   ],
   "source": [
    "L4[1][0]"
   ]
  },
  {
   "cell_type": "code",
   "execution_count": 211,
   "id": "f5c73975",
   "metadata": {},
   "outputs": [
    {
     "data": {
      "text/plain": [
       "[7, 8]"
      ]
     },
     "execution_count": 211,
     "metadata": {},
     "output_type": "execute_result"
    }
   ],
   "source": [
    "L4[1][1]"
   ]
  },
  {
   "cell_type": "code",
   "execution_count": 212,
   "id": "51419411",
   "metadata": {},
   "outputs": [
    {
     "data": {
      "text/plain": [
       "7"
      ]
     },
     "execution_count": 212,
     "metadata": {},
     "output_type": "execute_result"
    }
   ],
   "source": [
    "L4[1][1][0]"
   ]
  },
  {
   "cell_type": "code",
   "execution_count": 213,
   "id": "f50f2282",
   "metadata": {},
   "outputs": [],
   "source": [
    "#####  Edit items from lists"
   ]
  },
  {
   "cell_type": "code",
   "execution_count": 9,
   "id": "ffb36630",
   "metadata": {},
   "outputs": [
    {
     "data": {
      "text/plain": [
       "[1, 2, 3, 4, 5, 6]"
      ]
     },
     "execution_count": 9,
     "metadata": {},
     "output_type": "execute_result"
    }
   ],
   "source": [
    "L1"
   ]
  },
  {
   "cell_type": "code",
   "execution_count": 10,
   "id": "be0a024a",
   "metadata": {},
   "outputs": [
    {
     "data": {
      "text/plain": [
       "[100, 2, 3, 4, 5, 6]"
      ]
     },
     "execution_count": 10,
     "metadata": {},
     "output_type": "execute_result"
    }
   ],
   "source": [
    "L1[0]=100    # lists are mutable\n",
    "L1"
   ]
  },
  {
   "cell_type": "code",
   "execution_count": 11,
   "id": "7f193262",
   "metadata": {},
   "outputs": [
    {
     "data": {
      "text/plain": [
       "[100, 2, 3, 4, 5, 500]"
      ]
     },
     "execution_count": 11,
     "metadata": {},
     "output_type": "execute_result"
    }
   ],
   "source": [
    "L1[-1]=500\n",
    "L1"
   ]
  },
  {
   "cell_type": "code",
   "execution_count": 12,
   "id": "581cefc2",
   "metadata": {},
   "outputs": [
    {
     "data": {
      "text/plain": [
       "[100, 200, 300, 400, 5, 500]"
      ]
     },
     "execution_count": 12,
     "metadata": {},
     "output_type": "execute_result"
    }
   ],
   "source": [
    "L1[1:4]=200,300,400\n",
    "L1"
   ]
  },
  {
   "cell_type": "code",
   "execution_count": 13,
   "id": "144b331d",
   "metadata": {},
   "outputs": [],
   "source": [
    "##### Add items in lists"
   ]
  },
  {
   "cell_type": "code",
   "execution_count": 14,
   "id": "11534c74",
   "metadata": {},
   "outputs": [
    {
     "data": {
      "text/plain": [
       "[100, 200, 300, 400, 5, 500]"
      ]
     },
     "execution_count": 14,
     "metadata": {},
     "output_type": "execute_result"
    }
   ],
   "source": [
    "L1"
   ]
  },
  {
   "cell_type": "code",
   "execution_count": 15,
   "id": "41023179",
   "metadata": {},
   "outputs": [
    {
     "data": {
      "text/plain": [
       "[100, 200, 300, 400, 5, 500, 1000]"
      ]
     },
     "execution_count": 15,
     "metadata": {},
     "output_type": "execute_result"
    }
   ],
   "source": [
    "L1.append(1000)   # append   (adds only 1 item)\n",
    "L1"
   ]
  },
  {
   "cell_type": "code",
   "execution_count": 16,
   "id": "77910981",
   "metadata": {},
   "outputs": [
    {
     "data": {
      "text/plain": [
       "[100, 200, 300, 400, 5, 500, 1000, 'hello']"
      ]
     },
     "execution_count": 16,
     "metadata": {},
     "output_type": "execute_result"
    }
   ],
   "source": [
    "L1.append('hello')   # append   (adds only 1 item)\n",
    "L1"
   ]
  },
  {
   "cell_type": "code",
   "execution_count": 17,
   "id": "8159dbe7",
   "metadata": {},
   "outputs": [
    {
     "data": {
      "text/plain": [
       "[100, 200, 300, 400, 5, 500, 1000, 'hello', 4000, 5000, 6000]"
      ]
     },
     "execution_count": 17,
     "metadata": {},
     "output_type": "execute_result"
    }
   ],
   "source": [
    "L1.extend([4000,5000,6000])   # extend (add multiple items)\n",
    "L1"
   ]
  },
  {
   "cell_type": "code",
   "execution_count": 226,
   "id": "2fe293e3",
   "metadata": {},
   "outputs": [
    {
     "data": {
      "text/plain": [
       "[100,\n",
       " 200,\n",
       " 300,\n",
       " 400,\n",
       " 5,\n",
       " 500,\n",
       " 1000,\n",
       " 1000,\n",
       " 'hello',\n",
       " 4000,\n",
       " 5000,\n",
       " 6000,\n",
       " [5, 6],\n",
       " [5, 6]]"
      ]
     },
     "execution_count": 226,
     "metadata": {},
     "output_type": "execute_result"
    }
   ],
   "source": [
    "L1.append([5,6])   # append will always try to add 1 item\n",
    "L1"
   ]
  },
  {
   "cell_type": "code",
   "execution_count": 18,
   "id": "e48521c8",
   "metadata": {},
   "outputs": [
    {
     "data": {
      "text/plain": [
       "[100, 200, 300, 400, 5, 500, 1000, 'hello', 4000, 5000, 6000, 'g', 'o', 'a']"
      ]
     },
     "execution_count": 18,
     "metadata": {},
     "output_type": "execute_result"
    }
   ],
   "source": [
    "L1.extend('goa')   # extend will always try to add multiple items\n",
    "L1"
   ]
  },
  {
   "cell_type": "code",
   "execution_count": 19,
   "id": "9e09482a",
   "metadata": {},
   "outputs": [],
   "source": [
    "L1.insert(1,'world')  # insert adds item in specified location"
   ]
  },
  {
   "cell_type": "code",
   "execution_count": 20,
   "id": "82937eae",
   "metadata": {},
   "outputs": [
    {
     "data": {
      "text/plain": [
       "[100,\n",
       " 'world',\n",
       " 200,\n",
       " 300,\n",
       " 400,\n",
       " 5,\n",
       " 500,\n",
       " 1000,\n",
       " 'hello',\n",
       " 4000,\n",
       " 5000,\n",
       " 6000,\n",
       " 'g',\n",
       " 'o',\n",
       " 'a']"
      ]
     },
     "execution_count": 20,
     "metadata": {},
     "output_type": "execute_result"
    }
   ],
   "source": [
    "L1"
   ]
  },
  {
   "cell_type": "code",
   "execution_count": 21,
   "id": "c358205f",
   "metadata": {},
   "outputs": [],
   "source": [
    "##### Delete items from lists"
   ]
  },
  {
   "cell_type": "code",
   "execution_count": 22,
   "id": "8d242b82",
   "metadata": {},
   "outputs": [
    {
     "data": {
      "text/plain": [
       "[100,\n",
       " 'world',\n",
       " 200,\n",
       " 300,\n",
       " 400,\n",
       " 5,\n",
       " 500,\n",
       " 1000,\n",
       " 'hello',\n",
       " 4000,\n",
       " 5000,\n",
       " 6000,\n",
       " 'g',\n",
       " 'o',\n",
       " 'a']"
      ]
     },
     "execution_count": 22,
     "metadata": {},
     "output_type": "execute_result"
    }
   ],
   "source": [
    "L1"
   ]
  },
  {
   "cell_type": "code",
   "execution_count": 25,
   "id": "c4221f2a",
   "metadata": {},
   "outputs": [
    {
     "data": {
      "text/plain": [
       "['Hello', 4, 5, 6, True, (5+6j)]"
      ]
     },
     "execution_count": 25,
     "metadata": {},
     "output_type": "execute_result"
    }
   ],
   "source": [
    "L2"
   ]
  },
  {
   "cell_type": "code",
   "execution_count": 28,
   "id": "e5ee65d5",
   "metadata": {},
   "outputs": [
    {
     "ename": "NameError",
     "evalue": "name 'L2' is not defined",
     "output_type": "error",
     "traceback": [
      "\u001b[1;31m---------------------------------------------------------------------------\u001b[0m",
      "\u001b[1;31mNameError\u001b[0m                                 Traceback (most recent call last)",
      "\u001b[1;32m~\\AppData\\Local\\Temp\\ipykernel_7400\\3495304003.py\u001b[0m in \u001b[0;36m<module>\u001b[1;34m\u001b[0m\n\u001b[1;32m----> 1\u001b[1;33m \u001b[1;32mdel\u001b[0m \u001b[0mL2\u001b[0m\u001b[1;33m\u001b[0m\u001b[1;33m\u001b[0m\u001b[0m\n\u001b[0m\u001b[0;32m      2\u001b[0m \u001b[0mL2\u001b[0m\u001b[1;33m\u001b[0m\u001b[1;33m\u001b[0m\u001b[0m\n",
      "\u001b[1;31mNameError\u001b[0m: name 'L2' is not defined"
     ]
    }
   ],
   "source": [
    "del L2   # del deletes entire list\n",
    "L2"
   ]
  },
  {
   "cell_type": "code",
   "execution_count": 30,
   "id": "e07c189f",
   "metadata": {},
   "outputs": [
    {
     "data": {
      "text/plain": [
       "['world',\n",
       " 200,\n",
       " 300,\n",
       " 400,\n",
       " 5,\n",
       " 500,\n",
       " 1000,\n",
       " 'hello',\n",
       " 4000,\n",
       " 5000,\n",
       " 6000,\n",
       " 'g',\n",
       " 'o',\n",
       " 'a']"
      ]
     },
     "execution_count": 30,
     "metadata": {},
     "output_type": "execute_result"
    }
   ],
   "source": [
    "del L1[0]  # deletes item from L1 at 0th position\n",
    "L1"
   ]
  },
  {
   "cell_type": "code",
   "execution_count": 31,
   "id": "548191c3",
   "metadata": {},
   "outputs": [
    {
     "data": {
      "text/plain": [
       "['world', 200, 300, 400, 5, 500, 1000, 'hello', 4000, 5000, 'g', 'o', 'a']"
      ]
     },
     "execution_count": 31,
     "metadata": {},
     "output_type": "execute_result"
    }
   ],
   "source": [
    "del L1[-4]     # deletes item from L1 at -4th position\n",
    "L1"
   ]
  },
  {
   "cell_type": "code",
   "execution_count": 32,
   "id": "61155bf3",
   "metadata": {},
   "outputs": [
    {
     "data": {
      "text/plain": [
       "['world', 200, 300, 400, 5, 500, 1000, 'hello', 4000, 5000]"
      ]
     },
     "execution_count": 32,
     "metadata": {},
     "output_type": "execute_result"
    }
   ],
   "source": [
    "del L1[-3:]   # deleting 'g', 'o', 'a' \n",
    "L1"
   ]
  },
  {
   "cell_type": "code",
   "execution_count": 33,
   "id": "448fad1f",
   "metadata": {},
   "outputs": [
    {
     "data": {
      "text/plain": [
       "['world', 200, 300, 400, 5, 500, 1000, 4000, 5000]"
      ]
     },
     "execution_count": 33,
     "metadata": {},
     "output_type": "execute_result"
    }
   ],
   "source": [
    "L1.remove('hello')      # if we want to delete an item but we don't know the position of the item then use 'remove'\n",
    "L1"
   ]
  },
  {
   "cell_type": "code",
   "execution_count": 34,
   "id": "ce95dbff",
   "metadata": {},
   "outputs": [
    {
     "data": {
      "text/plain": [
       "5000"
      ]
     },
     "execution_count": 34,
     "metadata": {},
     "output_type": "execute_result"
    }
   ],
   "source": [
    "L1.pop()    # 'pop' deletes the last item"
   ]
  },
  {
   "cell_type": "code",
   "execution_count": 35,
   "id": "9c1d6457",
   "metadata": {},
   "outputs": [
    {
     "data": {
      "text/plain": [
       "['world', 200, 300, 400, 5, 500, 1000, 4000]"
      ]
     },
     "execution_count": 35,
     "metadata": {},
     "output_type": "execute_result"
    }
   ],
   "source": [
    "L1"
   ]
  },
  {
   "cell_type": "code",
   "execution_count": 36,
   "id": "4d08c034",
   "metadata": {},
   "outputs": [
    {
     "data": {
      "text/plain": [
       "4000"
      ]
     },
     "execution_count": 36,
     "metadata": {},
     "output_type": "execute_result"
    }
   ],
   "source": [
    "L1.pop()"
   ]
  },
  {
   "cell_type": "code",
   "execution_count": 37,
   "id": "4614d1c0",
   "metadata": {},
   "outputs": [
    {
     "data": {
      "text/plain": [
       "['world', 200, 300, 400, 5, 500, 1000]"
      ]
     },
     "execution_count": 37,
     "metadata": {},
     "output_type": "execute_result"
    }
   ],
   "source": [
    "L1"
   ]
  },
  {
   "cell_type": "code",
   "execution_count": 38,
   "id": "67f9509b",
   "metadata": {},
   "outputs": [
    {
     "data": {
      "text/plain": [
       "[]"
      ]
     },
     "execution_count": 38,
     "metadata": {},
     "output_type": "execute_result"
    }
   ],
   "source": [
    "L1.clear()    # clear deletes all items from the list\n",
    "L1            # while del().L2 deletes the entire list"
   ]
  },
  {
   "cell_type": "code",
   "execution_count": 39,
   "id": "aff4598d",
   "metadata": {},
   "outputs": [],
   "source": [
    "##### operations"
   ]
  },
  {
   "cell_type": "code",
   "execution_count": 41,
   "id": "fe8bc256",
   "metadata": {},
   "outputs": [
    {
     "data": {
      "text/plain": [
       "[1, 2, 3, 4]"
      ]
     },
     "execution_count": 41,
     "metadata": {},
     "output_type": "execute_result"
    }
   ],
   "source": [
    "L=[1,2,3,4]\n",
    "L"
   ]
  },
  {
   "cell_type": "code",
   "execution_count": 42,
   "id": "50476ec4",
   "metadata": {},
   "outputs": [
    {
     "data": {
      "text/plain": [
       "[5, 6, 7, 8]"
      ]
     },
     "execution_count": 42,
     "metadata": {},
     "output_type": "execute_result"
    }
   ],
   "source": [
    "L1=[5,6,7,8]\n",
    "L1"
   ]
  },
  {
   "cell_type": "code",
   "execution_count": 43,
   "id": "8b1e164e",
   "metadata": {},
   "outputs": [
    {
     "data": {
      "text/plain": [
       "[1, 2, 3, 4, 5, 6, 7, 8]"
      ]
     },
     "execution_count": 43,
     "metadata": {},
     "output_type": "execute_result"
    }
   ],
   "source": [
    "L+L1   # addition operator ----> + (concatenate)"
   ]
  },
  {
   "cell_type": "code",
   "execution_count": 44,
   "id": "6ec06cf2",
   "metadata": {},
   "outputs": [
    {
     "data": {
      "text/plain": [
       "[1, 2, 3, 4, 1, 2, 3, 4, 1, 2, 3, 4]"
      ]
     },
     "execution_count": 44,
     "metadata": {},
     "output_type": "execute_result"
    }
   ],
   "source": [
    "L*3     # multiplication operator ----> * (concatenate)"
   ]
  },
  {
   "cell_type": "code",
   "execution_count": 45,
   "id": "72a9dd7e",
   "metadata": {},
   "outputs": [
    {
     "name": "stdout",
     "output_type": "stream",
     "text": [
      "1\n",
      "2\n",
      "3\n",
      "4\n"
     ]
    }
   ],
   "source": [
    "for i in L:     # loop\n",
    "    print(i)"
   ]
  },
  {
   "cell_type": "code",
   "execution_count": 46,
   "id": "ef1e0b96",
   "metadata": {},
   "outputs": [
    {
     "data": {
      "text/plain": [
       "[1, 2, 3, [4, 5]]"
      ]
     },
     "execution_count": 46,
     "metadata": {},
     "output_type": "execute_result"
    }
   ],
   "source": [
    "L3"
   ]
  },
  {
   "cell_type": "code",
   "execution_count": 47,
   "id": "e107709a",
   "metadata": {},
   "outputs": [
    {
     "name": "stdout",
     "output_type": "stream",
     "text": [
      "1\n",
      "2\n",
      "3\n",
      "[4, 5]\n"
     ]
    }
   ],
   "source": [
    "for i in L3:   # loop\n",
    "    print(i)"
   ]
  },
  {
   "cell_type": "code",
   "execution_count": 48,
   "id": "fe263923",
   "metadata": {},
   "outputs": [
    {
     "data": {
      "text/plain": [
       "False"
      ]
     },
     "execution_count": 48,
     "metadata": {},
     "output_type": "execute_result"
    }
   ],
   "source": [
    "4 in L3   # membership operator"
   ]
  },
  {
   "cell_type": "code",
   "execution_count": 49,
   "id": "2990745f",
   "metadata": {},
   "outputs": [
    {
     "data": {
      "text/plain": [
       "True"
      ]
     },
     "execution_count": 49,
     "metadata": {},
     "output_type": "execute_result"
    }
   ],
   "source": [
    "[4,5] in L3"
   ]
  },
  {
   "cell_type": "code",
   "execution_count": 50,
   "id": "b70ab1cd",
   "metadata": {},
   "outputs": [],
   "source": [
    "##### Functions"
   ]
  },
  {
   "cell_type": "code",
   "execution_count": 51,
   "id": "29c945eb",
   "metadata": {},
   "outputs": [
    {
     "data": {
      "text/plain": [
       "[1, 2, 3, 4]"
      ]
     },
     "execution_count": 51,
     "metadata": {},
     "output_type": "execute_result"
    }
   ],
   "source": [
    "L"
   ]
  },
  {
   "cell_type": "code",
   "execution_count": 52,
   "id": "3e55a999",
   "metadata": {},
   "outputs": [
    {
     "data": {
      "text/plain": [
       "4"
      ]
     },
     "execution_count": 52,
     "metadata": {},
     "output_type": "execute_result"
    }
   ],
   "source": [
    "len(L)"
   ]
  },
  {
   "cell_type": "code",
   "execution_count": 53,
   "id": "5da02c9b",
   "metadata": {},
   "outputs": [
    {
     "data": {
      "text/plain": [
       "1"
      ]
     },
     "execution_count": 53,
     "metadata": {},
     "output_type": "execute_result"
    }
   ],
   "source": [
    "min(L)"
   ]
  },
  {
   "cell_type": "code",
   "execution_count": 54,
   "id": "8a3001b5",
   "metadata": {},
   "outputs": [
    {
     "data": {
      "text/plain": [
       "4"
      ]
     },
     "execution_count": 54,
     "metadata": {},
     "output_type": "execute_result"
    }
   ],
   "source": [
    "max(L)"
   ]
  },
  {
   "cell_type": "code",
   "execution_count": 55,
   "id": "c4054516",
   "metadata": {},
   "outputs": [
    {
     "data": {
      "text/plain": [
       "[1, 2, 3, 4]"
      ]
     },
     "execution_count": 55,
     "metadata": {},
     "output_type": "execute_result"
    }
   ],
   "source": [
    "sorted(L)    # sorting in ascending order      # 'sorted' is not a permanent operation"
   ]
  },
  {
   "cell_type": "code",
   "execution_count": 56,
   "id": "eb8b9a4b",
   "metadata": {},
   "outputs": [
    {
     "data": {
      "text/plain": [
       "[4, 3, 2, 1]"
      ]
     },
     "execution_count": 56,
     "metadata": {},
     "output_type": "execute_result"
    }
   ],
   "source": [
    "sorted(L,reverse=True)    # sorting in descending order    # 'sorted' is not a permanent operation"
   ]
  },
  {
   "cell_type": "code",
   "execution_count": 58,
   "id": "3460d49d",
   "metadata": {},
   "outputs": [
    {
     "data": {
      "text/plain": [
       "[1, 2, 3, 4]"
      ]
     },
     "execution_count": 58,
     "metadata": {},
     "output_type": "execute_result"
    }
   ],
   "source": [
    "L.sort()      # 'sort' is a permanent operation\n",
    "L"
   ]
  },
  {
   "cell_type": "code",
   "execution_count": 59,
   "id": "da927344",
   "metadata": {},
   "outputs": [
    {
     "data": {
      "text/plain": [
       "[4, 3, 2, 1]"
      ]
     },
     "execution_count": 59,
     "metadata": {},
     "output_type": "execute_result"
    }
   ],
   "source": [
    "L.sort(reverse=True)   # 'sort' is a permanent operation\n",
    "L"
   ]
  },
  {
   "cell_type": "code",
   "execution_count": 60,
   "id": "4c7934f4",
   "metadata": {},
   "outputs": [
    {
     "data": {
      "text/plain": [
       "[4, 3, 2, 1]"
      ]
     },
     "execution_count": 60,
     "metadata": {},
     "output_type": "execute_result"
    }
   ],
   "source": [
    "L   # 'sort' is a permanent operation"
   ]
  },
  {
   "cell_type": "code",
   "execution_count": 61,
   "id": "a91b22ce",
   "metadata": {},
   "outputs": [],
   "source": [
    "# 'sorted' will create a new list but 'sort' will make changes in original list."
   ]
  },
  {
   "cell_type": "code",
   "execution_count": 62,
   "id": "f1c74112",
   "metadata": {},
   "outputs": [
    {
     "data": {
      "text/plain": [
       "1"
      ]
     },
     "execution_count": 62,
     "metadata": {},
     "output_type": "execute_result"
    }
   ],
   "source": [
    "L.index(3)    # gives index"
   ]
  },
  {
   "cell_type": "markdown",
   "id": "ed789d4d",
   "metadata": {},
   "source": [
    "# <Q.1>For a string , write a code such that each first letter in the word in string is in capital (without using title())"
   ]
  },
  {
   "cell_type": "code",
   "execution_count": 65,
   "id": "689cd6a5",
   "metadata": {},
   "outputs": [
    {
     "data": {
      "text/plain": [
       "'Hello How Are You?'"
      ]
     },
     "execution_count": 65,
     "metadata": {},
     "output_type": "execute_result"
    }
   ],
   "source": [
    "# example;\n",
    "'hello how are you?'.title()     # we have to do this without 'title' operation"
   ]
  },
  {
   "cell_type": "code",
   "execution_count": 67,
   "id": "bed9ba99",
   "metadata": {},
   "outputs": [
    {
     "name": "stdout",
     "output_type": "stream",
     "text": [
      "['hello', 'how', 'are', 'you?']\n"
     ]
    }
   ],
   "source": [
    "sample='hello how are you?'\n",
    "print(sample.split())   # split converts string into list.  "
   ]
  },
  {
   "cell_type": "code",
   "execution_count": 69,
   "id": "148b1da1",
   "metadata": {},
   "outputs": [
    {
     "name": "stdout",
     "output_type": "stream",
     "text": [
      "hello\n",
      "how\n",
      "are\n",
      "you?\n"
     ]
    }
   ],
   "source": [
    "sample='hello how are you?'\n",
    "\n",
    "for i in sample.split():\n",
    "    print(i)"
   ]
  },
  {
   "cell_type": "code",
   "execution_count": 70,
   "id": "43e8145e",
   "metadata": {},
   "outputs": [
    {
     "name": "stdout",
     "output_type": "stream",
     "text": [
      "Hello\n",
      "How\n",
      "Are\n",
      "You?\n"
     ]
    }
   ],
   "source": [
    "sample='hello how are you?'\n",
    "\n",
    "for i in sample.split():\n",
    "    print(i.capitalize())    # now if we want this o/p in string format"
   ]
  },
  {
   "cell_type": "code",
   "execution_count": 71,
   "id": "f9f4a395",
   "metadata": {},
   "outputs": [
    {
     "name": "stdout",
     "output_type": "stream",
     "text": [
      "Hello\n",
      "How\n",
      "Are\n",
      "You?\n",
      "['Hello', 'How', 'Are', 'You?']\n"
     ]
    }
   ],
   "source": [
    "sample='hello how are you?'\n",
    "\n",
    "L=[]\n",
    "\n",
    "for i in sample.split():\n",
    "    print(i.capitalize())\n",
    "    L.append(i.capitalize())\n",
    "    \n",
    "print(L)      # we got a list in o/p\n",
    "              # Now we want a string from this list "
   ]
  },
  {
   "cell_type": "code",
   "execution_count": 73,
   "id": "1c333127",
   "metadata": {},
   "outputs": [
    {
     "name": "stdout",
     "output_type": "stream",
     "text": [
      "Hello\n",
      "How\n",
      "Are\n",
      "You?\n",
      "['Hello', 'How', 'Are', 'You?']\n",
      "Hello How Are You?\n"
     ]
    }
   ],
   "source": [
    "sample='hello how are you?'\n",
    "\n",
    "L=[]\n",
    "\n",
    "for i in sample.split():\n",
    "    print(i.capitalize())\n",
    "    L.append(i.capitalize())\n",
    "    \n",
    "print(L)\n",
    "print(\" \".join(L))    # this is the final code"
   ]
  },
  {
   "cell_type": "code",
   "execution_count": 2,
   "id": "33d7fc1b",
   "metadata": {},
   "outputs": [
    {
     "name": "stdout",
     "output_type": "stream",
     "text": [
      "write a string : my name is shayema\n",
      "My\n",
      "Name\n",
      "Is\n",
      "Shayema\n",
      "['My', 'Name', 'Is', 'Shayema']\n",
      "My Name Is Shayema\n"
     ]
    }
   ],
   "source": [
    "sample=input(\"write a string : \")\n",
    "\n",
    "L=[]\n",
    "\n",
    "for i in sample.split():\n",
    "    print(i.capitalize())\n",
    "    L.append(i.capitalize())\n",
    "    \n",
    "print(L)\n",
    "print(\" \".join(L))    # this is the final code"
   ]
  },
  {
   "cell_type": "markdown",
   "id": "611258ce",
   "metadata": {},
   "source": [
    "# <Q.2> Suppose email id is : abc@gmail.com then write a code to find abc"
   ]
  },
  {
   "cell_type": "code",
   "execution_count": 1,
   "id": "b58ed7dc",
   "metadata": {},
   "outputs": [
    {
     "name": "stdout",
     "output_type": "stream",
     "text": [
      "3\n"
     ]
    }
   ],
   "source": [
    "sample='abc@gmail.com'\n",
    "\n",
    "print(sample.find(\"@\"))"
   ]
  },
  {
   "cell_type": "code",
   "execution_count": 3,
   "id": "ef0c16e9",
   "metadata": {},
   "outputs": [
    {
     "name": "stdout",
     "output_type": "stream",
     "text": [
      "abc\n"
     ]
    }
   ],
   "source": [
    "sample='abc@gmail.com'\n",
    "\n",
    "print(sample[:sample.find(\"@\")])   "
   ]
  },
  {
   "cell_type": "code",
   "execution_count": 4,
   "id": "daefc9ef",
   "metadata": {},
   "outputs": [
    {
     "name": "stdout",
     "output_type": "stream",
     "text": [
      "shayema\n"
     ]
    }
   ],
   "source": [
    "sample='shayema@yahoo.com'\n",
    "\n",
    "print(sample[:sample.find(\"@\")])   "
   ]
  },
  {
   "cell_type": "code",
   "execution_count": 6,
   "id": "ad33c937",
   "metadata": {},
   "outputs": [
    {
     "name": "stdout",
     "output_type": "stream",
     "text": [
      " write your email : shayemanaaz@gmail.com\n",
      "shayemanaaz\n"
     ]
    }
   ],
   "source": [
    "sample=input(\" write your email : \")\n",
    "\n",
    "print(sample[:sample.find(\"@\")])"
   ]
  },
  {
   "cell_type": "markdown",
   "id": "77057239",
   "metadata": {},
   "source": [
    "# <Q.3> write a code to remove duplicate items from list \n",
    "i.e., [1,1,2,2,3,3,4,4] ---> [1,2,3,4]"
   ]
  },
  {
   "cell_type": "code",
   "execution_count": 8,
   "id": "d0b13428",
   "metadata": {},
   "outputs": [
    {
     "name": "stdout",
     "output_type": "stream",
     "text": [
      "1\n",
      "1\n",
      "2\n",
      "2\n",
      "3\n",
      "3\n",
      "4\n",
      "4\n"
     ]
    }
   ],
   "source": [
    "L1=[1,1,2,2,3,3,4,4]\n",
    "L2=[1,2,3,1]\n",
    "\n",
    "L=[]\n",
    "\n",
    "for i in L1:\n",
    "    print(i)"
   ]
  },
  {
   "cell_type": "code",
   "execution_count": 10,
   "id": "2a1d9a08",
   "metadata": {},
   "outputs": [
    {
     "name": "stdout",
     "output_type": "stream",
     "text": [
      "[1, 2, 3, 4]\n"
     ]
    }
   ],
   "source": [
    "L1=[1,1,2,2,3,3,4,4]\n",
    "L2=[1,2,3,4]\n",
    "\n",
    "L=[]\n",
    "\n",
    "for i in L1:\n",
    "    if i not in L:\n",
    "        L.append(i)\n",
    "        \n",
    "print(L)"
   ]
  },
  {
   "cell_type": "markdown",
   "id": "8ba4bec3",
   "metadata": {},
   "source": [
    "# Tuples\n",
    "Tuples are used to store multiple items in a single variable. A tuple is a collection which is ordered and unchangeable."
   ]
  },
  {
   "cell_type": "code",
   "execution_count": 11,
   "id": "6c523207",
   "metadata": {},
   "outputs": [],
   "source": [
    "# ordered : Maintain the order of the data insertion.\n",
    "# Unchangeable: Tuples are immutable and we can't modify items.\n",
    "# Heterogenous: Tuples can contain data of types.\n",
    "# Contains duplicate: Allows duplicates data"
   ]
  },
  {
   "cell_type": "code",
   "execution_count": 1,
   "id": "483523cf",
   "metadata": {},
   "outputs": [],
   "source": [
    "##### create"
   ]
  },
  {
   "cell_type": "code",
   "execution_count": 2,
   "id": "1a5d1c62",
   "metadata": {},
   "outputs": [
    {
     "data": {
      "text/plain": [
       "()"
      ]
     },
     "execution_count": 2,
     "metadata": {},
     "output_type": "execute_result"
    }
   ],
   "source": [
    "T1=()  # empty \n",
    "T1"
   ]
  },
  {
   "cell_type": "code",
   "execution_count": 3,
   "id": "c4510aaa",
   "metadata": {},
   "outputs": [
    {
     "data": {
      "text/plain": [
       "(1, 2, 3, 4)"
      ]
     },
     "execution_count": 3,
     "metadata": {},
     "output_type": "execute_result"
    }
   ],
   "source": [
    "T2=(1,2,3,4)   # homogeneous\n",
    "T2"
   ]
  },
  {
   "cell_type": "code",
   "execution_count": 4,
   "id": "0fd13adc",
   "metadata": {},
   "outputs": [
    {
     "data": {
      "text/plain": [
       "('Hello', 4, 5.6)"
      ]
     },
     "execution_count": 4,
     "metadata": {},
     "output_type": "execute_result"
    }
   ],
   "source": [
    "T3=(\"Hello\",4,5.6)   # heterogenous \n",
    "T3"
   ]
  },
  {
   "cell_type": "code",
   "execution_count": 5,
   "id": "d0cadaa4",
   "metadata": {},
   "outputs": [
    {
     "data": {
      "text/plain": [
       "(1, 2, 3, (4, 5))"
      ]
     },
     "execution_count": 5,
     "metadata": {},
     "output_type": "execute_result"
    }
   ],
   "source": [
    "T4=(1,2,3,(4,5))   # 2D\n",
    "T4"
   ]
  },
  {
   "cell_type": "code",
   "execution_count": 6,
   "id": "2c255b60",
   "metadata": {},
   "outputs": [
    {
     "data": {
      "text/plain": [
       "1"
      ]
     },
     "execution_count": 6,
     "metadata": {},
     "output_type": "execute_result"
    }
   ],
   "source": [
    "T5=(1)\n",
    "T5"
   ]
  },
  {
   "cell_type": "code",
   "execution_count": 7,
   "id": "7ba2fcaf",
   "metadata": {},
   "outputs": [
    {
     "data": {
      "text/plain": [
       "int"
      ]
     },
     "execution_count": 7,
     "metadata": {},
     "output_type": "execute_result"
    }
   ],
   "source": [
    "type(T5)   # single valued tuple can't be created by this way"
   ]
  },
  {
   "cell_type": "code",
   "execution_count": 8,
   "id": "9695b34a",
   "metadata": {},
   "outputs": [
    {
     "data": {
      "text/plain": [
       "'hello'"
      ]
     },
     "execution_count": 8,
     "metadata": {},
     "output_type": "execute_result"
    }
   ],
   "source": [
    "T5=(\"hello\")   \n",
    "T5"
   ]
  },
  {
   "cell_type": "code",
   "execution_count": 9,
   "id": "f9032df0",
   "metadata": {},
   "outputs": [
    {
     "data": {
      "text/plain": [
       "str"
      ]
     },
     "execution_count": 9,
     "metadata": {},
     "output_type": "execute_result"
    }
   ],
   "source": [
    "type(T5)   # single valued tuple can't be created by this way"
   ]
  },
  {
   "cell_type": "code",
   "execution_count": 10,
   "id": "01ed6a22",
   "metadata": {},
   "outputs": [
    {
     "data": {
      "text/plain": [
       "('Hello',)"
      ]
     },
     "execution_count": 10,
     "metadata": {},
     "output_type": "execute_result"
    }
   ],
   "source": [
    "T5=('Hello',)   # correct way to create a single valued tuple\n",
    "T5"
   ]
  },
  {
   "cell_type": "code",
   "execution_count": 11,
   "id": "b96f1a63",
   "metadata": {},
   "outputs": [
    {
     "data": {
      "text/plain": [
       "tuple"
      ]
     },
     "execution_count": 11,
     "metadata": {},
     "output_type": "execute_result"
    }
   ],
   "source": [
    "type(T5)   "
   ]
  },
  {
   "cell_type": "code",
   "execution_count": 12,
   "id": "16504d95",
   "metadata": {},
   "outputs": [
    {
     "data": {
      "text/plain": [
       "('G', 'o', 'a')"
      ]
     },
     "execution_count": 12,
     "metadata": {},
     "output_type": "execute_result"
    }
   ],
   "source": [
    "T6=tuple('Goa')   # we can use tuple function to create a tuple\n",
    "T6"
   ]
  },
  {
   "cell_type": "code",
   "execution_count": 13,
   "id": "a63f1b33",
   "metadata": {},
   "outputs": [
    {
     "data": {
      "text/plain": [
       "(1, 2, 3, 4, 5)"
      ]
     },
     "execution_count": 13,
     "metadata": {},
     "output_type": "execute_result"
    }
   ],
   "source": [
    "T6=tuple([1,2,3,4,5])\n",
    "T6"
   ]
  },
  {
   "cell_type": "code",
   "execution_count": 14,
   "id": "0ba269dc",
   "metadata": {},
   "outputs": [],
   "source": [
    "##### Access"
   ]
  },
  {
   "cell_type": "code",
   "execution_count": 15,
   "id": "a5e8181b",
   "metadata": {},
   "outputs": [
    {
     "data": {
      "text/plain": [
       "(1, 2, 3, 4)"
      ]
     },
     "execution_count": 15,
     "metadata": {},
     "output_type": "execute_result"
    }
   ],
   "source": [
    "T2"
   ]
  },
  {
   "cell_type": "code",
   "execution_count": 16,
   "id": "98bf552a",
   "metadata": {},
   "outputs": [
    {
     "data": {
      "text/plain": [
       "1"
      ]
     },
     "execution_count": 16,
     "metadata": {},
     "output_type": "execute_result"
    }
   ],
   "source": [
    "T2[0]"
   ]
  },
  {
   "cell_type": "code",
   "execution_count": 18,
   "id": "22341874",
   "metadata": {},
   "outputs": [
    {
     "data": {
      "text/plain": [
       "4"
      ]
     },
     "execution_count": 18,
     "metadata": {},
     "output_type": "execute_result"
    }
   ],
   "source": [
    "T2[-1]"
   ]
  },
  {
   "cell_type": "code",
   "execution_count": 19,
   "id": "cf5b6ad8",
   "metadata": {},
   "outputs": [
    {
     "data": {
      "text/plain": [
       "(1, 2, 3, 4)"
      ]
     },
     "execution_count": 19,
     "metadata": {},
     "output_type": "execute_result"
    }
   ],
   "source": [
    "T2[:4]"
   ]
  },
  {
   "cell_type": "code",
   "execution_count": 21,
   "id": "0d8022f0",
   "metadata": {},
   "outputs": [
    {
     "data": {
      "text/plain": [
       "(1, 2, 3, (4, 5))"
      ]
     },
     "execution_count": 21,
     "metadata": {},
     "output_type": "execute_result"
    }
   ],
   "source": [
    "T4"
   ]
  },
  {
   "cell_type": "code",
   "execution_count": 22,
   "id": "de9c2e7a",
   "metadata": {},
   "outputs": [
    {
     "data": {
      "text/plain": [
       "4"
      ]
     },
     "execution_count": 22,
     "metadata": {},
     "output_type": "execute_result"
    }
   ],
   "source": [
    "T4[3][0]"
   ]
  },
  {
   "cell_type": "code",
   "execution_count": 23,
   "id": "03858fe3",
   "metadata": {},
   "outputs": [],
   "source": [
    "##### Edit"
   ]
  },
  {
   "cell_type": "code",
   "execution_count": 25,
   "id": "103de0a1",
   "metadata": {},
   "outputs": [
    {
     "data": {
      "text/plain": [
       "[100, 2, 3, 4, 5]"
      ]
     },
     "execution_count": 25,
     "metadata": {},
     "output_type": "execute_result"
    }
   ],
   "source": [
    "L=[1,2,3,4,5]    # Difference between list and tuple \n",
    "\n",
    "L[0]=100\n",
    "L"
   ]
  },
  {
   "cell_type": "code",
   "execution_count": 27,
   "id": "e57da626",
   "metadata": {},
   "outputs": [
    {
     "ename": "TypeError",
     "evalue": "'tuple' object does not support item assignment",
     "output_type": "error",
     "traceback": [
      "\u001b[1;31m---------------------------------------------------------------------------\u001b[0m",
      "\u001b[1;31mTypeError\u001b[0m                                 Traceback (most recent call last)",
      "\u001b[1;32m~\\AppData\\Local\\Temp\\ipykernel_3808\\4267042332.py\u001b[0m in \u001b[0;36m<module>\u001b[1;34m\u001b[0m\n\u001b[0;32m      1\u001b[0m \u001b[0mT2\u001b[0m\u001b[1;33m\u001b[0m\u001b[1;33m\u001b[0m\u001b[0m\n\u001b[0;32m      2\u001b[0m \u001b[1;33m\u001b[0m\u001b[0m\n\u001b[1;32m----> 3\u001b[1;33m \u001b[0mT2\u001b[0m\u001b[1;33m[\u001b[0m\u001b[1;36m0\u001b[0m\u001b[1;33m]\u001b[0m\u001b[1;33m=\u001b[0m\u001b[1;36m100\u001b[0m\u001b[1;33m\u001b[0m\u001b[1;33m\u001b[0m\u001b[0m\n\u001b[0m\u001b[0;32m      4\u001b[0m \u001b[0mT2\u001b[0m\u001b[1;33m\u001b[0m\u001b[1;33m\u001b[0m\u001b[0m\n",
      "\u001b[1;31mTypeError\u001b[0m: 'tuple' object does not support item assignment"
     ]
    }
   ],
   "source": [
    "T2            # Difference between list and tuple \n",
    "\n",
    "T2[0]=100\n",
    "T2           # Tuples just like Strings are immutable "
   ]
  },
  {
   "cell_type": "code",
   "execution_count": 28,
   "id": "37486f15",
   "metadata": {},
   "outputs": [],
   "source": [
    "##### Add\n",
    "\n",
    "# ----> We can't add as Tuples are immutable"
   ]
  },
  {
   "cell_type": "code",
   "execution_count": 29,
   "id": "0450084d",
   "metadata": {},
   "outputs": [
    {
     "data": {
      "text/plain": [
       "()"
      ]
     },
     "execution_count": 29,
     "metadata": {},
     "output_type": "execute_result"
    }
   ],
   "source": [
    "##### Delete\n",
    "\n",
    "T1"
   ]
  },
  {
   "cell_type": "code",
   "execution_count": 30,
   "id": "a9e399b3",
   "metadata": {},
   "outputs": [],
   "source": [
    "del T1"
   ]
  },
  {
   "cell_type": "code",
   "execution_count": 31,
   "id": "a60a5761",
   "metadata": {},
   "outputs": [
    {
     "ename": "NameError",
     "evalue": "name 'T1' is not defined",
     "output_type": "error",
     "traceback": [
      "\u001b[1;31m---------------------------------------------------------------------------\u001b[0m",
      "\u001b[1;31mNameError\u001b[0m                                 Traceback (most recent call last)",
      "\u001b[1;32m~\\AppData\\Local\\Temp\\ipykernel_3808\\3266153028.py\u001b[0m in \u001b[0;36m<module>\u001b[1;34m\u001b[0m\n\u001b[1;32m----> 1\u001b[1;33m \u001b[0mT1\u001b[0m\u001b[1;33m\u001b[0m\u001b[1;33m\u001b[0m\u001b[0m\n\u001b[0m",
      "\u001b[1;31mNameError\u001b[0m: name 'T1' is not defined"
     ]
    }
   ],
   "source": [
    "T1    # we can delete entire tuple"
   ]
  },
  {
   "cell_type": "code",
   "execution_count": 32,
   "id": "542b9264",
   "metadata": {},
   "outputs": [
    {
     "data": {
      "text/plain": [
       "(1, 2, 3, 4)"
      ]
     },
     "execution_count": 32,
     "metadata": {},
     "output_type": "execute_result"
    }
   ],
   "source": [
    "T2"
   ]
  },
  {
   "cell_type": "code",
   "execution_count": 34,
   "id": "ce690423",
   "metadata": {},
   "outputs": [
    {
     "ename": "TypeError",
     "evalue": "'tuple' object doesn't support item deletion",
     "output_type": "error",
     "traceback": [
      "\u001b[1;31m---------------------------------------------------------------------------\u001b[0m",
      "\u001b[1;31mTypeError\u001b[0m                                 Traceback (most recent call last)",
      "\u001b[1;32m~\\AppData\\Local\\Temp\\ipykernel_3808\\2647174888.py\u001b[0m in \u001b[0;36m<module>\u001b[1;34m\u001b[0m\n\u001b[1;32m----> 1\u001b[1;33m \u001b[1;32mdel\u001b[0m \u001b[0mT2\u001b[0m\u001b[1;33m[\u001b[0m\u001b[1;33m-\u001b[0m\u001b[1;36m1\u001b[0m\u001b[1;33m]\u001b[0m    \u001b[1;31m# we can delete entire tuple but can't delete items from tuples as they are immutable\u001b[0m\u001b[1;33m\u001b[0m\u001b[1;33m\u001b[0m\u001b[0m\n\u001b[0m",
      "\u001b[1;31mTypeError\u001b[0m: 'tuple' object doesn't support item deletion"
     ]
    }
   ],
   "source": [
    "del T2[-1]    # we can delete entire tuple but can't delete items from tuples as they are immutable"
   ]
  },
  {
   "cell_type": "code",
   "execution_count": 35,
   "id": "b15af1e2",
   "metadata": {},
   "outputs": [],
   "source": [
    "##### Operations"
   ]
  },
  {
   "cell_type": "code",
   "execution_count": 36,
   "id": "dc0c4af8",
   "metadata": {},
   "outputs": [
    {
     "data": {
      "text/plain": [
       "(1, 2, 3, 4)"
      ]
     },
     "execution_count": 36,
     "metadata": {},
     "output_type": "execute_result"
    }
   ],
   "source": [
    "T2"
   ]
  },
  {
   "cell_type": "code",
   "execution_count": 37,
   "id": "71ade9cf",
   "metadata": {},
   "outputs": [
    {
     "data": {
      "text/plain": [
       "('Hello', 4, 5.6)"
      ]
     },
     "execution_count": 37,
     "metadata": {},
     "output_type": "execute_result"
    }
   ],
   "source": [
    "T3"
   ]
  },
  {
   "cell_type": "code",
   "execution_count": 38,
   "id": "f249bc81",
   "metadata": {},
   "outputs": [
    {
     "data": {
      "text/plain": [
       "(1, 2, 3, 4, 'Hello', 4, 5.6)"
      ]
     },
     "execution_count": 38,
     "metadata": {},
     "output_type": "execute_result"
    }
   ],
   "source": [
    "T2 + T3"
   ]
  },
  {
   "cell_type": "code",
   "execution_count": 39,
   "id": "21416064",
   "metadata": {},
   "outputs": [
    {
     "data": {
      "text/plain": [
       "(1, 2, 3, 4, 1, 2, 3, 4, 1, 2, 3, 4)"
      ]
     },
     "execution_count": 39,
     "metadata": {},
     "output_type": "execute_result"
    }
   ],
   "source": [
    "T2*3"
   ]
  },
  {
   "cell_type": "code",
   "execution_count": 40,
   "id": "394e0d38",
   "metadata": {},
   "outputs": [
    {
     "name": "stdout",
     "output_type": "stream",
     "text": [
      "1\n",
      "2\n",
      "3\n",
      "4\n"
     ]
    }
   ],
   "source": [
    "for i in T2:\n",
    "    print(i)"
   ]
  },
  {
   "cell_type": "code",
   "execution_count": 41,
   "id": "0b542751",
   "metadata": {},
   "outputs": [
    {
     "data": {
      "text/plain": [
       "True"
      ]
     },
     "execution_count": 41,
     "metadata": {},
     "output_type": "execute_result"
    }
   ],
   "source": [
    "1 in T2"
   ]
  },
  {
   "cell_type": "code",
   "execution_count": 42,
   "id": "660feb50",
   "metadata": {},
   "outputs": [],
   "source": [
    "##### Functions"
   ]
  },
  {
   "cell_type": "code",
   "execution_count": 43,
   "id": "3c2634e2",
   "metadata": {},
   "outputs": [
    {
     "data": {
      "text/plain": [
       "4"
      ]
     },
     "execution_count": 43,
     "metadata": {},
     "output_type": "execute_result"
    }
   ],
   "source": [
    "len(T2)"
   ]
  },
  {
   "cell_type": "code",
   "execution_count": 44,
   "id": "a66f7f88",
   "metadata": {},
   "outputs": [
    {
     "data": {
      "text/plain": [
       "1"
      ]
     },
     "execution_count": 44,
     "metadata": {},
     "output_type": "execute_result"
    }
   ],
   "source": [
    "min(T2)"
   ]
  },
  {
   "cell_type": "code",
   "execution_count": 45,
   "id": "29a823b4",
   "metadata": {},
   "outputs": [
    {
     "data": {
      "text/plain": [
       "4"
      ]
     },
     "execution_count": 45,
     "metadata": {},
     "output_type": "execute_result"
    }
   ],
   "source": [
    "max(T2)"
   ]
  },
  {
   "cell_type": "code",
   "execution_count": 46,
   "id": "e6f734e7",
   "metadata": {},
   "outputs": [
    {
     "data": {
      "text/plain": [
       "10"
      ]
     },
     "execution_count": 46,
     "metadata": {},
     "output_type": "execute_result"
    }
   ],
   "source": [
    "sum(T2)"
   ]
  },
  {
   "cell_type": "code",
   "execution_count": 47,
   "id": "840fbc78",
   "metadata": {},
   "outputs": [
    {
     "data": {
      "text/plain": [
       "[1, 2, 3, 4]"
      ]
     },
     "execution_count": 47,
     "metadata": {},
     "output_type": "execute_result"
    }
   ],
   "source": [
    "sorted(T2)"
   ]
  },
  {
   "cell_type": "code",
   "execution_count": 48,
   "id": "18a4edc6",
   "metadata": {},
   "outputs": [
    {
     "data": {
      "text/plain": [
       "[4, 3, 2, 1]"
      ]
     },
     "execution_count": 48,
     "metadata": {},
     "output_type": "execute_result"
    }
   ],
   "source": [
    "sorted(T2,reverse=True)"
   ]
  },
  {
   "cell_type": "code",
   "execution_count": 49,
   "id": "3a14edd5",
   "metadata": {},
   "outputs": [],
   "source": [
    "# Tuples are read-only data type"
   ]
  },
  {
   "cell_type": "markdown",
   "id": "1d5bed05",
   "metadata": {},
   "source": [
    "# Sets \n",
    "It is used to store several items in a single variable.It is one of the 4 built-in data types(List,Dict,Tuple and Set).It is a collection that is written in curly brackest and is both ordered and unorederd. A set is mutable. Set in python is similar to mathematical sets and operations like intersection,union,symmetric,difference,etc."
   ]
  },
  {
   "cell_type": "code",
   "execution_count": 1,
   "id": "d5a451d7",
   "metadata": {},
   "outputs": [],
   "source": [
    "##### Rules:\n",
    "\n",
    "# 1. Sets do not allow duplicates\n",
    "\n",
    "# 2. Sets have no indexing/slicing\n",
    "\n",
    "# 3.Sets don't allow mutable data types\n",
    "\n",
    "# 4. Set itself is a mutable data type"
   ]
  },
  {
   "cell_type": "code",
   "execution_count": 2,
   "id": "7289f029",
   "metadata": {},
   "outputs": [],
   "source": [
    "##### Create"
   ]
  },
  {
   "cell_type": "code",
   "execution_count": 15,
   "id": "915b7a05",
   "metadata": {},
   "outputs": [
    {
     "data": {
      "text/plain": [
       "{}"
      ]
     },
     "execution_count": 15,
     "metadata": {},
     "output_type": "execute_result"
    }
   ],
   "source": [
    "S1={}    # by default  this is for empty dictionary\n",
    "S1     "
   ]
  },
  {
   "cell_type": "code",
   "execution_count": 16,
   "id": "8f203b9b",
   "metadata": {},
   "outputs": [
    {
     "data": {
      "text/plain": [
       "dict"
      ]
     },
     "execution_count": 16,
     "metadata": {},
     "output_type": "execute_result"
    }
   ],
   "source": [
    "type(S1)  "
   ]
  },
  {
   "cell_type": "code",
   "execution_count": 17,
   "id": "9e73dffc",
   "metadata": {},
   "outputs": [
    {
     "data": {
      "text/plain": [
       "set()"
      ]
     },
     "execution_count": 17,
     "metadata": {},
     "output_type": "execute_result"
    }
   ],
   "source": [
    "S1=set()    # this is used for empty set\n",
    "S1"
   ]
  },
  {
   "cell_type": "code",
   "execution_count": 18,
   "id": "85285885",
   "metadata": {},
   "outputs": [
    {
     "data": {
      "text/plain": [
       "set"
      ]
     },
     "execution_count": 18,
     "metadata": {},
     "output_type": "execute_result"
    }
   ],
   "source": [
    "type(S1)"
   ]
  },
  {
   "cell_type": "code",
   "execution_count": 19,
   "id": "c63db397",
   "metadata": {},
   "outputs": [
    {
     "data": {
      "text/plain": [
       "{1, 2, 3, 4, 5}"
      ]
     },
     "execution_count": 19,
     "metadata": {},
     "output_type": "execute_result"
    }
   ],
   "source": [
    "S2={1,2,3,4,5}   # homogeneous \n",
    "S2"
   ]
  },
  {
   "cell_type": "code",
   "execution_count": 20,
   "id": "a689f1ba",
   "metadata": {},
   "outputs": [
    {
     "data": {
      "text/plain": [
       "{4.5, 'Hello', True}"
      ]
     },
     "execution_count": 20,
     "metadata": {},
     "output_type": "execute_result"
    }
   ],
   "source": [
    "S3={'Hello',4.5,True}   # heterogeneous\n",
    "S3"
   ]
  },
  {
   "cell_type": "code",
   "execution_count": 21,
   "id": "21b5c60c",
   "metadata": {},
   "outputs": [
    {
     "data": {
      "text/plain": [
       "{1, 2, 3}"
      ]
     },
     "execution_count": 21,
     "metadata": {},
     "output_type": "execute_result"
    }
   ],
   "source": [
    "S4={1,1,2,2,3,3}    # since  Sets do not allow duplicates\n",
    "S4"
   ]
  },
  {
   "cell_type": "code",
   "execution_count": 22,
   "id": "ce186eb8",
   "metadata": {},
   "outputs": [
    {
     "ename": "TypeError",
     "evalue": "unhashable type: 'list'",
     "output_type": "error",
     "traceback": [
      "\u001b[1;31m---------------------------------------------------------------------------\u001b[0m",
      "\u001b[1;31mTypeError\u001b[0m                                 Traceback (most recent call last)",
      "\u001b[1;32m~\\AppData\\Local\\Temp\\ipykernel_6960\\976641836.py\u001b[0m in \u001b[0;36m<module>\u001b[1;34m\u001b[0m\n\u001b[1;32m----> 1\u001b[1;33m \u001b[0mS5\u001b[0m\u001b[1;33m=\u001b[0m\u001b[1;33m{\u001b[0m\u001b[1;33m[\u001b[0m\u001b[1;36m1\u001b[0m\u001b[1;33m,\u001b[0m\u001b[1;36m2\u001b[0m\u001b[1;33m,\u001b[0m\u001b[1;36m3\u001b[0m\u001b[1;33m]\u001b[0m\u001b[1;33m,\u001b[0m\u001b[1;34m'Hello'\u001b[0m\u001b[1;33m}\u001b[0m    \u001b[1;31m# since Sets don't allow mutable data types and since []--->list is mutable\u001b[0m\u001b[1;33m\u001b[0m\u001b[1;33m\u001b[0m\u001b[0m\n\u001b[0m\u001b[0;32m      2\u001b[0m \u001b[0mS5\u001b[0m\u001b[1;33m\u001b[0m\u001b[1;33m\u001b[0m\u001b[0m\n",
      "\u001b[1;31mTypeError\u001b[0m: unhashable type: 'list'"
     ]
    }
   ],
   "source": [
    "S5={[1,2,3],'Hello'}    # since Sets don't allow mutable data types and since []--->list is mutable\n",
    "S5                "
   ]
  },
  {
   "cell_type": "code",
   "execution_count": 23,
   "id": "418f922d",
   "metadata": {},
   "outputs": [
    {
     "data": {
      "text/plain": [
       "{(1, 2, 3), 'Hello'}"
      ]
     },
     "execution_count": 23,
     "metadata": {},
     "output_type": "execute_result"
    }
   ],
   "source": [
    "S5={(1,2,3),'Hello'}   # since Sets don't allow mutable data types and ()--->tuple is immutable so () is allowed\n",
    "S5                     "
   ]
  },
  {
   "cell_type": "code",
   "execution_count": 24,
   "id": "1718a243",
   "metadata": {},
   "outputs": [],
   "source": [
    "# Sets have no indexing this is because of 'Hashing'(which is a concept in DSA)\n",
    "# example; S5={[1,2,3],'Hello'}\n",
    "#          S5\n",
    "#          o/p---> {'Hello',(1,2,3)}   # this is because of sets have no indexing   "
   ]
  },
  {
   "cell_type": "code",
   "execution_count": 25,
   "id": "af9390a7",
   "metadata": {},
   "outputs": [
    {
     "ename": "TypeError",
     "evalue": "unhashable type: 'set'",
     "output_type": "error",
     "traceback": [
      "\u001b[1;31m---------------------------------------------------------------------------\u001b[0m",
      "\u001b[1;31mTypeError\u001b[0m                                 Traceback (most recent call last)",
      "\u001b[1;32m~\\AppData\\Local\\Temp\\ipykernel_6960\\3769455410.py\u001b[0m in \u001b[0;36m<module>\u001b[1;34m\u001b[0m\n\u001b[1;32m----> 1\u001b[1;33m \u001b[0mS5\u001b[0m\u001b[1;33m=\u001b[0m\u001b[1;33m{\u001b[0m\u001b[1;33m{\u001b[0m\u001b[1;36m1\u001b[0m\u001b[1;33m}\u001b[0m\u001b[1;33m,\u001b[0m\u001b[1;33m{\u001b[0m\u001b[1;36m2\u001b[0m\u001b[1;33m}\u001b[0m\u001b[1;33m}\u001b[0m\u001b[1;33m\u001b[0m\u001b[1;33m\u001b[0m\u001b[0m\n\u001b[0m\u001b[0;32m      2\u001b[0m \u001b[0mS5\u001b[0m            \u001b[1;31m# By defination, multi-dim sets can't be created\u001b[0m\u001b[1;33m\u001b[0m\u001b[1;33m\u001b[0m\u001b[0m\n",
      "\u001b[1;31mTypeError\u001b[0m: unhashable type: 'set'"
     ]
    }
   ],
   "source": [
    "S5={{1},{2}}\n",
    "S5            # By defination, multi-dim sets can't be created"
   ]
  },
  {
   "cell_type": "code",
   "execution_count": 26,
   "id": "c334bbc0",
   "metadata": {},
   "outputs": [],
   "source": [
    "##### Access"
   ]
  },
  {
   "cell_type": "code",
   "execution_count": 29,
   "id": "5401da2f",
   "metadata": {},
   "outputs": [
    {
     "data": {
      "text/plain": [
       "{4.5, 'Hello', True}"
      ]
     },
     "execution_count": 29,
     "metadata": {},
     "output_type": "execute_result"
    }
   ],
   "source": [
    "S3"
   ]
  },
  {
   "cell_type": "code",
   "execution_count": 31,
   "id": "2436eeb4",
   "metadata": {},
   "outputs": [
    {
     "ename": "TypeError",
     "evalue": "'set' object is not subscriptable",
     "output_type": "error",
     "traceback": [
      "\u001b[1;31m---------------------------------------------------------------------------\u001b[0m",
      "\u001b[1;31mTypeError\u001b[0m                                 Traceback (most recent call last)",
      "\u001b[1;32m~\\AppData\\Local\\Temp\\ipykernel_6960\\3876205055.py\u001b[0m in \u001b[0;36m<module>\u001b[1;34m\u001b[0m\n\u001b[1;32m----> 1\u001b[1;33m \u001b[0mS3\u001b[0m\u001b[1;33m[\u001b[0m\u001b[1;36m0\u001b[0m\u001b[1;33m]\u001b[0m\u001b[1;33m\u001b[0m\u001b[1;33m\u001b[0m\u001b[0m\n\u001b[0m",
      "\u001b[1;31mTypeError\u001b[0m: 'set' object is not subscriptable"
     ]
    }
   ],
   "source": [
    "S3[0]   #  Sets have no indexing/slicing"
   ]
  },
  {
   "cell_type": "code",
   "execution_count": 32,
   "id": "1303e629",
   "metadata": {},
   "outputs": [
    {
     "data": {
      "text/plain": [
       "{1, 2, 3, 4, 5}"
      ]
     },
     "execution_count": 32,
     "metadata": {},
     "output_type": "execute_result"
    }
   ],
   "source": [
    "S2"
   ]
  },
  {
   "cell_type": "code",
   "execution_count": 33,
   "id": "b0d65118",
   "metadata": {},
   "outputs": [
    {
     "ename": "TypeError",
     "evalue": "'set' object is not subscriptable",
     "output_type": "error",
     "traceback": [
      "\u001b[1;31m---------------------------------------------------------------------------\u001b[0m",
      "\u001b[1;31mTypeError\u001b[0m                                 Traceback (most recent call last)",
      "\u001b[1;32m~\\AppData\\Local\\Temp\\ipykernel_6960\\520916582.py\u001b[0m in \u001b[0;36m<module>\u001b[1;34m\u001b[0m\n\u001b[1;32m----> 1\u001b[1;33m \u001b[0mS2\u001b[0m\u001b[1;33m[\u001b[0m\u001b[1;33m-\u001b[0m\u001b[1;36m1\u001b[0m\u001b[1;33m]\u001b[0m\u001b[1;33m\u001b[0m\u001b[1;33m\u001b[0m\u001b[0m\n\u001b[0m",
      "\u001b[1;31mTypeError\u001b[0m: 'set' object is not subscriptable"
     ]
    }
   ],
   "source": [
    "S2[-1]   #  Sets have no indexing/slicing"
   ]
  },
  {
   "cell_type": "code",
   "execution_count": 34,
   "id": "14c1571b",
   "metadata": {},
   "outputs": [
    {
     "ename": "TypeError",
     "evalue": "'set' object is not subscriptable",
     "output_type": "error",
     "traceback": [
      "\u001b[1;31m---------------------------------------------------------------------------\u001b[0m",
      "\u001b[1;31mTypeError\u001b[0m                                 Traceback (most recent call last)",
      "\u001b[1;32m~\\AppData\\Local\\Temp\\ipykernel_6960\\3138535836.py\u001b[0m in \u001b[0;36m<module>\u001b[1;34m\u001b[0m\n\u001b[1;32m----> 1\u001b[1;33m \u001b[0mS1\u001b[0m\u001b[1;33m[\u001b[0m\u001b[1;36m0\u001b[0m\u001b[1;33m:\u001b[0m\u001b[1;36m3\u001b[0m\u001b[1;33m]\u001b[0m\u001b[1;33m\u001b[0m\u001b[1;33m\u001b[0m\u001b[0m\n\u001b[0m",
      "\u001b[1;31mTypeError\u001b[0m: 'set' object is not subscriptable"
     ]
    }
   ],
   "source": [
    "S1[0:3]    #  Sets have no indexing/slicing"
   ]
  },
  {
   "cell_type": "code",
   "execution_count": 36,
   "id": "dae9f8a6",
   "metadata": {},
   "outputs": [],
   "source": [
    "##### Edit"
   ]
  },
  {
   "cell_type": "code",
   "execution_count": 38,
   "id": "88828c5f",
   "metadata": {},
   "outputs": [
    {
     "data": {
      "text/plain": [
       "{1, 2, 3, 4, 5}"
      ]
     },
     "execution_count": 38,
     "metadata": {},
     "output_type": "execute_result"
    }
   ],
   "source": [
    "S2"
   ]
  },
  {
   "cell_type": "code",
   "execution_count": 39,
   "id": "6a81eb3d",
   "metadata": {},
   "outputs": [
    {
     "ename": "TypeError",
     "evalue": "'set' object does not support item assignment",
     "output_type": "error",
     "traceback": [
      "\u001b[1;31m---------------------------------------------------------------------------\u001b[0m",
      "\u001b[1;31mTypeError\u001b[0m                                 Traceback (most recent call last)",
      "\u001b[1;32m~\\AppData\\Local\\Temp\\ipykernel_6960\\1128846375.py\u001b[0m in \u001b[0;36m<module>\u001b[1;34m\u001b[0m\n\u001b[1;32m----> 1\u001b[1;33m \u001b[0mS2\u001b[0m\u001b[1;33m[\u001b[0m\u001b[1;36m2\u001b[0m\u001b[1;33m]\u001b[0m\u001b[1;33m=\u001b[0m\u001b[1;36m100\u001b[0m\u001b[1;33m\u001b[0m\u001b[1;33m\u001b[0m\u001b[0m\n\u001b[0m\u001b[0;32m      2\u001b[0m \u001b[0mS2\u001b[0m\u001b[1;33m\u001b[0m\u001b[1;33m\u001b[0m\u001b[0m\n",
      "\u001b[1;31mTypeError\u001b[0m: 'set' object does not support item assignment"
     ]
    }
   ],
   "source": [
    "S2[2]=100  # 'set' object does not support item assignment\n",
    "\n",
    "S2"
   ]
  },
  {
   "cell_type": "code",
   "execution_count": 40,
   "id": "da886c5a",
   "metadata": {},
   "outputs": [],
   "source": [
    "# Editing items in a set?\n",
    "# We can't edit a Set......\n",
    "# But can we convert the set to a list and then edit and then again convert the list to a set\n",
    "# i.e., set--->list then edit then list--->set"
   ]
  },
  {
   "cell_type": "code",
   "execution_count": 41,
   "id": "1e531d93",
   "metadata": {},
   "outputs": [
    {
     "data": {
      "text/plain": [
       "{1, 2, 3, 4, 5}"
      ]
     },
     "execution_count": 41,
     "metadata": {},
     "output_type": "execute_result"
    }
   ],
   "source": [
    "S2"
   ]
  },
  {
   "cell_type": "code",
   "execution_count": 42,
   "id": "37fc5f46",
   "metadata": {},
   "outputs": [
    {
     "data": {
      "text/plain": [
       "2369407708296"
      ]
     },
     "execution_count": 42,
     "metadata": {},
     "output_type": "execute_result"
    }
   ],
   "source": [
    "id(S2)   # memory address of S2"
   ]
  },
  {
   "cell_type": "code",
   "execution_count": 44,
   "id": "7623a1c8",
   "metadata": {},
   "outputs": [
    {
     "data": {
      "text/plain": [
       "[1, 2, 3, 4, 5]"
      ]
     },
     "execution_count": 44,
     "metadata": {},
     "output_type": "execute_result"
    }
   ],
   "source": [
    "L=list(S2)   # we created a list which is a type conversion of set S2\n",
    "L"
   ]
  },
  {
   "cell_type": "code",
   "execution_count": 45,
   "id": "b4f45689",
   "metadata": {},
   "outputs": [
    {
     "data": {
      "text/plain": [
       "[100, 2, 3, 4, 5]"
      ]
     },
     "execution_count": 45,
     "metadata": {},
     "output_type": "execute_result"
    }
   ],
   "source": [
    "L[0]=100\n",
    "L"
   ]
  },
  {
   "cell_type": "code",
   "execution_count": 46,
   "id": "5d675b56",
   "metadata": {},
   "outputs": [
    {
     "data": {
      "text/plain": [
       "{2, 3, 4, 5, 100}"
      ]
     },
     "execution_count": 46,
     "metadata": {},
     "output_type": "execute_result"
    }
   ],
   "source": [
    "S2=set(L)\n",
    "S2"
   ]
  },
  {
   "cell_type": "code",
   "execution_count": 47,
   "id": "08b259ba",
   "metadata": {},
   "outputs": [
    {
     "data": {
      "text/plain": [
       "2369407707848"
      ]
     },
     "execution_count": 47,
     "metadata": {},
     "output_type": "execute_result"
    }
   ],
   "source": [
    "id(S2)  # the memory address is different "
   ]
  },
  {
   "cell_type": "code",
   "execution_count": 48,
   "id": "dbc6eb74",
   "metadata": {},
   "outputs": [],
   "source": [
    "# 2369407708296 and 2369407707848 memory addresses are different"
   ]
  },
  {
   "cell_type": "code",
   "execution_count": 49,
   "id": "13cbfa09",
   "metadata": {},
   "outputs": [],
   "source": [
    "# Hence we can't convert the set to a list and then edit and then again convert the list to a set\n",
    "# i.e., set--->list then edit then list--->set\n",
    "# As memory addresses changes"
   ]
  },
  {
   "cell_type": "code",
   "execution_count": 50,
   "id": "ad78e6b8",
   "metadata": {},
   "outputs": [],
   "source": [
    "##### Add"
   ]
  },
  {
   "cell_type": "code",
   "execution_count": 51,
   "id": "bff622f5",
   "metadata": {},
   "outputs": [
    {
     "data": {
      "text/plain": [
       "{2, 3, 4, 5, 100}"
      ]
     },
     "execution_count": 51,
     "metadata": {},
     "output_type": "execute_result"
    }
   ],
   "source": [
    "S2"
   ]
  },
  {
   "cell_type": "code",
   "execution_count": 54,
   "id": "3e9956d4",
   "metadata": {},
   "outputs": [
    {
     "data": {
      "text/plain": [
       "2369407707848"
      ]
     },
     "execution_count": 54,
     "metadata": {},
     "output_type": "execute_result"
    }
   ],
   "source": [
    "id(S2)"
   ]
  },
  {
   "cell_type": "code",
   "execution_count": 52,
   "id": "4da25fa3",
   "metadata": {},
   "outputs": [
    {
     "data": {
      "text/plain": [
       "{2, 3, 4, 5, 7, 100}"
      ]
     },
     "execution_count": 52,
     "metadata": {},
     "output_type": "execute_result"
    }
   ],
   "source": [
    "S2.add(7)\n",
    "S2            # we can add items"
   ]
  },
  {
   "cell_type": "code",
   "execution_count": 55,
   "id": "1d6e7dcf",
   "metadata": {},
   "outputs": [
    {
     "data": {
      "text/plain": [
       "2369407707848"
      ]
     },
     "execution_count": 55,
     "metadata": {},
     "output_type": "execute_result"
    }
   ],
   "source": [
    "id(S2)   # memory address is same"
   ]
  },
  {
   "cell_type": "code",
   "execution_count": 53,
   "id": "0225dd94",
   "metadata": {},
   "outputs": [],
   "source": [
    "# It means we can add some items to an existing set \n",
    "# But we can't edit an existing set\n",
    "\n",
    "# Hence Set itself is a mutable data type"
   ]
  },
  {
   "cell_type": "code",
   "execution_count": 56,
   "id": "4268646f",
   "metadata": {},
   "outputs": [],
   "source": [
    "##### Delete"
   ]
  },
  {
   "cell_type": "code",
   "execution_count": 57,
   "id": "d2e3c731",
   "metadata": {},
   "outputs": [
    {
     "data": {
      "text/plain": [
       "{2, 3, 4, 5, 7, 100}"
      ]
     },
     "execution_count": 57,
     "metadata": {},
     "output_type": "execute_result"
    }
   ],
   "source": [
    "S2"
   ]
  },
  {
   "cell_type": "code",
   "execution_count": 58,
   "id": "44974e9b",
   "metadata": {},
   "outputs": [
    {
     "data": {
      "text/plain": [
       "{4.5, 'Hello', True}"
      ]
     },
     "execution_count": 58,
     "metadata": {},
     "output_type": "execute_result"
    }
   ],
   "source": [
    "S3"
   ]
  },
  {
   "cell_type": "code",
   "execution_count": 60,
   "id": "8763889a",
   "metadata": {},
   "outputs": [
    {
     "ename": "NameError",
     "evalue": "name 'S3' is not defined",
     "output_type": "error",
     "traceback": [
      "\u001b[1;31m---------------------------------------------------------------------------\u001b[0m",
      "\u001b[1;31mNameError\u001b[0m                                 Traceback (most recent call last)",
      "\u001b[1;32m~\\AppData\\Local\\Temp\\ipykernel_6960\\1047518826.py\u001b[0m in \u001b[0;36m<module>\u001b[1;34m\u001b[0m\n\u001b[1;32m----> 1\u001b[1;33m \u001b[1;32mdel\u001b[0m \u001b[0mS3\u001b[0m\u001b[1;33m\u001b[0m\u001b[1;33m\u001b[0m\u001b[0m\n\u001b[0m\u001b[0;32m      2\u001b[0m \u001b[0mS3\u001b[0m\u001b[1;33m\u001b[0m\u001b[1;33m\u001b[0m\u001b[0m\n",
      "\u001b[1;31mNameError\u001b[0m: name 'S3' is not defined"
     ]
    }
   ],
   "source": [
    "del S3   # we can delete an entire set \n",
    "S3"
   ]
  },
  {
   "cell_type": "code",
   "execution_count": 61,
   "id": "9d6cef50",
   "metadata": {},
   "outputs": [
    {
     "ename": "TypeError",
     "evalue": "'set' object doesn't support item deletion",
     "output_type": "error",
     "traceback": [
      "\u001b[1;31m---------------------------------------------------------------------------\u001b[0m",
      "\u001b[1;31mTypeError\u001b[0m                                 Traceback (most recent call last)",
      "\u001b[1;32m~\\AppData\\Local\\Temp\\ipykernel_6960\\2588613336.py\u001b[0m in \u001b[0;36m<module>\u001b[1;34m\u001b[0m\n\u001b[1;32m----> 1\u001b[1;33m \u001b[1;32mdel\u001b[0m \u001b[0mS2\u001b[0m\u001b[1;33m[\u001b[0m\u001b[1;36m0\u001b[0m\u001b[1;33m]\u001b[0m\u001b[1;33m\u001b[0m\u001b[1;33m\u001b[0m\u001b[0m\n\u001b[0m",
      "\u001b[1;31mTypeError\u001b[0m: 'set' object doesn't support item deletion"
     ]
    }
   ],
   "source": [
    "del S2[0]   # But we can't delete some items from set"
   ]
  },
  {
   "cell_type": "code",
   "execution_count": 62,
   "id": "df2dfe3f",
   "metadata": {},
   "outputs": [
    {
     "data": {
      "text/plain": [
       "{2, 3, 4, 5, 7}"
      ]
     },
     "execution_count": 62,
     "metadata": {},
     "output_type": "execute_result"
    }
   ],
   "source": [
    "S2.remove(100)   # remove\n",
    "S2"
   ]
  },
  {
   "cell_type": "code",
   "execution_count": 64,
   "id": "276ddc61",
   "metadata": {},
   "outputs": [
    {
     "data": {
      "text/plain": [
       "2"
      ]
     },
     "execution_count": 64,
     "metadata": {},
     "output_type": "execute_result"
    }
   ],
   "source": [
    "S2.pop()   # In usual case, pop should remove the last item(i.e.,7) but here it removes 2 . This is because of 'Hashing'"
   ]
  },
  {
   "cell_type": "code",
   "execution_count": 65,
   "id": "21380e22",
   "metadata": {},
   "outputs": [
    {
     "data": {
      "text/plain": [
       "3"
      ]
     },
     "execution_count": 65,
     "metadata": {},
     "output_type": "execute_result"
    }
   ],
   "source": [
    "S2.pop()"
   ]
  },
  {
   "cell_type": "code",
   "execution_count": 66,
   "id": "aeed619d",
   "metadata": {},
   "outputs": [],
   "source": [
    "##### Set operations"
   ]
  },
  {
   "cell_type": "code",
   "execution_count": 1,
   "id": "33f840ab",
   "metadata": {},
   "outputs": [],
   "source": [
    "S1={1,2,3,4,5}\n",
    "S2={3,4,5,6,7}"
   ]
  },
  {
   "cell_type": "code",
   "execution_count": 2,
   "id": "8120e466",
   "metadata": {},
   "outputs": [
    {
     "ename": "TypeError",
     "evalue": "unsupported operand type(s) for +: 'set' and 'set'",
     "output_type": "error",
     "traceback": [
      "\u001b[1;31m---------------------------------------------------------------------------\u001b[0m",
      "\u001b[1;31mTypeError\u001b[0m                                 Traceback (most recent call last)",
      "\u001b[1;32m~\\AppData\\Local\\Temp\\ipykernel_11828\\1770448246.py\u001b[0m in \u001b[0;36m<module>\u001b[1;34m\u001b[0m\n\u001b[1;32m----> 1\u001b[1;33m \u001b[0mS1\u001b[0m \u001b[1;33m+\u001b[0m \u001b[0mS2\u001b[0m\u001b[1;33m\u001b[0m\u001b[1;33m\u001b[0m\u001b[0m\n\u001b[0m",
      "\u001b[1;31mTypeError\u001b[0m: unsupported operand type(s) for +: 'set' and 'set'"
     ]
    }
   ],
   "source": [
    "S1 + S2   # In Sets we cannot concatenate"
   ]
  },
  {
   "cell_type": "code",
   "execution_count": 3,
   "id": "bc8fdc95",
   "metadata": {},
   "outputs": [
    {
     "ename": "TypeError",
     "evalue": "unsupported operand type(s) for *: 'set' and 'int'",
     "output_type": "error",
     "traceback": [
      "\u001b[1;31m---------------------------------------------------------------------------\u001b[0m",
      "\u001b[1;31mTypeError\u001b[0m                                 Traceback (most recent call last)",
      "\u001b[1;32m~\\AppData\\Local\\Temp\\ipykernel_11828\\424011571.py\u001b[0m in \u001b[0;36m<module>\u001b[1;34m\u001b[0m\n\u001b[1;32m----> 1\u001b[1;33m \u001b[0mS1\u001b[0m\u001b[1;33m*\u001b[0m\u001b[1;36m3\u001b[0m\u001b[1;33m\u001b[0m\u001b[1;33m\u001b[0m\u001b[0m\n\u001b[0m",
      "\u001b[1;31mTypeError\u001b[0m: unsupported operand type(s) for *: 'set' and 'int'"
     ]
    }
   ],
   "source": [
    "S1*3 # we can't multiply in sets"
   ]
  },
  {
   "cell_type": "code",
   "execution_count": 4,
   "id": "b616900e",
   "metadata": {},
   "outputs": [
    {
     "name": "stdout",
     "output_type": "stream",
     "text": [
      "1\n",
      "2\n",
      "3\n",
      "4\n",
      "5\n"
     ]
    }
   ],
   "source": [
    "for i in S1:\n",
    "    print(i)     # loop"
   ]
  },
  {
   "cell_type": "code",
   "execution_count": 5,
   "id": "2a6a6441",
   "metadata": {},
   "outputs": [
    {
     "data": {
      "text/plain": [
       "True"
      ]
     },
     "execution_count": 5,
     "metadata": {},
     "output_type": "execute_result"
    }
   ],
   "source": [
    "1 in S1          # memebership operators"
   ]
  },
  {
   "cell_type": "code",
   "execution_count": 6,
   "id": "04c3e4dd",
   "metadata": {},
   "outputs": [],
   "source": [
    "##### Functions"
   ]
  },
  {
   "cell_type": "code",
   "execution_count": 7,
   "id": "64c123de",
   "metadata": {},
   "outputs": [
    {
     "data": {
      "text/plain": [
       "5"
      ]
     },
     "execution_count": 7,
     "metadata": {},
     "output_type": "execute_result"
    }
   ],
   "source": [
    "len(S1)"
   ]
  },
  {
   "cell_type": "code",
   "execution_count": 8,
   "id": "d8f6c6e5",
   "metadata": {},
   "outputs": [
    {
     "data": {
      "text/plain": [
       "1"
      ]
     },
     "execution_count": 8,
     "metadata": {},
     "output_type": "execute_result"
    }
   ],
   "source": [
    "min(S1)"
   ]
  },
  {
   "cell_type": "code",
   "execution_count": 9,
   "id": "c8ea0e4e",
   "metadata": {},
   "outputs": [
    {
     "data": {
      "text/plain": [
       "7"
      ]
     },
     "execution_count": 9,
     "metadata": {},
     "output_type": "execute_result"
    }
   ],
   "source": [
    "max(S2)"
   ]
  },
  {
   "cell_type": "code",
   "execution_count": 10,
   "id": "53602b3a",
   "metadata": {},
   "outputs": [
    {
     "data": {
      "text/plain": [
       "15"
      ]
     },
     "execution_count": 10,
     "metadata": {},
     "output_type": "execute_result"
    }
   ],
   "source": [
    "sum(S1)"
   ]
  },
  {
   "cell_type": "code",
   "execution_count": 11,
   "id": "bec6c2ac",
   "metadata": {},
   "outputs": [
    {
     "data": {
      "text/plain": [
       "[1, 2, 3, 4, 5]"
      ]
     },
     "execution_count": 11,
     "metadata": {},
     "output_type": "execute_result"
    }
   ],
   "source": [
    "sorted (S1)"
   ]
  },
  {
   "cell_type": "code",
   "execution_count": 12,
   "id": "5386b620",
   "metadata": {},
   "outputs": [
    {
     "data": {
      "text/plain": [
       "[5, 4, 3, 2, 1]"
      ]
     },
     "execution_count": 12,
     "metadata": {},
     "output_type": "execute_result"
    }
   ],
   "source": [
    "sorted(S1,reverse=True)"
   ]
  },
  {
   "cell_type": "code",
   "execution_count": 13,
   "id": "11761291",
   "metadata": {},
   "outputs": [
    {
     "data": {
      "text/plain": [
       "{1, 2, 3, 4, 5, 6, 7}"
      ]
     },
     "execution_count": 13,
     "metadata": {},
     "output_type": "execute_result"
    }
   ],
   "source": [
    "S1.union(S2)     # union"
   ]
  },
  {
   "cell_type": "code",
   "execution_count": 14,
   "id": "484af133",
   "metadata": {},
   "outputs": [
    {
     "data": {
      "text/plain": [
       "{3, 4, 5}"
      ]
     },
     "execution_count": 14,
     "metadata": {},
     "output_type": "execute_result"
    }
   ],
   "source": [
    "S1.intersection(S2)   # intersection"
   ]
  },
  {
   "cell_type": "code",
   "execution_count": 15,
   "id": "809c5125",
   "metadata": {},
   "outputs": [
    {
     "data": {
      "text/plain": [
       "{1, 2}"
      ]
     },
     "execution_count": 15,
     "metadata": {},
     "output_type": "execute_result"
    }
   ],
   "source": [
    "S1.difference(S2)     # difference"
   ]
  },
  {
   "cell_type": "code",
   "execution_count": 16,
   "id": "2f6a2fbc",
   "metadata": {},
   "outputs": [
    {
     "data": {
      "text/plain": [
       "{6, 7}"
      ]
     },
     "execution_count": 16,
     "metadata": {},
     "output_type": "execute_result"
    }
   ],
   "source": [
    "S1.difference(S2)     # difference"
   ]
  },
  {
   "cell_type": "code",
   "execution_count": 17,
   "id": "713f78e7",
   "metadata": {},
   "outputs": [
    {
     "data": {
      "text/plain": [
       "{1, 2, 6, 7}"
      ]
     },
     "execution_count": 17,
     "metadata": {},
     "output_type": "execute_result"
    }
   ],
   "source": [
    "S1.symmetric_difference(S2)   # symmetric_difference"
   ]
  },
  {
   "cell_type": "code",
   "execution_count": 19,
   "id": "40e87678",
   "metadata": {},
   "outputs": [
    {
     "data": {
      "text/plain": [
       "False"
      ]
     },
     "execution_count": 19,
     "metadata": {},
     "output_type": "execute_result"
    }
   ],
   "source": [
    "S1.isdisjoint(S2)         # S1 intersection S2 = null -------> disjoint"
   ]
  },
  {
   "cell_type": "code",
   "execution_count": 20,
   "id": "4f510f17",
   "metadata": {},
   "outputs": [
    {
     "data": {
      "text/plain": [
       "False"
      ]
     },
     "execution_count": 20,
     "metadata": {},
     "output_type": "execute_result"
    }
   ],
   "source": [
    "S1.issubset(S2)         # subset"
   ]
  },
  {
   "cell_type": "code",
   "execution_count": 21,
   "id": "50fc1983",
   "metadata": {},
   "outputs": [
    {
     "data": {
      "text/plain": [
       "False"
      ]
     },
     "execution_count": 21,
     "metadata": {},
     "output_type": "execute_result"
    }
   ],
   "source": [
    "S1.issuperset(S2)       # superset"
   ]
  },
  {
   "cell_type": "code",
   "execution_count": 22,
   "id": "0fc2b083",
   "metadata": {},
   "outputs": [
    {
     "data": {
      "text/plain": [
       "set()"
      ]
     },
     "execution_count": 22,
     "metadata": {},
     "output_type": "execute_result"
    }
   ],
   "source": [
    "S1.clear()\n",
    "S1                       # clear"
   ]
  },
  {
   "cell_type": "markdown",
   "id": "950f4244",
   "metadata": {},
   "source": [
    "# Dictionary \n",
    "Dictionaries are used to store data values in key:value pairs. A dictionary is a collection which is ordered, changeable and do not allow duplicates"
   ]
  },
  {
   "cell_type": "code",
   "execution_count": 2,
   "id": "06ad3785",
   "metadata": {},
   "outputs": [
    {
     "data": {
      "text/plain": [
       "{'Name': 'Shayema', 'Gender': 'Female'}"
      ]
     },
     "execution_count": 2,
     "metadata": {},
     "output_type": "execute_result"
    }
   ],
   "source": [
    "{'Name':'Shayema','Gender':'Female'}"
   ]
  },
  {
   "cell_type": "code",
   "execution_count": 3,
   "id": "7173a396",
   "metadata": {},
   "outputs": [],
   "source": [
    "##### Rules"
   ]
  },
  {
   "cell_type": "code",
   "execution_count": 4,
   "id": "d18aae16",
   "metadata": {},
   "outputs": [],
   "source": [
    "# R1 : Dictionary has no indexing\n",
    "# R2 : Dictionary is a mutable data type\n",
    "# R3 : Keys--->immutable, values--->they can be mutable\n",
    "# R4 : Keys should be unique"
   ]
  },
  {
   "cell_type": "code",
   "execution_count": 5,
   "id": "1f0612e7",
   "metadata": {},
   "outputs": [],
   "source": [
    "# Mutable--->List/Sets/Dictionary \n",
    "# Immutable ---> Strings/tuples/int/float/Boolean/complex"
   ]
  },
  {
   "cell_type": "code",
   "execution_count": 6,
   "id": "598651ae",
   "metadata": {},
   "outputs": [],
   "source": [
    "##### Create"
   ]
  },
  {
   "cell_type": "code",
   "execution_count": 7,
   "id": "77e28d45",
   "metadata": {},
   "outputs": [
    {
     "data": {
      "text/plain": [
       "{}"
      ]
     },
     "execution_count": 7,
     "metadata": {},
     "output_type": "execute_result"
    }
   ],
   "source": [
    "D={}   # empty dict\n",
    "D"
   ]
  },
  {
   "cell_type": "code",
   "execution_count": 8,
   "id": "b834cee3",
   "metadata": {},
   "outputs": [
    {
     "data": {
      "text/plain": [
       "{'Name': 'Shayema', 'Gender': 'Female'}"
      ]
     },
     "execution_count": 8,
     "metadata": {},
     "output_type": "execute_result"
    }
   ],
   "source": [
    "D={'Name':'Shayema','Gender':'Female'}\n",
    "D"
   ]
  },
  {
   "cell_type": "code",
   "execution_count": 9,
   "id": "f90a2c1b",
   "metadata": {},
   "outputs": [
    {
     "ename": "TypeError",
     "evalue": "unhashable type: 'list'",
     "output_type": "error",
     "traceback": [
      "\u001b[1;31m---------------------------------------------------------------------------\u001b[0m",
      "\u001b[1;31mTypeError\u001b[0m                                 Traceback (most recent call last)",
      "\u001b[1;32m~\\AppData\\Local\\Temp\\ipykernel_9316\\3674902425.py\u001b[0m in \u001b[0;36m<module>\u001b[1;34m\u001b[0m\n\u001b[1;32m----> 1\u001b[1;33m \u001b[0mD1\u001b[0m\u001b[1;33m=\u001b[0m\u001b[1;33m{\u001b[0m\u001b[1;33m[\u001b[0m\u001b[1;36m1\u001b[0m\u001b[1;33m,\u001b[0m\u001b[1;36m2\u001b[0m\u001b[1;33m,\u001b[0m\u001b[1;36m3\u001b[0m\u001b[1;33m]\u001b[0m\u001b[1;33m:\u001b[0m\u001b[1;34m\"Shayema\"\u001b[0m\u001b[1;33m}\u001b[0m\u001b[1;33m\u001b[0m\u001b[1;33m\u001b[0m\u001b[0m\n\u001b[0m\u001b[0;32m      2\u001b[0m \u001b[0mD1\u001b[0m\u001b[1;33m\u001b[0m\u001b[1;33m\u001b[0m\u001b[0m\n",
      "\u001b[1;31mTypeError\u001b[0m: unhashable type: 'list'"
     ]
    }
   ],
   "source": [
    "D1={[1,2,3]:\"Shayema\"}    # as the key ----> [] list is mutable\n",
    "D1"
   ]
  },
  {
   "cell_type": "code",
   "execution_count": 10,
   "id": "e755a1b6",
   "metadata": {},
   "outputs": [
    {
     "data": {
      "text/plain": [
       "{(1, 2, 3): 'Shayema'}"
      ]
     },
     "execution_count": 10,
     "metadata": {},
     "output_type": "execute_result"
    }
   ],
   "source": [
    "D1={(1,2,3):'Shayema'}     # the key : tuple ()-----> is immutable\n",
    "D1"
   ]
  },
  {
   "cell_type": "code",
   "execution_count": 11,
   "id": "5671d8b1",
   "metadata": {},
   "outputs": [
    {
     "data": {
      "text/plain": [
       "{'Name': 'Sania'}"
      ]
     },
     "execution_count": 11,
     "metadata": {},
     "output_type": "execute_result"
    }
   ],
   "source": [
    "D2={'Name':'Shayema','Name':'Sania'}     # python thinks we want to update the value 'Shayema' to 'Sania' \n",
    "D2                                       # Hence Keys should be unique"
   ]
  },
  {
   "cell_type": "code",
   "execution_count": 12,
   "id": "a2c2cdb4",
   "metadata": {},
   "outputs": [
    {
     "data": {
      "text/plain": [
       "{'Name': 'Rohit', 'College': 'HIT', 'Marks': {'M1': 78, 'DS': 99, 'Eng': 56}}"
      ]
     },
     "execution_count": 12,
     "metadata": {},
     "output_type": "execute_result"
    }
   ],
   "source": [
    "D3={'Name':'Rohit','College':'HIT','Marks':{'M1':78,'DS':99,'Eng':56}}  # 2D dictionary     # multi-dim dictionary\n",
    "D3"
   ]
  },
  {
   "cell_type": "code",
   "execution_count": 14,
   "id": "d97995d9",
   "metadata": {},
   "outputs": [],
   "source": [
    "##### Access items from a dict"
   ]
  },
  {
   "cell_type": "code",
   "execution_count": 16,
   "id": "6128944c",
   "metadata": {},
   "outputs": [
    {
     "data": {
      "text/plain": [
       "{'Name': 'Shayema', 'Gender': 'Female'}"
      ]
     },
     "execution_count": 16,
     "metadata": {},
     "output_type": "execute_result"
    }
   ],
   "source": [
    "D"
   ]
  },
  {
   "cell_type": "code",
   "execution_count": 18,
   "id": "bf439d82",
   "metadata": {},
   "outputs": [
    {
     "ename": "KeyError",
     "evalue": "0",
     "output_type": "error",
     "traceback": [
      "\u001b[1;31m---------------------------------------------------------------------------\u001b[0m",
      "\u001b[1;31mKeyError\u001b[0m                                  Traceback (most recent call last)",
      "\u001b[1;32m~\\AppData\\Local\\Temp\\ipykernel_9316\\3858647015.py\u001b[0m in \u001b[0;36m<module>\u001b[1;34m\u001b[0m\n\u001b[1;32m----> 1\u001b[1;33m \u001b[0mD\u001b[0m\u001b[1;33m[\u001b[0m\u001b[1;36m0\u001b[0m\u001b[1;33m]\u001b[0m\u001b[1;33m\u001b[0m\u001b[1;33m\u001b[0m\u001b[0m\n\u001b[0m",
      "\u001b[1;31mKeyError\u001b[0m: 0"
     ]
    }
   ],
   "source": [
    "D[0] # if we want to access 'Shayema' then we'll use the \"Key name\""
   ]
  },
  {
   "cell_type": "code",
   "execution_count": 19,
   "id": "ad47aaa7",
   "metadata": {},
   "outputs": [
    {
     "data": {
      "text/plain": [
       "'Shayema'"
      ]
     },
     "execution_count": 19,
     "metadata": {},
     "output_type": "execute_result"
    }
   ],
   "source": [
    "D['Name']     # In dictionary, we don't have indexing"
   ]
  },
  {
   "cell_type": "code",
   "execution_count": 20,
   "id": "04ed0901",
   "metadata": {},
   "outputs": [
    {
     "data": {
      "text/plain": [
       "'Female'"
      ]
     },
     "execution_count": 20,
     "metadata": {},
     "output_type": "execute_result"
    }
   ],
   "source": [
    "D['Gender']"
   ]
  },
  {
   "cell_type": "code",
   "execution_count": 22,
   "id": "d8eeb22f",
   "metadata": {},
   "outputs": [
    {
     "data": {
      "text/plain": [
       "{'Name': 'Rohit', 'College': 'HIT', 'Marks': {'M1': 78, 'DS': 99, 'Eng': 56}}"
      ]
     },
     "execution_count": 22,
     "metadata": {},
     "output_type": "execute_result"
    }
   ],
   "source": [
    "D3"
   ]
  },
  {
   "cell_type": "code",
   "execution_count": 23,
   "id": "409b61e7",
   "metadata": {},
   "outputs": [
    {
     "data": {
      "text/plain": [
       "{'M1': 78, 'DS': 99, 'Eng': 56}"
      ]
     },
     "execution_count": 23,
     "metadata": {},
     "output_type": "execute_result"
    }
   ],
   "source": [
    "# if we want to access the marks of DS\n",
    "D3['Marks']"
   ]
  },
  {
   "cell_type": "code",
   "execution_count": 24,
   "id": "98860f18",
   "metadata": {},
   "outputs": [
    {
     "data": {
      "text/plain": [
       "99"
      ]
     },
     "execution_count": 24,
     "metadata": {},
     "output_type": "execute_result"
    }
   ],
   "source": [
    "D3['Marks']['DS']"
   ]
  },
  {
   "cell_type": "code",
   "execution_count": 32,
   "id": "668be3d8",
   "metadata": {},
   "outputs": [
    {
     "data": {
      "text/plain": [
       "'Rahul'"
      ]
     },
     "execution_count": 32,
     "metadata": {},
     "output_type": "execute_result"
    }
   ],
   "source": [
    "# another way to access values : \n",
    "D.get('Name') # this is only applicable for 1D dictionary  \n",
    "              # we can't use for multi-dim dictionary"
   ]
  },
  {
   "cell_type": "code",
   "execution_count": 25,
   "id": "7c271361",
   "metadata": {},
   "outputs": [],
   "source": [
    "##### Edit"
   ]
  },
  {
   "cell_type": "code",
   "execution_count": 26,
   "id": "18fa3bcd",
   "metadata": {},
   "outputs": [
    {
     "data": {
      "text/plain": [
       "{'Name': 'Shayema', 'Gender': 'Female'}"
      ]
     },
     "execution_count": 26,
     "metadata": {},
     "output_type": "execute_result"
    }
   ],
   "source": [
    "D"
   ]
  },
  {
   "cell_type": "code",
   "execution_count": 27,
   "id": "92666c81",
   "metadata": {},
   "outputs": [
    {
     "data": {
      "text/plain": [
       "{'Name': 'Rahul', 'Gender': 'Female'}"
      ]
     },
     "execution_count": 27,
     "metadata": {},
     "output_type": "execute_result"
    }
   ],
   "source": [
    "D['Name']='Rahul'\n",
    "D"
   ]
  },
  {
   "cell_type": "code",
   "execution_count": 28,
   "id": "fdd318d1",
   "metadata": {},
   "outputs": [
    {
     "data": {
      "text/plain": [
       "{'Name': 'Rohit', 'College': 'HIT', 'Marks': {'M1': 78, 'DS': 99, 'Eng': 56}}"
      ]
     },
     "execution_count": 28,
     "metadata": {},
     "output_type": "execute_result"
    }
   ],
   "source": [
    "D3"
   ]
  },
  {
   "cell_type": "code",
   "execution_count": 29,
   "id": "438f4432",
   "metadata": {},
   "outputs": [
    {
     "data": {
      "text/plain": [
       "{'Name': 'Rohit', 'College': 'HIT', 'Marks': {'M1': 78, 'DS': 45, 'Eng': 56}}"
      ]
     },
     "execution_count": 29,
     "metadata": {},
     "output_type": "execute_result"
    }
   ],
   "source": [
    "D3['Marks']['DS']=45     # if we want to edit marks of DS\n",
    "D3"
   ]
  },
  {
   "cell_type": "code",
   "execution_count": 33,
   "id": "96f22bd5",
   "metadata": {},
   "outputs": [],
   "source": [
    "##### Add new key-value pairs"
   ]
  },
  {
   "cell_type": "code",
   "execution_count": 34,
   "id": "d887256f",
   "metadata": {},
   "outputs": [
    {
     "data": {
      "text/plain": [
       "{'Name': 'Rahul', 'Gender': 'Female'}"
      ]
     },
     "execution_count": 34,
     "metadata": {},
     "output_type": "execute_result"
    }
   ],
   "source": [
    "D"
   ]
  },
  {
   "cell_type": "code",
   "execution_count": 35,
   "id": "ba7ca6e7",
   "metadata": {},
   "outputs": [
    {
     "data": {
      "text/plain": [
       "{'Name': 'Rahul', 'Gender': 'Female', 'Age': 22}"
      ]
     },
     "execution_count": 35,
     "metadata": {},
     "output_type": "execute_result"
    }
   ],
   "source": [
    "D['Age']=22\n",
    "D"
   ]
  },
  {
   "cell_type": "code",
   "execution_count": 36,
   "id": "c59da437",
   "metadata": {},
   "outputs": [
    {
     "data": {
      "text/plain": [
       "{'Name': 'Rohit', 'College': 'HIT', 'Marks': {'M1': 78, 'DS': 45, 'Eng': 56}}"
      ]
     },
     "execution_count": 36,
     "metadata": {},
     "output_type": "execute_result"
    }
   ],
   "source": [
    "D3"
   ]
  },
  {
   "cell_type": "code",
   "execution_count": 37,
   "id": "f244fb1a",
   "metadata": {},
   "outputs": [
    {
     "data": {
      "text/plain": [
       "{'Name': 'Rohit',\n",
       " 'College': 'HIT',\n",
       " 'Marks': {'M1': 78, 'DS': 45, 'Eng': 56, 'M2': 57}}"
      ]
     },
     "execution_count": 37,
     "metadata": {},
     "output_type": "execute_result"
    }
   ],
   "source": [
    "D3['Marks']['M2']=57\n",
    "D3"
   ]
  },
  {
   "cell_type": "code",
   "execution_count": 38,
   "id": "3abbfd78",
   "metadata": {},
   "outputs": [],
   "source": [
    "##### Delete"
   ]
  },
  {
   "cell_type": "code",
   "execution_count": 39,
   "id": "d55c79b8",
   "metadata": {},
   "outputs": [
    {
     "data": {
      "text/plain": [
       "{'Name': 'Rahul', 'Gender': 'Female', 'Age': 22}"
      ]
     },
     "execution_count": 39,
     "metadata": {},
     "output_type": "execute_result"
    }
   ],
   "source": [
    "D"
   ]
  },
  {
   "cell_type": "code",
   "execution_count": 41,
   "id": "1b73162c",
   "metadata": {},
   "outputs": [
    {
     "data": {
      "text/plain": [
       "{}"
      ]
     },
     "execution_count": 41,
     "metadata": {},
     "output_type": "execute_result"
    }
   ],
   "source": [
    "D5={}\n",
    "D5"
   ]
  },
  {
   "cell_type": "code",
   "execution_count": 42,
   "id": "6cbbfcbf",
   "metadata": {},
   "outputs": [
    {
     "ename": "NameError",
     "evalue": "name 'D5' is not defined",
     "output_type": "error",
     "traceback": [
      "\u001b[1;31m---------------------------------------------------------------------------\u001b[0m",
      "\u001b[1;31mNameError\u001b[0m                                 Traceback (most recent call last)",
      "\u001b[1;32m~\\AppData\\Local\\Temp\\ipykernel_9316\\1783440616.py\u001b[0m in \u001b[0;36m<module>\u001b[1;34m\u001b[0m\n\u001b[0;32m      1\u001b[0m \u001b[1;32mdel\u001b[0m \u001b[0mD5\u001b[0m\u001b[1;33m\u001b[0m\u001b[1;33m\u001b[0m\u001b[0m\n\u001b[1;32m----> 2\u001b[1;33m \u001b[0mD5\u001b[0m\u001b[1;33m\u001b[0m\u001b[1;33m\u001b[0m\u001b[0m\n\u001b[0m",
      "\u001b[1;31mNameError\u001b[0m: name 'D5' is not defined"
     ]
    }
   ],
   "source": [
    "del D5   # we can delete an entire dictionary even if it's a empty dict\n",
    "D5"
   ]
  },
  {
   "cell_type": "code",
   "execution_count": 43,
   "id": "41da32f7",
   "metadata": {},
   "outputs": [
    {
     "data": {
      "text/plain": [
       "{'Name': 'Rahul', 'Age': 22}"
      ]
     },
     "execution_count": 43,
     "metadata": {},
     "output_type": "execute_result"
    }
   ],
   "source": [
    "del D['Gender']   # we can also delete an individual key value pair\n",
    "D"
   ]
  },
  {
   "cell_type": "code",
   "execution_count": 45,
   "id": "2879128b",
   "metadata": {},
   "outputs": [
    {
     "data": {
      "text/plain": [
       "{}"
      ]
     },
     "execution_count": 45,
     "metadata": {},
     "output_type": "execute_result"
    }
   ],
   "source": [
    "D.clear()   # 'clear' empties the dictionary\n",
    "D"
   ]
  },
  {
   "cell_type": "code",
   "execution_count": 46,
   "id": "1e65221f",
   "metadata": {},
   "outputs": [],
   "source": [
    "##### Operations"
   ]
  },
  {
   "cell_type": "code",
   "execution_count": 47,
   "id": "bf2970ad",
   "metadata": {},
   "outputs": [
    {
     "data": {
      "text/plain": [
       "{}"
      ]
     },
     "execution_count": 47,
     "metadata": {},
     "output_type": "execute_result"
    }
   ],
   "source": [
    "D"
   ]
  },
  {
   "cell_type": "code",
   "execution_count": 48,
   "id": "f15530b7",
   "metadata": {},
   "outputs": [
    {
     "data": {
      "text/plain": [
       "{(1, 2, 3): 'Shayema'}"
      ]
     },
     "execution_count": 48,
     "metadata": {},
     "output_type": "execute_result"
    }
   ],
   "source": [
    "D1"
   ]
  },
  {
   "cell_type": "code",
   "execution_count": 49,
   "id": "19da362e",
   "metadata": {},
   "outputs": [
    {
     "data": {
      "text/plain": [
       "{'Name': 'Sania'}"
      ]
     },
     "execution_count": 49,
     "metadata": {},
     "output_type": "execute_result"
    }
   ],
   "source": [
    "D2"
   ]
  },
  {
   "cell_type": "code",
   "execution_count": 50,
   "id": "d8a9f8d2",
   "metadata": {},
   "outputs": [
    {
     "data": {
      "text/plain": [
       "{'Name': 'Rohit',\n",
       " 'College': 'HIT',\n",
       " 'Marks': {'M1': 78, 'DS': 45, 'Eng': 56, 'M2': 57}}"
      ]
     },
     "execution_count": 50,
     "metadata": {},
     "output_type": "execute_result"
    }
   ],
   "source": [
    "D3"
   ]
  },
  {
   "cell_type": "code",
   "execution_count": 52,
   "id": "b99b5c3e",
   "metadata": {},
   "outputs": [
    {
     "ename": "TypeError",
     "evalue": "unsupported operand type(s) for +: 'dict' and 'dict'",
     "output_type": "error",
     "traceback": [
      "\u001b[1;31m---------------------------------------------------------------------------\u001b[0m",
      "\u001b[1;31mTypeError\u001b[0m                                 Traceback (most recent call last)",
      "\u001b[1;32m~\\AppData\\Local\\Temp\\ipykernel_9316\\2965468188.py\u001b[0m in \u001b[0;36m<module>\u001b[1;34m\u001b[0m\n\u001b[1;32m----> 1\u001b[1;33m \u001b[0mD1\u001b[0m\u001b[1;33m+\u001b[0m\u001b[0mD2\u001b[0m\u001b[1;33m\u001b[0m\u001b[1;33m\u001b[0m\u001b[0m\n\u001b[0m",
      "\u001b[1;31mTypeError\u001b[0m: unsupported operand type(s) for +: 'dict' and 'dict'"
     ]
    }
   ],
   "source": [
    "D1+D2      # concatenation is not allowed"
   ]
  },
  {
   "cell_type": "code",
   "execution_count": 53,
   "id": "bed0d7d3",
   "metadata": {},
   "outputs": [
    {
     "ename": "TypeError",
     "evalue": "unsupported operand type(s) for *: 'dict' and 'int'",
     "output_type": "error",
     "traceback": [
      "\u001b[1;31m---------------------------------------------------------------------------\u001b[0m",
      "\u001b[1;31mTypeError\u001b[0m                                 Traceback (most recent call last)",
      "\u001b[1;32m~\\AppData\\Local\\Temp\\ipykernel_9316\\4267963069.py\u001b[0m in \u001b[0;36m<module>\u001b[1;34m\u001b[0m\n\u001b[1;32m----> 1\u001b[1;33m \u001b[0mD1\u001b[0m\u001b[1;33m*\u001b[0m\u001b[1;36m3\u001b[0m\u001b[1;33m\u001b[0m\u001b[1;33m\u001b[0m\u001b[0m\n\u001b[0m",
      "\u001b[1;31mTypeError\u001b[0m: unsupported operand type(s) for *: 'dict' and 'int'"
     ]
    }
   ],
   "source": [
    "D1*3      # multiplication is not allowed"
   ]
  },
  {
   "cell_type": "code",
   "execution_count": 54,
   "id": "466f1131",
   "metadata": {},
   "outputs": [
    {
     "name": "stdout",
     "output_type": "stream",
     "text": [
      "Name\n",
      "College\n",
      "Marks\n"
     ]
    }
   ],
   "source": [
    "for i in D3:           # In dictionary, we always get 'Keys' not the 'values' when we run a loop\n",
    "    print(i)"
   ]
  },
  {
   "cell_type": "code",
   "execution_count": 55,
   "id": "38219466",
   "metadata": {},
   "outputs": [
    {
     "name": "stdout",
     "output_type": "stream",
     "text": [
      "Name Rohit\n",
      "College HIT\n",
      "Marks {'M1': 78, 'DS': 45, 'Eng': 56, 'M2': 57}\n"
     ]
    }
   ],
   "source": [
    "for i in D3:\n",
    "    print(i,D3[i])      # In dictionary, if we want to get 'Keys' and the 'values' when we run a loop \n",
    "                        # this is the method"
   ]
  },
  {
   "cell_type": "code",
   "execution_count": 57,
   "id": "409ff6b2",
   "metadata": {},
   "outputs": [
    {
     "data": {
      "text/plain": [
       "False"
      ]
     },
     "execution_count": 57,
     "metadata": {},
     "output_type": "execute_result"
    }
   ],
   "source": [
    "'Rohit' in D3  # membership operator  \n",
    "               # Though we have 'Rohit' in D3 but o/p is False beacuse in Dictionary everything is about 'Keys' not the 'values'"
   ]
  },
  {
   "cell_type": "code",
   "execution_count": 58,
   "id": "f3dc5100",
   "metadata": {},
   "outputs": [
    {
     "data": {
      "text/plain": [
       "True"
      ]
     },
     "execution_count": 58,
     "metadata": {},
     "output_type": "execute_result"
    }
   ],
   "source": [
    "'Name' in D3"
   ]
  },
  {
   "cell_type": "code",
   "execution_count": 59,
   "id": "7b7da9d8",
   "metadata": {},
   "outputs": [
    {
     "data": {
      "text/plain": [
       "True"
      ]
     },
     "execution_count": 59,
     "metadata": {},
     "output_type": "execute_result"
    }
   ],
   "source": [
    "'Rohit' in D3['Name']   # correct way to use membership operator for 'Values' in Dictionary"
   ]
  },
  {
   "cell_type": "code",
   "execution_count": 60,
   "id": "46f3373f",
   "metadata": {},
   "outputs": [
    {
     "data": {
      "text/plain": [
       "3"
      ]
     },
     "execution_count": 60,
     "metadata": {},
     "output_type": "execute_result"
    }
   ],
   "source": [
    "len(D3)"
   ]
  },
  {
   "cell_type": "code",
   "execution_count": 61,
   "id": "ec328ce5",
   "metadata": {},
   "outputs": [
    {
     "data": {
      "text/plain": [
       "'Name'"
      ]
     },
     "execution_count": 61,
     "metadata": {},
     "output_type": "execute_result"
    }
   ],
   "source": [
    "max(D3)  # depend on asci value"
   ]
  },
  {
   "cell_type": "code",
   "execution_count": 62,
   "id": "fb2be36f",
   "metadata": {},
   "outputs": [
    {
     "data": {
      "text/plain": [
       "'College'"
      ]
     },
     "execution_count": 62,
     "metadata": {},
     "output_type": "execute_result"
    }
   ],
   "source": [
    "min(D3)  # depend on asci value"
   ]
  },
  {
   "cell_type": "code",
   "execution_count": 64,
   "id": "115cdf59",
   "metadata": {},
   "outputs": [
    {
     "data": {
      "text/plain": [
       "['College', 'Marks', 'Name']"
      ]
     },
     "execution_count": 64,
     "metadata": {},
     "output_type": "execute_result"
    }
   ],
   "source": [
    "sorted(D3)"
   ]
  },
  {
   "cell_type": "code",
   "execution_count": 65,
   "id": "28a1a0d1",
   "metadata": {},
   "outputs": [
    {
     "data": {
      "text/plain": [
       "['Name', 'Marks', 'College']"
      ]
     },
     "execution_count": 65,
     "metadata": {},
     "output_type": "execute_result"
    }
   ],
   "source": [
    "sorted(D3,reverse=True)"
   ]
  },
  {
   "cell_type": "code",
   "execution_count": 66,
   "id": "a520f279",
   "metadata": {},
   "outputs": [
    {
     "data": {
      "text/plain": [
       "{'Name': 'Rohit',\n",
       " 'College': 'HIT',\n",
       " 'Marks': {'M1': 78, 'DS': 45, 'Eng': 56, 'M2': 57}}"
      ]
     },
     "execution_count": 66,
     "metadata": {},
     "output_type": "execute_result"
    }
   ],
   "source": [
    "D3"
   ]
  },
  {
   "cell_type": "code",
   "execution_count": 67,
   "id": "bc177098",
   "metadata": {},
   "outputs": [
    {
     "data": {
      "text/plain": [
       "dict_keys(['Name', 'College', 'Marks'])"
      ]
     },
     "execution_count": 67,
     "metadata": {},
     "output_type": "execute_result"
    }
   ],
   "source": [
    "D3.keys()   # gives list of keys"
   ]
  },
  {
   "cell_type": "code",
   "execution_count": 68,
   "id": "e7af5103",
   "metadata": {},
   "outputs": [
    {
     "data": {
      "text/plain": [
       "dict_values(['Rohit', 'HIT', {'M1': 78, 'DS': 45, 'Eng': 56, 'M2': 57}])"
      ]
     },
     "execution_count": 68,
     "metadata": {},
     "output_type": "execute_result"
    }
   ],
   "source": [
    "D3.values()   # gives list of values"
   ]
  },
  {
   "cell_type": "markdown",
   "id": "4b81903a",
   "metadata": {},
   "source": [
    "# Variables and Memory References"
   ]
  },
  {
   "cell_type": "code",
   "execution_count": 3,
   "id": "3f43687f",
   "metadata": {},
   "outputs": [
    {
     "ename": "NameError",
     "evalue": "name 'a' is not defined",
     "output_type": "error",
     "traceback": [
      "\u001b[1;31m---------------------------------------------------------------------------\u001b[0m",
      "\u001b[1;31mNameError\u001b[0m                                 Traceback (most recent call last)",
      "\u001b[1;32m~\\AppData\\Local\\Temp\\ipykernel_8184\\757358000.py\u001b[0m in \u001b[0;36m<module>\u001b[1;34m\u001b[0m\n\u001b[1;32m----> 1\u001b[1;33m \u001b[0ma\u001b[0m   \u001b[1;31m# Python calls variable as 'name'\u001b[0m\u001b[1;33m\u001b[0m\u001b[1;33m\u001b[0m\u001b[0m\n\u001b[0m",
      "\u001b[1;31mNameError\u001b[0m: name 'a' is not defined"
     ]
    }
   ],
   "source": [
    "a   # Python calls variable as 'name'"
   ]
  },
  {
   "cell_type": "code",
   "execution_count": 4,
   "id": "39660546",
   "metadata": {},
   "outputs": [],
   "source": [
    "a=4"
   ]
  },
  {
   "cell_type": "code",
   "execution_count": 5,
   "id": "920964cb",
   "metadata": {},
   "outputs": [
    {
     "data": {
      "text/plain": [
       "140712239922336"
      ]
     },
     "execution_count": 5,
     "metadata": {},
     "output_type": "execute_result"
    }
   ],
   "source": [
    "id(a)    # memory address"
   ]
  },
  {
   "cell_type": "code",
   "execution_count": 6,
   "id": "d65d8a99",
   "metadata": {},
   "outputs": [
    {
     "data": {
      "text/plain": [
       "140712239922336"
      ]
     },
     "execution_count": 6,
     "metadata": {},
     "output_type": "execute_result"
    }
   ],
   "source": [
    "id(4)               # this is the memory address where 'a' is stored"
   ]
  },
  {
   "cell_type": "markdown",
   "id": "ef3ea151",
   "metadata": {},
   "source": [
    "# (i) aliasing"
   ]
  },
  {
   "cell_type": "code",
   "execution_count": 8,
   "id": "b60b3590",
   "metadata": {},
   "outputs": [],
   "source": [
    "a=5"
   ]
  },
  {
   "cell_type": "code",
   "execution_count": 9,
   "id": "c6408e8b",
   "metadata": {},
   "outputs": [],
   "source": [
    "b=a"
   ]
  },
  {
   "cell_type": "code",
   "execution_count": 10,
   "id": "60700b3e",
   "metadata": {},
   "outputs": [
    {
     "data": {
      "text/plain": [
       "140712239922368"
      ]
     },
     "execution_count": 10,
     "metadata": {},
     "output_type": "execute_result"
    }
   ],
   "source": [
    "id(a)"
   ]
  },
  {
   "cell_type": "code",
   "execution_count": 11,
   "id": "d69e9d9d",
   "metadata": {},
   "outputs": [
    {
     "data": {
      "text/plain": [
       "140712239922368"
      ]
     },
     "execution_count": 11,
     "metadata": {},
     "output_type": "execute_result"
    }
   ],
   "source": [
    "id(b)"
   ]
  },
  {
   "cell_type": "code",
   "execution_count": 12,
   "id": "7a220ac0",
   "metadata": {},
   "outputs": [],
   "source": [
    "c=b"
   ]
  },
  {
   "cell_type": "code",
   "execution_count": 13,
   "id": "c4bc912d",
   "metadata": {},
   "outputs": [
    {
     "data": {
      "text/plain": [
       "140712239922368"
      ]
     },
     "execution_count": 13,
     "metadata": {},
     "output_type": "execute_result"
    }
   ],
   "source": [
    "id(c)"
   ]
  },
  {
   "cell_type": "code",
   "execution_count": 14,
   "id": "18fc0c1c",
   "metadata": {},
   "outputs": [],
   "source": [
    "# if we delete 'a' then 'b' will also be deleted or not?????"
   ]
  },
  {
   "cell_type": "code",
   "execution_count": 15,
   "id": "2fab49b1",
   "metadata": {},
   "outputs": [],
   "source": [
    "del a"
   ]
  },
  {
   "cell_type": "code",
   "execution_count": 16,
   "id": "f2cfc65b",
   "metadata": {},
   "outputs": [
    {
     "data": {
      "text/plain": [
       "5"
      ]
     },
     "execution_count": 16,
     "metadata": {},
     "output_type": "execute_result"
    }
   ],
   "source": [
    "b"
   ]
  },
  {
   "cell_type": "code",
   "execution_count": 17,
   "id": "d0a71a77",
   "metadata": {},
   "outputs": [],
   "source": [
    "# if a=5, b=a and a=6 then what will be b=?????"
   ]
  },
  {
   "cell_type": "code",
   "execution_count": 18,
   "id": "acdcc62f",
   "metadata": {},
   "outputs": [
    {
     "data": {
      "text/plain": [
       "5"
      ]
     },
     "execution_count": 18,
     "metadata": {},
     "output_type": "execute_result"
    }
   ],
   "source": [
    "b"
   ]
  },
  {
   "cell_type": "markdown",
   "id": "6ac6d6b1",
   "metadata": {},
   "source": [
    "# (ii) Reference counting"
   ]
  },
  {
   "cell_type": "code",
   "execution_count": 20,
   "id": "8af0bd14",
   "metadata": {},
   "outputs": [],
   "source": [
    "import sys"
   ]
  },
  {
   "cell_type": "code",
   "execution_count": 21,
   "id": "5e5f77c2",
   "metadata": {},
   "outputs": [],
   "source": [
    "a='corona'"
   ]
  },
  {
   "cell_type": "code",
   "execution_count": 22,
   "id": "80204efa",
   "metadata": {},
   "outputs": [],
   "source": [
    "b=a"
   ]
  },
  {
   "cell_type": "code",
   "execution_count": 23,
   "id": "f9b872b1",
   "metadata": {},
   "outputs": [],
   "source": [
    "c=b"
   ]
  },
  {
   "cell_type": "code",
   "execution_count": 24,
   "id": "2bb704ae",
   "metadata": {},
   "outputs": [
    {
     "data": {
      "text/plain": [
       "1826208185264"
      ]
     },
     "execution_count": 24,
     "metadata": {},
     "output_type": "execute_result"
    }
   ],
   "source": [
    "id(a)"
   ]
  },
  {
   "cell_type": "code",
   "execution_count": 25,
   "id": "eab976fc",
   "metadata": {},
   "outputs": [
    {
     "data": {
      "text/plain": [
       "1826208185264"
      ]
     },
     "execution_count": 25,
     "metadata": {},
     "output_type": "execute_result"
    }
   ],
   "source": [
    "id(b)"
   ]
  },
  {
   "cell_type": "code",
   "execution_count": 26,
   "id": "856a33e9",
   "metadata": {},
   "outputs": [
    {
     "data": {
      "text/plain": [
       "1826208185264"
      ]
     },
     "execution_count": 26,
     "metadata": {},
     "output_type": "execute_result"
    }
   ],
   "source": [
    "id(c)"
   ]
  },
  {
   "cell_type": "code",
   "execution_count": 30,
   "id": "d0d45bd9",
   "metadata": {},
   "outputs": [
    {
     "data": {
      "text/plain": [
       "'corona'"
      ]
     },
     "execution_count": 30,
     "metadata": {},
     "output_type": "execute_result"
    }
   ],
   "source": [
    "a"
   ]
  },
  {
   "cell_type": "code",
   "execution_count": 27,
   "id": "1c796ee0",
   "metadata": {},
   "outputs": [
    {
     "data": {
      "text/plain": [
       "'corona'"
      ]
     },
     "execution_count": 27,
     "metadata": {},
     "output_type": "execute_result"
    }
   ],
   "source": [
    "b"
   ]
  },
  {
   "cell_type": "code",
   "execution_count": 28,
   "id": "21f0464b",
   "metadata": {},
   "outputs": [
    {
     "data": {
      "text/plain": [
       "'corona'"
      ]
     },
     "execution_count": 28,
     "metadata": {},
     "output_type": "execute_result"
    }
   ],
   "source": [
    "c"
   ]
  },
  {
   "cell_type": "code",
   "execution_count": 31,
   "id": "8e188cf1",
   "metadata": {},
   "outputs": [
    {
     "data": {
      "text/plain": [
       "20"
      ]
     },
     "execution_count": 31,
     "metadata": {},
     "output_type": "execute_result"
    }
   ],
   "source": [
    "sys.getrefcount(a)   # why 20 as o/p should be 4 "
   ]
  },
  {
   "cell_type": "code",
   "execution_count": 32,
   "id": "bd68ec05",
   "metadata": {},
   "outputs": [],
   "source": [
    "# Because there are some other variables in program that are pointing \n",
    "# Let's take some uncommon string"
   ]
  },
  {
   "cell_type": "code",
   "execution_count": 33,
   "id": "cd8d6e92",
   "metadata": {},
   "outputs": [],
   "source": [
    "a='jenedgjelgjerlj'"
   ]
  },
  {
   "cell_type": "code",
   "execution_count": 34,
   "id": "734fd7ec",
   "metadata": {},
   "outputs": [],
   "source": [
    "b=a"
   ]
  },
  {
   "cell_type": "code",
   "execution_count": 35,
   "id": "dd5a1484",
   "metadata": {},
   "outputs": [],
   "source": [
    "c=b"
   ]
  },
  {
   "cell_type": "code",
   "execution_count": 36,
   "id": "f4ed55e0",
   "metadata": {},
   "outputs": [
    {
     "data": {
      "text/plain": [
       "4"
      ]
     },
     "execution_count": 36,
     "metadata": {},
     "output_type": "execute_result"
    }
   ],
   "source": [
    "sys.getrefcount(a)   # now the o/p is 4 as we took very uncommon word\n",
    "\n",
    "# o/p = 4 ( 3--->no.of variables pointing + 1 ----> getrefcount itself is pointing while counting)"
   ]
  },
  {
   "cell_type": "markdown",
   "id": "0a4f7e1a",
   "metadata": {},
   "source": [
    "# (iii) Garbage collection\n",
    "  An automatic memory management technique, to deallocate memory that is no longer required by the program. "
   ]
  },
  {
   "cell_type": "markdown",
   "id": "984abad6",
   "metadata": {},
   "source": [
    "# (iv) Weird behavior "
   ]
  },
  {
   "cell_type": "code",
   "execution_count": 49,
   "id": "cd8c1d9f",
   "metadata": {},
   "outputs": [],
   "source": [
    "# WB-1 (Getrefcount anomaly)"
   ]
  },
  {
   "cell_type": "code",
   "execution_count": 50,
   "id": "0f187ca2",
   "metadata": {},
   "outputs": [],
   "source": [
    "a=2\n",
    "b=a\n",
    "c=b"
   ]
  },
  {
   "cell_type": "code",
   "execution_count": 51,
   "id": "049349aa",
   "metadata": {},
   "outputs": [
    {
     "data": {
      "text/plain": [
       "1452"
      ]
     },
     "execution_count": 51,
     "metadata": {},
     "output_type": "execute_result"
    }
   ],
   "source": [
    "sys.getrefcount(a)       # the o/p should be 4 but it is 1452 as there are extra 1448 extra variables that are pointing "
   ]
  },
  {
   "cell_type": "code",
   "execution_count": 52,
   "id": "4999d90b",
   "metadata": {},
   "outputs": [],
   "source": [
    "a=717\n",
    "b=a\n",
    "c=a"
   ]
  },
  {
   "cell_type": "code",
   "execution_count": 53,
   "id": "a7ecf4a2",
   "metadata": {},
   "outputs": [
    {
     "data": {
      "text/plain": [
       "4"
      ]
     },
     "execution_count": 53,
     "metadata": {},
     "output_type": "execute_result"
    }
   ],
   "source": [
    "sys.getrefcount(a)      # if we take uncommon number like 717 then no extra variables are pointing as it's very uncommon"
   ]
  },
  {
   "cell_type": "code",
   "execution_count": 54,
   "id": "fb6e9889",
   "metadata": {},
   "outputs": [],
   "source": [
    "# WB-2 (-5 to 256)"
   ]
  },
  {
   "cell_type": "code",
   "execution_count": 55,
   "id": "01847286",
   "metadata": {},
   "outputs": [],
   "source": [
    "a=4\n",
    "b=4    # not aliasing"
   ]
  },
  {
   "cell_type": "code",
   "execution_count": 56,
   "id": "20f240aa",
   "metadata": {},
   "outputs": [
    {
     "data": {
      "text/plain": [
       "140712239922336"
      ]
     },
     "execution_count": 56,
     "metadata": {},
     "output_type": "execute_result"
    }
   ],
   "source": [
    "id(a)"
   ]
  },
  {
   "cell_type": "code",
   "execution_count": 57,
   "id": "cb2bcdf0",
   "metadata": {},
   "outputs": [
    {
     "data": {
      "text/plain": [
       "140712239922336"
      ]
     },
     "execution_count": 57,
     "metadata": {},
     "output_type": "execute_result"
    }
   ],
   "source": [
    "id(b)            # same id's"
   ]
  },
  {
   "cell_type": "code",
   "execution_count": 58,
   "id": "24bf1db2",
   "metadata": {},
   "outputs": [],
   "source": [
    "a=256\n",
    "b=256"
   ]
  },
  {
   "cell_type": "code",
   "execution_count": 59,
   "id": "86dddc36",
   "metadata": {},
   "outputs": [
    {
     "data": {
      "text/plain": [
       "140712239930400"
      ]
     },
     "execution_count": 59,
     "metadata": {},
     "output_type": "execute_result"
    }
   ],
   "source": [
    "id(a)"
   ]
  },
  {
   "cell_type": "code",
   "execution_count": 60,
   "id": "8fbe4e02",
   "metadata": {},
   "outputs": [
    {
     "data": {
      "text/plain": [
       "140712239930400"
      ]
     },
     "execution_count": 60,
     "metadata": {},
     "output_type": "execute_result"
    }
   ],
   "source": [
    "id(b)          # same id's"
   ]
  },
  {
   "cell_type": "code",
   "execution_count": 61,
   "id": "4d49d0ef",
   "metadata": {},
   "outputs": [],
   "source": [
    "a=257\n",
    "b=257"
   ]
  },
  {
   "cell_type": "code",
   "execution_count": 62,
   "id": "bd766edc",
   "metadata": {},
   "outputs": [
    {
     "data": {
      "text/plain": [
       "1826207332240"
      ]
     },
     "execution_count": 62,
     "metadata": {},
     "output_type": "execute_result"
    }
   ],
   "source": [
    "id(a)"
   ]
  },
  {
   "cell_type": "code",
   "execution_count": 63,
   "id": "e4c016c0",
   "metadata": {},
   "outputs": [
    {
     "data": {
      "text/plain": [
       "1826207331408"
      ]
     },
     "execution_count": 63,
     "metadata": {},
     "output_type": "execute_result"
    }
   ],
   "source": [
    "id(b)         # different id's    (Why???????)    "
   ]
  },
  {
   "cell_type": "code",
   "execution_count": 10,
   "id": "8cbb14b3",
   "metadata": {},
   "outputs": [],
   "source": [
    "# WB-3 (Strings)"
   ]
  },
  {
   "cell_type": "code",
   "execution_count": 1,
   "id": "a707a1b6",
   "metadata": {},
   "outputs": [],
   "source": [
    "a='haldia'\n",
    "b='haldia'"
   ]
  },
  {
   "cell_type": "code",
   "execution_count": 2,
   "id": "414942d4",
   "metadata": {},
   "outputs": [
    {
     "data": {
      "text/plain": [
       "2732468135344"
      ]
     },
     "execution_count": 2,
     "metadata": {},
     "output_type": "execute_result"
    }
   ],
   "source": [
    "id(a)"
   ]
  },
  {
   "cell_type": "code",
   "execution_count": 3,
   "id": "caebb856",
   "metadata": {},
   "outputs": [
    {
     "data": {
      "text/plain": [
       "2732468135344"
      ]
     },
     "execution_count": 3,
     "metadata": {},
     "output_type": "execute_result"
    }
   ],
   "source": [
    "id(b)    # same"
   ]
  },
  {
   "cell_type": "code",
   "execution_count": 4,
   "id": "1586df9e",
   "metadata": {},
   "outputs": [],
   "source": [
    "a='haldia inst tech'\n",
    "b='haldia inst tech'"
   ]
  },
  {
   "cell_type": "code",
   "execution_count": 5,
   "id": "6dba1216",
   "metadata": {},
   "outputs": [
    {
     "data": {
      "text/plain": [
       "2732468400496"
      ]
     },
     "execution_count": 5,
     "metadata": {},
     "output_type": "execute_result"
    }
   ],
   "source": [
    "id(a)"
   ]
  },
  {
   "cell_type": "code",
   "execution_count": 6,
   "id": "d3dadc5a",
   "metadata": {},
   "outputs": [
    {
     "data": {
      "text/plain": [
       "2732468401616"
      ]
     },
     "execution_count": 6,
     "metadata": {},
     "output_type": "execute_result"
    }
   ],
   "source": [
    "id(b)    # different (Why???)"
   ]
  },
  {
   "cell_type": "code",
   "execution_count": 7,
   "id": "3454be46",
   "metadata": {},
   "outputs": [],
   "source": [
    "a='haldia_inst_tech'\n",
    "b='haldia_inst_tech'"
   ]
  },
  {
   "cell_type": "code",
   "execution_count": 8,
   "id": "22bcfe97",
   "metadata": {},
   "outputs": [
    {
     "data": {
      "text/plain": [
       "2732468107344"
      ]
     },
     "execution_count": 8,
     "metadata": {},
     "output_type": "execute_result"
    }
   ],
   "source": [
    "id(a)"
   ]
  },
  {
   "cell_type": "code",
   "execution_count": 9,
   "id": "a6035493",
   "metadata": {},
   "outputs": [
    {
     "data": {
      "text/plain": [
       "2732468107344"
      ]
     },
     "execution_count": 9,
     "metadata": {},
     "output_type": "execute_result"
    }
   ],
   "source": [
    "id(b)   # same"
   ]
  },
  {
   "cell_type": "code",
   "execution_count": 11,
   "id": "fd04ed02",
   "metadata": {},
   "outputs": [],
   "source": [
    " # the answer is when variable is valid identifier then id will be same otherwise different\n",
    " # when identifier is not valid then Python will start to create new memory id's "
   ]
  },
  {
   "cell_type": "markdown",
   "id": "9224af0d",
   "metadata": {},
   "source": [
    "# (v) Mutability\n",
    "Mutability refers to the ability to change or edit data in it's memory location."
   ]
  },
  {
   "cell_type": "code",
   "execution_count": 7,
   "id": "217628a2",
   "metadata": {},
   "outputs": [],
   "source": [
    "# memory addressing of a list"
   ]
  },
  {
   "cell_type": "code",
   "execution_count": 1,
   "id": "9af2158c",
   "metadata": {},
   "outputs": [],
   "source": [
    "L=[1,2,3]"
   ]
  },
  {
   "cell_type": "code",
   "execution_count": 2,
   "id": "4817d2e3",
   "metadata": {},
   "outputs": [
    {
     "data": {
      "text/plain": [
       "1945619045960"
      ]
     },
     "execution_count": 2,
     "metadata": {},
     "output_type": "execute_result"
    }
   ],
   "source": [
    "id(L)"
   ]
  },
  {
   "cell_type": "code",
   "execution_count": 3,
   "id": "fa876a25",
   "metadata": {},
   "outputs": [
    {
     "data": {
      "text/plain": [
       "140734248680512"
      ]
     },
     "execution_count": 3,
     "metadata": {},
     "output_type": "execute_result"
    }
   ],
   "source": [
    "id(1)"
   ]
  },
  {
   "cell_type": "code",
   "execution_count": 4,
   "id": "1e8841dc",
   "metadata": {},
   "outputs": [
    {
     "data": {
      "text/plain": [
       "140734248680512"
      ]
     },
     "execution_count": 4,
     "metadata": {},
     "output_type": "execute_result"
    }
   ],
   "source": [
    "id(L[0])"
   ]
  },
  {
   "cell_type": "code",
   "execution_count": 5,
   "id": "3fc2e244",
   "metadata": {},
   "outputs": [
    {
     "data": {
      "text/plain": [
       "140734248680544"
      ]
     },
     "execution_count": 5,
     "metadata": {},
     "output_type": "execute_result"
    }
   ],
   "source": [
    "id(2)"
   ]
  },
  {
   "cell_type": "code",
   "execution_count": 6,
   "id": "9d4b4aec",
   "metadata": {},
   "outputs": [
    {
     "data": {
      "text/plain": [
       "140734248680576"
      ]
     },
     "execution_count": 6,
     "metadata": {},
     "output_type": "execute_result"
    }
   ],
   "source": [
    "id(3)"
   ]
  },
  {
   "cell_type": "code",
   "execution_count": 9,
   "id": "ca1f1850",
   "metadata": {},
   "outputs": [
    {
     "data": {
      "text/plain": [
       "[1, 2, 1]"
      ]
     },
     "execution_count": 9,
     "metadata": {},
     "output_type": "execute_result"
    }
   ],
   "source": [
    "L[2]=1\n",
    "L"
   ]
  },
  {
   "cell_type": "code",
   "execution_count": 10,
   "id": "b320e5ba",
   "metadata": {},
   "outputs": [
    {
     "data": {
      "text/plain": [
       "140734248680512"
      ]
     },
     "execution_count": 10,
     "metadata": {},
     "output_type": "execute_result"
    }
   ],
   "source": [
    "id(L[2])"
   ]
  },
  {
   "cell_type": "code",
   "execution_count": 11,
   "id": "c9393f92",
   "metadata": {},
   "outputs": [
    {
     "data": {
      "text/plain": [
       "[1, 2, 3, [4, 5]]"
      ]
     },
     "execution_count": 11,
     "metadata": {},
     "output_type": "execute_result"
    }
   ],
   "source": [
    "L=[1,2,3,[4,5]]\n",
    "L"
   ]
  },
  {
   "cell_type": "code",
   "execution_count": 12,
   "id": "1f8ac248",
   "metadata": {},
   "outputs": [],
   "source": [
    "##### Mutability depends on the data type"
   ]
  },
  {
   "cell_type": "code",
   "execution_count": 13,
   "id": "0a181b62",
   "metadata": {},
   "outputs": [],
   "source": [
    "a='Hello'"
   ]
  },
  {
   "cell_type": "code",
   "execution_count": 14,
   "id": "7bb5e666",
   "metadata": {},
   "outputs": [
    {
     "data": {
      "text/plain": [
       "1945619007984"
      ]
     },
     "execution_count": 14,
     "metadata": {},
     "output_type": "execute_result"
    }
   ],
   "source": [
    "id(a)"
   ]
  },
  {
   "cell_type": "code",
   "execution_count": 15,
   "id": "f02614ff",
   "metadata": {},
   "outputs": [
    {
     "data": {
      "text/plain": [
       "'HelloWorld'"
      ]
     },
     "execution_count": 15,
     "metadata": {},
     "output_type": "execute_result"
    }
   ],
   "source": [
    "a=a+'World'\n",
    "a"
   ]
  },
  {
   "cell_type": "code",
   "execution_count": 16,
   "id": "30c09d27",
   "metadata": {},
   "outputs": [
    {
     "data": {
      "text/plain": [
       "1945619084208"
      ]
     },
     "execution_count": 16,
     "metadata": {},
     "output_type": "execute_result"
    }
   ],
   "source": [
    "id(a)    # memory address is changed ( in case of immutable data type 'String')"
   ]
  },
  {
   "cell_type": "code",
   "execution_count": 19,
   "id": "09381f2f",
   "metadata": {},
   "outputs": [
    {
     "data": {
      "text/plain": [
       "(1, 2, 3)"
      ]
     },
     "execution_count": 19,
     "metadata": {},
     "output_type": "execute_result"
    }
   ],
   "source": [
    "T=(1,2,3)\n",
    "T"
   ]
  },
  {
   "cell_type": "code",
   "execution_count": 20,
   "id": "75ab79d5",
   "metadata": {},
   "outputs": [
    {
     "data": {
      "text/plain": [
       "1945618925992"
      ]
     },
     "execution_count": 20,
     "metadata": {},
     "output_type": "execute_result"
    }
   ],
   "source": [
    "id(T)"
   ]
  },
  {
   "cell_type": "code",
   "execution_count": 21,
   "id": "14d43161",
   "metadata": {},
   "outputs": [
    {
     "data": {
      "text/plain": [
       "(1, 2, 3, 5, 6)"
      ]
     },
     "execution_count": 21,
     "metadata": {},
     "output_type": "execute_result"
    }
   ],
   "source": [
    "T=T+(5,6)\n",
    "T"
   ]
  },
  {
   "cell_type": "code",
   "execution_count": 22,
   "id": "ffa677ef",
   "metadata": {},
   "outputs": [
    {
     "data": {
      "text/plain": [
       "1945618320168"
      ]
     },
     "execution_count": 22,
     "metadata": {},
     "output_type": "execute_result"
    }
   ],
   "source": [
    "id(T)      # memory address is changed ( in case of immutable data type 'Tuple')"
   ]
  },
  {
   "cell_type": "code",
   "execution_count": 27,
   "id": "19afa679",
   "metadata": {},
   "outputs": [
    {
     "data": {
      "text/plain": [
       "[1, 2, 3]"
      ]
     },
     "execution_count": 27,
     "metadata": {},
     "output_type": "execute_result"
    }
   ],
   "source": [
    "L=[1,2,3]\n",
    "L"
   ]
  },
  {
   "cell_type": "code",
   "execution_count": 28,
   "id": "4053840b",
   "metadata": {},
   "outputs": [
    {
     "data": {
      "text/plain": [
       "1945619072968"
      ]
     },
     "execution_count": 28,
     "metadata": {},
     "output_type": "execute_result"
    }
   ],
   "source": [
    "id(L)"
   ]
  },
  {
   "cell_type": "code",
   "execution_count": 29,
   "id": "eb8989f6",
   "metadata": {},
   "outputs": [
    {
     "data": {
      "text/plain": [
       "[1, 2, 3, 4]"
      ]
     },
     "execution_count": 29,
     "metadata": {},
     "output_type": "execute_result"
    }
   ],
   "source": [
    "L.append(4)\n",
    "L"
   ]
  },
  {
   "cell_type": "code",
   "execution_count": 30,
   "id": "4291094c",
   "metadata": {},
   "outputs": [
    {
     "data": {
      "text/plain": [
       "1945619072968"
      ]
     },
     "execution_count": 30,
     "metadata": {},
     "output_type": "execute_result"
    }
   ],
   "source": [
    "id(L)    # # memory address is not changed ( in case of mutable data type 'List')"
   ]
  },
  {
   "cell_type": "markdown",
   "id": "09977f36",
   "metadata": {},
   "source": [
    "# (v) Side effects of mutability"
   ]
  },
  {
   "cell_type": "code",
   "execution_count": 6,
   "id": "1258d79e",
   "metadata": {},
   "outputs": [
    {
     "data": {
      "text/plain": [
       "[1, 2, 3]"
      ]
     },
     "execution_count": 6,
     "metadata": {},
     "output_type": "execute_result"
    }
   ],
   "source": [
    "L=[1,2,3]\n",
    "L1=L\n",
    "L1"
   ]
  },
  {
   "cell_type": "code",
   "execution_count": 7,
   "id": "10e569bb",
   "metadata": {},
   "outputs": [
    {
     "data": {
      "text/plain": [
       "2972557050696"
      ]
     },
     "execution_count": 7,
     "metadata": {},
     "output_type": "execute_result"
    }
   ],
   "source": [
    "id(L)"
   ]
  },
  {
   "cell_type": "code",
   "execution_count": 8,
   "id": "d93fc57b",
   "metadata": {},
   "outputs": [
    {
     "data": {
      "text/plain": [
       "2972557050696"
      ]
     },
     "execution_count": 8,
     "metadata": {},
     "output_type": "execute_result"
    }
   ],
   "source": [
    "id(L1)"
   ]
  },
  {
   "cell_type": "code",
   "execution_count": 9,
   "id": "fd9446c6",
   "metadata": {},
   "outputs": [
    {
     "data": {
      "text/plain": [
       "[1, 2, 3, 4]"
      ]
     },
     "execution_count": 9,
     "metadata": {},
     "output_type": "execute_result"
    }
   ],
   "source": [
    "L1.append(4)\n",
    "L1"
   ]
  },
  {
   "cell_type": "code",
   "execution_count": 10,
   "id": "c5a59699",
   "metadata": {},
   "outputs": [
    {
     "data": {
      "text/plain": [
       "[1, 2, 3, 4]"
      ]
     },
     "execution_count": 10,
     "metadata": {},
     "output_type": "execute_result"
    }
   ],
   "source": [
    "L"
   ]
  },
  {
   "cell_type": "code",
   "execution_count": 11,
   "id": "e421bc51",
   "metadata": {},
   "outputs": [
    {
     "data": {
      "text/plain": [
       "2972557050696"
      ]
     },
     "execution_count": 11,
     "metadata": {},
     "output_type": "execute_result"
    }
   ],
   "source": [
    "id(L1)"
   ]
  },
  {
   "cell_type": "code",
   "execution_count": 12,
   "id": "54ac8507",
   "metadata": {},
   "outputs": [
    {
     "data": {
      "text/plain": [
       "2972557050696"
      ]
     },
     "execution_count": 12,
     "metadata": {},
     "output_type": "execute_result"
    }
   ],
   "source": [
    "id(L)"
   ]
  },
  {
   "cell_type": "code",
   "execution_count": 13,
   "id": "299265a3",
   "metadata": {},
   "outputs": [],
   "source": [
    "# How to overcome this situation???\n",
    "# The solution is 'cloning'"
   ]
  },
  {
   "cell_type": "code",
   "execution_count": 14,
   "id": "3a8ee47e",
   "metadata": {},
   "outputs": [
    {
     "data": {
      "text/plain": [
       "[1, 2, 3, 4]"
      ]
     },
     "execution_count": 14,
     "metadata": {},
     "output_type": "execute_result"
    }
   ],
   "source": [
    "L"
   ]
  },
  {
   "cell_type": "code",
   "execution_count": 15,
   "id": "87a2774a",
   "metadata": {},
   "outputs": [],
   "source": [
    "L1=L[:]"
   ]
  },
  {
   "cell_type": "code",
   "execution_count": 16,
   "id": "0eca8cc4",
   "metadata": {},
   "outputs": [
    {
     "data": {
      "text/plain": [
       "2972557050696"
      ]
     },
     "execution_count": 16,
     "metadata": {},
     "output_type": "execute_result"
    }
   ],
   "source": [
    "id(L)"
   ]
  },
  {
   "cell_type": "code",
   "execution_count": 17,
   "id": "7740b93d",
   "metadata": {},
   "outputs": [
    {
     "data": {
      "text/plain": [
       "2972556720136"
      ]
     },
     "execution_count": 17,
     "metadata": {},
     "output_type": "execute_result"
    }
   ],
   "source": [
    "id(L1)   # L and L1 are different and have different memory addresses"
   ]
  },
  {
   "cell_type": "code",
   "execution_count": 18,
   "id": "65ac0545",
   "metadata": {},
   "outputs": [
    {
     "data": {
      "text/plain": [
       "[1, 2, 3, 4, 5]"
      ]
     },
     "execution_count": 18,
     "metadata": {},
     "output_type": "execute_result"
    }
   ],
   "source": [
    "L1.append(5)\n",
    "L1"
   ]
  },
  {
   "cell_type": "code",
   "execution_count": 19,
   "id": "d66c0a27",
   "metadata": {},
   "outputs": [
    {
     "data": {
      "text/plain": [
       "[1, 2, 3, 4]"
      ]
     },
     "execution_count": 19,
     "metadata": {},
     "output_type": "execute_result"
    }
   ],
   "source": [
    "L"
   ]
  },
  {
   "cell_type": "code",
   "execution_count": 20,
   "id": "9cde8af1",
   "metadata": {},
   "outputs": [],
   "source": [
    "# Q1> "
   ]
  },
  {
   "cell_type": "code",
   "execution_count": 21,
   "id": "ca94eefb",
   "metadata": {},
   "outputs": [
    {
     "data": {
      "text/plain": [
       "(1, 2, 3, [4, 5])"
      ]
     },
     "execution_count": 21,
     "metadata": {},
     "output_type": "execute_result"
    }
   ],
   "source": [
    "a=(1,2,3,[4,5])\n",
    "a"
   ]
  },
  {
   "cell_type": "code",
   "execution_count": 22,
   "id": "d935c267",
   "metadata": {},
   "outputs": [
    {
     "data": {
      "text/plain": [
       "(1, 2, 3, [4, 500])"
      ]
     },
     "execution_count": 22,
     "metadata": {},
     "output_type": "execute_result"
    }
   ],
   "source": [
    "a[-1][-1]=500\n",
    "a                # So changes in 'List' i.e., [4,5] is possible"
   ]
  },
  {
   "cell_type": "code",
   "execution_count": 23,
   "id": "6444fd0a",
   "metadata": {},
   "outputs": [],
   "source": [
    "# Q2>"
   ]
  },
  {
   "cell_type": "code",
   "execution_count": 24,
   "id": "4081fce0",
   "metadata": {},
   "outputs": [
    {
     "data": {
      "text/plain": [
       "[1, 2, 3, (4, 5)]"
      ]
     },
     "execution_count": 24,
     "metadata": {},
     "output_type": "execute_result"
    }
   ],
   "source": [
    "a=[1,2,3,(4,5)]\n",
    "a"
   ]
  },
  {
   "cell_type": "code",
   "execution_count": 25,
   "id": "ea063364",
   "metadata": {},
   "outputs": [
    {
     "ename": "TypeError",
     "evalue": "'tuple' object does not support item assignment",
     "output_type": "error",
     "traceback": [
      "\u001b[1;31m---------------------------------------------------------------------------\u001b[0m",
      "\u001b[1;31mTypeError\u001b[0m                                 Traceback (most recent call last)",
      "\u001b[1;32m~\\AppData\\Local\\Temp\\ipykernel_9364\\207429361.py\u001b[0m in \u001b[0;36m<module>\u001b[1;34m\u001b[0m\n\u001b[1;32m----> 1\u001b[1;33m \u001b[0ma\u001b[0m\u001b[1;33m[\u001b[0m\u001b[1;33m-\u001b[0m\u001b[1;36m1\u001b[0m\u001b[1;33m]\u001b[0m\u001b[1;33m[\u001b[0m\u001b[1;33m-\u001b[0m\u001b[1;36m1\u001b[0m\u001b[1;33m]\u001b[0m\u001b[1;33m=\u001b[0m\u001b[1;36m500\u001b[0m\u001b[1;33m\u001b[0m\u001b[1;33m\u001b[0m\u001b[0m\n\u001b[0m\u001b[0;32m      2\u001b[0m \u001b[0ma\u001b[0m\u001b[1;33m\u001b[0m\u001b[1;33m\u001b[0m\u001b[0m\n",
      "\u001b[1;31mTypeError\u001b[0m: 'tuple' object does not support item assignment"
     ]
    }
   ],
   "source": [
    "a[-1][-1]=500\n",
    "a               # As 'tuples' i.e., (4,5) is immutable"
   ]
  },
  {
   "cell_type": "code",
   "execution_count": 26,
   "id": "9dedab0c",
   "metadata": {},
   "outputs": [],
   "source": [
    "# Q3> "
   ]
  },
  {
   "cell_type": "code",
   "execution_count": 28,
   "id": "41e5fc3a",
   "metadata": {},
   "outputs": [
    {
     "data": {
      "text/plain": [
       "([1, 2], [3, 4])"
      ]
     },
     "execution_count": 28,
     "metadata": {},
     "output_type": "execute_result"
    }
   ],
   "source": [
    "a=[1,2]\n",
    "b=[3,4]\n",
    "\n",
    "c=(a,b)\n",
    "c"
   ]
  },
  {
   "cell_type": "code",
   "execution_count": 29,
   "id": "5cec8cf3",
   "metadata": {},
   "outputs": [
    {
     "data": {
      "text/plain": [
       "2972556615112"
      ]
     },
     "execution_count": 29,
     "metadata": {},
     "output_type": "execute_result"
    }
   ],
   "source": [
    "id(a)"
   ]
  },
  {
   "cell_type": "code",
   "execution_count": 30,
   "id": "82de34cb",
   "metadata": {},
   "outputs": [
    {
     "data": {
      "text/plain": [
       "2972557046856"
      ]
     },
     "execution_count": 30,
     "metadata": {},
     "output_type": "execute_result"
    }
   ],
   "source": [
    "id(b)"
   ]
  },
  {
   "cell_type": "code",
   "execution_count": 31,
   "id": "76960051",
   "metadata": {},
   "outputs": [
    {
     "data": {
      "text/plain": [
       "2972557012872"
      ]
     },
     "execution_count": 31,
     "metadata": {},
     "output_type": "execute_result"
    }
   ],
   "source": [
    "id(c)"
   ]
  },
  {
   "cell_type": "code",
   "execution_count": 33,
   "id": "ffc74755",
   "metadata": {},
   "outputs": [
    {
     "data": {
      "text/plain": [
       "([100, 2], [3, 4])"
      ]
     },
     "execution_count": 33,
     "metadata": {},
     "output_type": "execute_result"
    }
   ],
   "source": [
    "c[0][0]=100\n",
    "c"
   ]
  },
  {
   "cell_type": "code",
   "execution_count": 34,
   "id": "df21a95b",
   "metadata": {},
   "outputs": [
    {
     "data": {
      "text/plain": [
       "2972556615112"
      ]
     },
     "execution_count": 34,
     "metadata": {},
     "output_type": "execute_result"
    }
   ],
   "source": [
    "id(a)"
   ]
  },
  {
   "cell_type": "code",
   "execution_count": 35,
   "id": "6f538be0",
   "metadata": {},
   "outputs": [
    {
     "data": {
      "text/plain": [
       "2972557012872"
      ]
     },
     "execution_count": 35,
     "metadata": {},
     "output_type": "execute_result"
    }
   ],
   "source": [
    "id(c)   # 'List' is changed i.e., [1,2]-->[100,2] , so no error and id(a) and id(c) don't change"
   ]
  },
  {
   "cell_type": "code",
   "execution_count": 36,
   "id": "80b18e0c",
   "metadata": {},
   "outputs": [],
   "source": [
    "# In 'Lists', if we append,edit,extend,etc then memory address is not changed.\n",
    "# But if we 'concatenate' in Lists, the memory address changes."
   ]
  },
  {
   "cell_type": "code",
   "execution_count": 3,
   "id": "18eccd5a",
   "metadata": {},
   "outputs": [],
   "source": [
    "L=[1,2,3]"
   ]
  },
  {
   "cell_type": "code",
   "execution_count": 4,
   "id": "b3ec1c80",
   "metadata": {},
   "outputs": [
    {
     "data": {
      "text/plain": [
       "1630964273672"
      ]
     },
     "execution_count": 4,
     "metadata": {},
     "output_type": "execute_result"
    }
   ],
   "source": [
    "id(L)"
   ]
  },
  {
   "cell_type": "code",
   "execution_count": 5,
   "id": "1eed6172",
   "metadata": {},
   "outputs": [
    {
     "data": {
      "text/plain": [
       "[1, 2, 3, 4, 5]"
      ]
     },
     "execution_count": 5,
     "metadata": {},
     "output_type": "execute_result"
    }
   ],
   "source": [
    "L=L+[4,5]\n",
    "L"
   ]
  },
  {
   "cell_type": "code",
   "execution_count": 6,
   "id": "faaa0ca8",
   "metadata": {},
   "outputs": [
    {
     "data": {
      "text/plain": [
       "1630964661320"
      ]
     },
     "execution_count": 6,
     "metadata": {},
     "output_type": "execute_result"
    }
   ],
   "source": [
    "id(L)      # the memory address changes"
   ]
  },
  {
   "cell_type": "markdown",
   "id": "56ece553",
   "metadata": {},
   "source": [
    "# Functions\n",
    "A function is a block of code which only runs when it is called. You can pass data, known as parameters into a function. A function can return data as a result."
   ]
  },
  {
   "cell_type": "code",
   "execution_count": 2,
   "id": "6f1687bb",
   "metadata": {},
   "outputs": [],
   "source": [
    "# Two characteristics :-\n",
    "    # Abstraction : Process of removing unneccesary detail and focusing on the overview.\n",
    "    # Decomposition: Process of breaking large, complex problems into smaller, manageable parts."
   ]
  },
  {
   "cell_type": "code",
   "execution_count": 51,
   "id": "64e2659c",
   "metadata": {},
   "outputs": [
    {
     "name": "stdout",
     "output_type": "stream",
     "text": [
      "odd\n",
      "even\n",
      "odd\n",
      "even\n",
      "odd\n",
      "even\n",
      "odd\n",
      "even\n",
      "odd\n",
      "even\n"
     ]
    }
   ],
   "source": [
    "def is_even(number):\n",
    "    '''\n",
    "    This function tells if a given number is odd or even\n",
    "    Input-any valid integer\n",
    "    Output-odd/even\n",
    "    Created by- Shayema\n",
    "    Last edited- 26 March 2024\n",
    "    '''\n",
    "    \n",
    "    if number%2==0:\n",
    "        return 'even'\n",
    "    else:\n",
    "        return 'odd'\n",
    "    \n",
    "for i in range(1,11):\n",
    "    print(is_even(i))"
   ]
  },
  {
   "cell_type": "code",
   "execution_count": 55,
   "id": "e8cbe945",
   "metadata": {},
   "outputs": [
    {
     "name": "stdout",
     "output_type": "stream",
     "text": [
      "odd\n",
      "even\n",
      "odd\n",
      "even\n",
      "odd\n",
      "even\n",
      "odd\n",
      "even\n",
      "odd\n",
      "even\n",
      "\n",
      "    This function tells if a given number is odd or even\n",
      "    Input-any valid integer\n",
      "    Output-odd/even\n",
      "    Created by- Shayema\n",
      "    Last edited- 26 March 2024\n",
      "    \n"
     ]
    }
   ],
   "source": [
    "def is_even(number):\n",
    "    '''\n",
    "    This function tells if a given number is odd or even\n",
    "    Input-any valid integer\n",
    "    Output-odd/even\n",
    "    Created by- Shayema\n",
    "    Last edited- 26 March 2024\n",
    "    '''\n",
    "    \n",
    "    if number%2==0:\n",
    "        return 'even'\n",
    "    else:\n",
    "        return 'odd'\n",
    "    \n",
    "for i in range(1,11):\n",
    "    print(is_even(i))\n",
    "    \n",
    "print(is_even.__doc__)         # . _ _ doc _ _ "
   ]
  },
  {
   "cell_type": "code",
   "execution_count": 56,
   "id": "6370ed17",
   "metadata": {},
   "outputs": [
    {
     "data": {
      "text/plain": [
       "\"print(value, ..., sep=' ', end='\\\\n', file=sys.stdout, flush=False)\\n\\nPrints the values to a stream, or to sys.stdout by default.\\nOptional keyword arguments:\\nfile:  a file-like object (stream); defaults to the current sys.stdout.\\nsep:   string inserted between values, default a space.\\nend:   string appended after the last value, default a newline.\\nflush: whether to forcibly flush the stream.\""
      ]
     },
     "execution_count": 56,
     "metadata": {},
     "output_type": "execute_result"
    }
   ],
   "source": [
    "print.__doc__     # We can print the documentation of any function"
   ]
  },
  {
   "cell_type": "code",
   "execution_count": 57,
   "id": "32d6dad6",
   "metadata": {},
   "outputs": [
    {
     "data": {
      "text/plain": [
       "\"type(object_or_name, bases, dict)\\ntype(object) -> the object's type\\ntype(name, bases, dict) -> a new type\""
      ]
     },
     "execution_count": 57,
     "metadata": {},
     "output_type": "execute_result"
    }
   ],
   "source": [
    "type.__doc__     # We can print the documentation of any function"
   ]
  },
  {
   "cell_type": "code",
   "execution_count": 52,
   "id": "e7b3b379",
   "metadata": {},
   "outputs": [
    {
     "data": {
      "text/plain": [
       "'odd'"
      ]
     },
     "execution_count": 52,
     "metadata": {},
     "output_type": "execute_result"
    }
   ],
   "source": [
    "def is_even(number):\n",
    "    \n",
    "    if number%2==0:\n",
    "        return 'even'\n",
    "    else:\n",
    "        return 'odd'\n",
    "    \n",
    "is_even(3)"
   ]
  },
  {
   "cell_type": "code",
   "execution_count": 53,
   "id": "0e976d8b",
   "metadata": {},
   "outputs": [
    {
     "data": {
      "text/plain": [
       "'odd'"
      ]
     },
     "execution_count": 53,
     "metadata": {},
     "output_type": "execute_result"
    }
   ],
   "source": [
    "def is_even(number):\n",
    "    \n",
    "    if number%2==0:\n",
    "        return 'even'\n",
    "    else:\n",
    "        return 'odd'\n",
    "    \n",
    "is_even(number=5)"
   ]
  },
  {
   "cell_type": "code",
   "execution_count": 54,
   "id": "c16449eb",
   "metadata": {},
   "outputs": [
    {
     "name": "stdout",
     "output_type": "stream",
     "text": [
      "enter any valid integer: 8\n"
     ]
    },
    {
     "data": {
      "text/plain": [
       "'even'"
      ]
     },
     "execution_count": 54,
     "metadata": {},
     "output_type": "execute_result"
    }
   ],
   "source": [
    "number=int(input(\"enter any valid integer: \"))\n",
    "def is_even(number):\n",
    "    \n",
    "    if number%2==0:\n",
    "        return 'even'\n",
    "    else:\n",
    "        return 'odd'\n",
    "    \n",
    "is_even(number)"
   ]
  },
  {
   "cell_type": "markdown",
   "id": "9e1214fc",
   "metadata": {},
   "source": [
    "# Parameters Vs Arguments\n",
    "The terms parameters and argument can be used for the same thing : information that are passed into a function. \n",
    "\n",
    "From a function's perspective: A parameter is the variable listed inside the parentheses in the function defination.\n",
    "\n",
    "An argument is the value that are sent to the function when it is called.\n",
    "\n",
    "Example;\n",
    "def is_even(number):\n",
    "    if number%2==0:\n",
    "        return 'even'\n",
    "    else:\n",
    "        return 'odd'    \n",
    "x=is_even(4)\n",
    "print(4)\n",
    "\n",
    "Here, number---->parameter & 4---->argument \n",
    "\n",
    "\n",
    "Real life example; In game, difficulty level--->parameter & hard,medium,easy--->arguments\n"
   ]
  },
  {
   "cell_type": "markdown",
   "id": "bf0d07fd",
   "metadata": {},
   "source": [
    "# Types of arguments\n",
    "1.Default argumnets\n",
    "\n",
    "2.Positional arguments\n",
    "\n",
    "3.Keyword arguments \n",
    "\n",
    "4.Arbitrary arguments "
   ]
  },
  {
   "cell_type": "markdown",
   "id": "5b1404ab",
   "metadata": {},
   "source": [
    "# 1.Default arguments\n",
    "assign default values to the argument using '=' at the time of function defination"
   ]
  },
  {
   "cell_type": "code",
   "execution_count": 7,
   "id": "3218ee5a",
   "metadata": {},
   "outputs": [],
   "source": [
    "def power(a,b):\n",
    "    return a**b"
   ]
  },
  {
   "cell_type": "code",
   "execution_count": 8,
   "id": "57127c88",
   "metadata": {},
   "outputs": [
    {
     "data": {
      "text/plain": [
       "8"
      ]
     },
     "execution_count": 8,
     "metadata": {},
     "output_type": "execute_result"
    }
   ],
   "source": [
    "power(2,3)"
   ]
  },
  {
   "cell_type": "code",
   "execution_count": 9,
   "id": "e8e7ef34",
   "metadata": {},
   "outputs": [
    {
     "data": {
      "text/plain": [
       "9"
      ]
     },
     "execution_count": 9,
     "metadata": {},
     "output_type": "execute_result"
    }
   ],
   "source": [
    "power(3,2)"
   ]
  },
  {
   "cell_type": "code",
   "execution_count": 10,
   "id": "d442c2c1",
   "metadata": {},
   "outputs": [
    {
     "ename": "TypeError",
     "evalue": "power() missing 1 required positional argument: 'b'",
     "output_type": "error",
     "traceback": [
      "\u001b[1;31m---------------------------------------------------------------------------\u001b[0m",
      "\u001b[1;31mTypeError\u001b[0m                                 Traceback (most recent call last)",
      "\u001b[1;32m~\\AppData\\Local\\Temp\\ipykernel_6160\\512475094.py\u001b[0m in \u001b[0;36m<module>\u001b[1;34m\u001b[0m\n\u001b[1;32m----> 1\u001b[1;33m \u001b[0mpower\u001b[0m\u001b[1;33m(\u001b[0m\u001b[1;36m3\u001b[0m\u001b[1;33m)\u001b[0m\u001b[1;33m\u001b[0m\u001b[1;33m\u001b[0m\u001b[0m\n\u001b[0m",
      "\u001b[1;31mTypeError\u001b[0m: power() missing 1 required positional argument: 'b'"
     ]
    }
   ],
   "source": [
    "power(3)   # because our function is designed to take 2 inputs"
   ]
  },
  {
   "cell_type": "code",
   "execution_count": 11,
   "id": "d1eba446",
   "metadata": {},
   "outputs": [
    {
     "ename": "TypeError",
     "evalue": "power() missing 2 required positional arguments: 'a' and 'b'",
     "output_type": "error",
     "traceback": [
      "\u001b[1;31m---------------------------------------------------------------------------\u001b[0m",
      "\u001b[1;31mTypeError\u001b[0m                                 Traceback (most recent call last)",
      "\u001b[1;32m~\\AppData\\Local\\Temp\\ipykernel_6160\\964676364.py\u001b[0m in \u001b[0;36m<module>\u001b[1;34m\u001b[0m\n\u001b[1;32m----> 1\u001b[1;33m \u001b[0mpower\u001b[0m\u001b[1;33m(\u001b[0m\u001b[1;33m)\u001b[0m\u001b[1;33m\u001b[0m\u001b[1;33m\u001b[0m\u001b[0m\n\u001b[0m",
      "\u001b[1;31mTypeError\u001b[0m: power() missing 2 required positional arguments: 'a' and 'b'"
     ]
    }
   ],
   "source": [
    "power()   # because our function is designed to take 2 inputs"
   ]
  },
  {
   "cell_type": "code",
   "execution_count": 12,
   "id": "fe0d28f3",
   "metadata": {},
   "outputs": [],
   "source": [
    "# The solution is \"Default argument\""
   ]
  },
  {
   "cell_type": "code",
   "execution_count": 25,
   "id": "74d74440",
   "metadata": {},
   "outputs": [],
   "source": [
    "def power(a=1,b=1):             # when a is not given then default value(a)=1\n",
    "    return a**b                 # when b is not given then default value(b)=1\n",
    "                                # power(2)--------> a**b=2**1=2\n",
    "                                # power()---------> a**b=1**1=1"
   ]
  },
  {
   "cell_type": "code",
   "execution_count": 26,
   "id": "d45c19e5",
   "metadata": {},
   "outputs": [
    {
     "data": {
      "text/plain": [
       "8"
      ]
     },
     "execution_count": 26,
     "metadata": {},
     "output_type": "execute_result"
    }
   ],
   "source": [
    "power(2,3)"
   ]
  },
  {
   "cell_type": "code",
   "execution_count": 27,
   "id": "fcd4be90",
   "metadata": {},
   "outputs": [
    {
     "data": {
      "text/plain": [
       "2"
      ]
     },
     "execution_count": 27,
     "metadata": {},
     "output_type": "execute_result"
    }
   ],
   "source": [
    "power(2)"
   ]
  },
  {
   "cell_type": "code",
   "execution_count": 28,
   "id": "222b49d8",
   "metadata": {},
   "outputs": [
    {
     "data": {
      "text/plain": [
       "1"
      ]
     },
     "execution_count": 28,
     "metadata": {},
     "output_type": "execute_result"
    }
   ],
   "source": [
    "power()"
   ]
  },
  {
   "cell_type": "markdown",
   "id": "3e6aa904",
   "metadata": {},
   "source": [
    "# 2.Positional arguments \n",
    "values get assigned as per the sequence"
   ]
  },
  {
   "cell_type": "code",
   "execution_count": 29,
   "id": "d228a6fa",
   "metadata": {},
   "outputs": [
    {
     "data": {
      "text/plain": [
       "8"
      ]
     },
     "execution_count": 29,
     "metadata": {},
     "output_type": "execute_result"
    }
   ],
   "source": [
    "power(2,3)"
   ]
  },
  {
   "cell_type": "code",
   "execution_count": 30,
   "id": "84254c86",
   "metadata": {},
   "outputs": [],
   "source": [
    "# question is why a=2 , b=3 ?????\n",
    "# because of the position, a comes first then b \n",
    "# This is positional argumnets "
   ]
  },
  {
   "cell_type": "markdown",
   "id": "1745ceb2",
   "metadata": {},
   "source": [
    "# 3.Keyword argumnets \n",
    "those arguments where values get assigned to the arguments by their keyword"
   ]
  },
  {
   "cell_type": "code",
   "execution_count": 31,
   "id": "06793956",
   "metadata": {},
   "outputs": [
    {
     "data": {
      "text/plain": [
       "9"
      ]
     },
     "execution_count": 31,
     "metadata": {},
     "output_type": "execute_result"
    }
   ],
   "source": [
    "power(b=2,a=3)"
   ]
  },
  {
   "cell_type": "code",
   "execution_count": 32,
   "id": "0d94ee06",
   "metadata": {},
   "outputs": [],
   "source": [
    "# it is used when we have a function with many parameters and we don't remember the order of parameters "
   ]
  },
  {
   "cell_type": "markdown",
   "id": "dc53b18f",
   "metadata": {},
   "source": [
    "# 4.Arbitrary arguments"
   ]
  },
  {
   "cell_type": "code",
   "execution_count": null,
   "id": "a9dfccaf",
   "metadata": {},
   "outputs": [],
   "source": []
  },
  {
   "cell_type": "code",
   "execution_count": null,
   "id": "50ac27a8",
   "metadata": {},
   "outputs": [],
   "source": []
  },
  {
   "cell_type": "code",
   "execution_count": null,
   "id": "ba3c13c1",
   "metadata": {},
   "outputs": [],
   "source": []
  },
  {
   "cell_type": "code",
   "execution_count": null,
   "id": "05f64420",
   "metadata": {},
   "outputs": [],
   "source": []
  },
  {
   "cell_type": "code",
   "execution_count": null,
   "id": "19644e47",
   "metadata": {},
   "outputs": [],
   "source": []
  },
  {
   "cell_type": "code",
   "execution_count": null,
   "id": "0645fe71",
   "metadata": {},
   "outputs": [],
   "source": []
  },
  {
   "cell_type": "code",
   "execution_count": null,
   "id": "314588fc",
   "metadata": {},
   "outputs": [],
   "source": []
  },
  {
   "cell_type": "code",
   "execution_count": null,
   "id": "eeeac463",
   "metadata": {},
   "outputs": [],
   "source": []
  },
  {
   "cell_type": "code",
   "execution_count": null,
   "id": "df01a144",
   "metadata": {},
   "outputs": [],
   "source": []
  },
  {
   "cell_type": "code",
   "execution_count": null,
   "id": "cebe2a5c",
   "metadata": {},
   "outputs": [],
   "source": []
  },
  {
   "cell_type": "code",
   "execution_count": null,
   "id": "b2438ce0",
   "metadata": {},
   "outputs": [],
   "source": []
  }
 ],
 "metadata": {
  "kernelspec": {
   "display_name": "Python 3 (ipykernel)",
   "language": "python",
   "name": "python3"
  },
  "language_info": {
   "codemirror_mode": {
    "name": "ipython",
    "version": 3
   },
   "file_extension": ".py",
   "mimetype": "text/x-python",
   "name": "python",
   "nbconvert_exporter": "python",
   "pygments_lexer": "ipython3",
   "version": "3.7.7"
  }
 },
 "nbformat": 4,
 "nbformat_minor": 5
}
